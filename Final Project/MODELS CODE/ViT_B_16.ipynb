{
  "cells": [
    {
      "cell_type": "markdown",
      "metadata": {
        "id": "3h4j2-ChVg0k"
      },
      "source": [
        "# ***CODE FOR THE VIT_B_16 MODEL***"
      ]
    },
    {
      "cell_type": "markdown",
      "metadata": {
        "id": "aiCVEZnHbrdS"
      },
      "source": [
        "One of the models used in our research was the Vision Transformer ViT_B_16 (``google/vit-base-patch16-224-in21k``), which we took from the timm library. This model comes pre-trained on the ImageNet-21k dataset, providing a robust starting point for our fine-tuning and evaluation tasks.\n",
        "\n"
      ]
    },
    {
      "cell_type": "code",
      "execution_count": null,
      "metadata": {
        "id": "F4dYmbYTeEW-"
      },
      "outputs": [],
      "source": [
        "#! pip install transformers\n",
        "#! pip install torch\n",
        "#! pip install torchvision\n",
        "#! pip install torch.utils\n",
        "#! pip install datasets\n",
        "#! pip install optuna\n",
        "#! pip install fvcore\n",
        "#! pip install optuna\n",
        "\n",
        "import fvcore\n",
        "from fvcore.nn import FlopCountAnalysis\n",
        "import torch\n",
        "import timm\n",
        "from transformers import ViTForImageClassification, ViTConfig, get_cosine_schedule_with_warmup\n",
        "from torchvision import datasets, transforms\n",
        "from torch.utils.data import DataLoader\n",
        "import optuna\n",
        "from torch.optim import SGD\n",
        "import pandas as pd\n",
        "from torchvision.transforms import ToPILImage, Normalize\n",
        "import numpy as np\n",
        "import matplotlib.pyplot as plt\n",
        "from sklearn.metrics import confusion_matrix\n",
        "from collections import defaultdict\n",
        "import pandas as pd"
      ]
    },
    {
      "cell_type": "code",
      "source": [
        "from google.colab import drive\n",
        "drive.mount('/content/drive')"
      ],
      "metadata": {
        "id": "YGLk6Xrceqqy"
      },
      "execution_count": null,
      "outputs": []
    },
    {
      "cell_type": "markdown",
      "metadata": {
        "id": "0ZWtQzuSeEW_"
      },
      "source": [
        "### ***Customizing the Models for Fine-Tuning***\n",
        "\n",
        "After loading the model, we adjusted the classification head an freezed all the layers except for the head."
      ]
    },
    {
      "cell_type": "code",
      "execution_count": null,
      "metadata": {
        "colab": {
          "base_uri": "https://localhost:8080/",
          "height": 986,
          "referenced_widgets": [
            "ac9370f1a60d459b97c3ee7f80c8efd9",
            "5e58e598396a4d9d89312f57eed4a468",
            "33a37830996e4375b6cf2fdcfa7803e7",
            "801f2aeb1fc947bfaf95c9bbed76b491",
            "27b4bd8bded647ca9963918eb648595f",
            "1e5f760ff9ff402483c3a6cb4e441466",
            "de96f897af0946fd9b27664c85639737",
            "cffa3ee98aa9404bb4297f169e3d9d17",
            "9b1967ce9716407fad5041cad26daf02",
            "cf65915252ac43a2b713bccfffc5c1b7",
            "2fd37fee68e44b27bf6f653cd02ab9b2",
            "2d7efea9fe0b4dd49a21da983eae2c8a",
            "56a4d51683f842cc942f4c2a2bcc0385",
            "250a9eb1d59b4836b9a0f408561bb479",
            "8f0a54d2eed149b090ab8b478997e8c3",
            "848cf47058cf4e389d637c9fcaf96476",
            "26407771b19d4cf19f9cf44e8677c62f",
            "38872a5821a54e7f855129cf3cbab6e1",
            "b61e3e50ed9d493a975e9f14d04b418a",
            "2df6048c026043a7acac09196a9549ff",
            "4111902af1cf46649262dba495b2ed3b",
            "15039341d20241be8617782322474b59"
          ]
        },
        "id": "vv4N0SHZeEW_",
        "outputId": "f47dee66-a949-4d37-9079-b20fbf0e282c"
      },
      "outputs": [
        {
          "name": "stderr",
          "output_type": "stream",
          "text": [
            "/usr/local/lib/python3.10/dist-packages/huggingface_hub/utils/_auth.py:94: UserWarning: \n",
            "The secret `HF_TOKEN` does not exist in your Colab secrets.\n",
            "To authenticate with the Hugging Face Hub, create a token in your settings tab (https://huggingface.co/settings/tokens), set it as secret in your Google Colab and restart your session.\n",
            "You will be able to reuse this secret in all of your notebooks.\n",
            "Please note that authentication is recommended but still optional to access public models or datasets.\n",
            "  warnings.warn(\n"
          ]
        },
        {
          "data": {
            "application/vnd.jupyter.widget-view+json": {
              "model_id": "ac9370f1a60d459b97c3ee7f80c8efd9",
              "version_major": 2,
              "version_minor": 0
            },
            "text/plain": [
              "config.json:   0%|          | 0.00/502 [00:00<?, ?B/s]"
            ]
          },
          "metadata": {},
          "output_type": "display_data"
        },
        {
          "name": "stdout",
          "output_type": "stream",
          "text": [
            "Updated Hidden Dropout Probability: 0.1\n",
            "Updated Attention Dropout Probability: 0.1\n",
            "Updated Model resolution size: 384\n"
          ]
        },
        {
          "data": {
            "application/vnd.jupyter.widget-view+json": {
              "model_id": "2d7efea9fe0b4dd49a21da983eae2c8a",
              "version_major": 2,
              "version_minor": 0
            },
            "text/plain": [
              "model.safetensors:   0%|          | 0.00/346M [00:00<?, ?B/s]"
            ]
          },
          "metadata": {},
          "output_type": "display_data"
        },
        {
          "name": "stderr",
          "output_type": "stream",
          "text": [
            "Some weights of ViTForImageClassification were not initialized from the model checkpoint at google/vit-base-patch16-224-in21k and are newly initialized: ['classifier.bias', 'classifier.weight']\n",
            "You should probably TRAIN this model on a down-stream task to be able to use it for predictions and inference.\n"
          ]
        },
        {
          "name": "stdout",
          "output_type": "stream",
          "text": [
            "ViTForImageClassification(\n",
            "  (vit): ViTModel(\n",
            "    (embeddings): ViTEmbeddings(\n",
            "      (patch_embeddings): ViTPatchEmbeddings(\n",
            "        (projection): Conv2d(3, 768, kernel_size=(16, 16), stride=(16, 16))\n",
            "      )\n",
            "      (dropout): Dropout(p=0.0, inplace=False)\n",
            "    )\n",
            "    (encoder): ViTEncoder(\n",
            "      (layer): ModuleList(\n",
            "        (0-11): 12 x ViTLayer(\n",
            "          (attention): ViTSdpaAttention(\n",
            "            (attention): ViTSdpaSelfAttention(\n",
            "              (query): Linear(in_features=768, out_features=768, bias=True)\n",
            "              (key): Linear(in_features=768, out_features=768, bias=True)\n",
            "              (value): Linear(in_features=768, out_features=768, bias=True)\n",
            "              (dropout): Dropout(p=0.0, inplace=False)\n",
            "            )\n",
            "            (output): ViTSelfOutput(\n",
            "              (dense): Linear(in_features=768, out_features=768, bias=True)\n",
            "              (dropout): Dropout(p=0.0, inplace=False)\n",
            "            )\n",
            "          )\n",
            "          (intermediate): ViTIntermediate(\n",
            "            (dense): Linear(in_features=768, out_features=3072, bias=True)\n",
            "            (intermediate_act_fn): GELUActivation()\n",
            "          )\n",
            "          (output): ViTOutput(\n",
            "            (dense): Linear(in_features=3072, out_features=768, bias=True)\n",
            "            (dropout): Dropout(p=0.0, inplace=False)\n",
            "          )\n",
            "          (layernorm_before): LayerNorm((768,), eps=1e-12, elementwise_affine=True)\n",
            "          (layernorm_after): LayerNorm((768,), eps=1e-12, elementwise_affine=True)\n",
            "        )\n",
            "      )\n",
            "    )\n",
            "    (layernorm): LayerNorm((768,), eps=1e-12, elementwise_affine=True)\n",
            "  )\n",
            "  (classifier): Linear(in_features=768, out_features=20, bias=True)\n",
            ")\n"
          ]
        }
      ],
      "source": [
        "num_classes = 20\n",
        "\n",
        "# Let's load the model\n",
        "model = ViTForImageClassification.from_pretrained('google/vit-base-patch16-224-in21k', num_labels=num_classes)\n",
        "\n",
        "#Let's have a look at the model's structure\n",
        "print(model)"
      ]
    },
    {
      "cell_type": "code",
      "execution_count": null,
      "metadata": {
        "id": "JAvIVW1veEXA"
      },
      "outputs": [],
      "source": [
        "# Freeze all layers except the classification head\n",
        "for param in model.parameters():\n",
        "    param.requires_grad = False  # Freeze all layers\n",
        "\n",
        "# Unfreeze the classification head\n",
        "for param in model.classifier.parameters():  # Adjusted to the correct attribute\n",
        "    param.requires_grad = True"
      ]
    },
    {
      "cell_type": "code",
      "execution_count": null,
      "metadata": {
        "id": "RylJsSomRqH-"
      },
      "outputs": [],
      "source": [
        "device = torch.device(\"cuda\" if torch.cuda.is_available() else \"cpu\")\n",
        "model = model.to(device)"
      ]
    },
    {
      "cell_type": "markdown",
      "metadata": {
        "id": "0shx4xyDWYLx"
      },
      "source": [
        "### ***Preparing the Dataset***\n",
        "\n",
        "After customizing the models, we also preprocessed the images to ensure compatibility. Each image was resized to (224*224) pixels to standardize the input dimensions, and the pixel values were normalized using a mean of \\([0.485, 0.456, 0.406]\\) and a standard deviation of \\([0.229, 0.224, 0.225]\\), standerd values for ImageNet pre-trained models."
      ]
    },
    {
      "cell_type": "code",
      "execution_count": null,
      "metadata": {
        "id": "spPd-OYTMxfB"
      },
      "outputs": [],
      "source": [
        "# Preprocessing transforms\n",
        "transform = transforms.Compose([\n",
        "    transforms.Resize((224, 224)),\n",
        "    transforms.ToTensor(),\n",
        "    transforms.Normalize(mean=[0.485, 0.456, 0.406], std=[0.229, 0.224, 0.225]),\n",
        "])\n",
        "\n",
        "#Load datasets\n",
        "train_dataset = datasets.ImageFolder(r\"/content/drive/MyDrive/AML/dataset/final_dataset/Subsample_20_classes_spliited/subset_only_20_train\", transform=transform)\n",
        "val_dataset = datasets.ImageFolder(r\"/content/drive/MyDrive/AML/dataset/final_dataset/Subsample_20_classes_spliited/subset_only_20_val\", transform=transform)\n",
        "test_dataset = datasets.ImageFolder(r\"/content/drive/MyDrive/AML/dataset/final_dataset/Subsample_20_classes_spliited/subset_only_20_test\", transform=transform)\n",
        "\n",
        "batch_size = 32\n",
        "\n",
        "train_loader = DataLoader(train_dataset, batch_size=batch_size, shuffle=True, num_workers=2)\n",
        "val_loader = DataLoader(val_dataset, batch_size=batch_size, shuffle=False, num_workers=2)\n",
        "test_loader = DataLoader(test_dataset, batch_size=batch_size, shuffle=False, num_workers=2)"
      ]
    },
    {
      "cell_type": "markdown",
      "source": [
        "#### ***FLOPs***\n",
        "\n",
        "Then we computed the FLOPs (Floating Point Operations) of the models to evaluate their computational complexity and efficiency. This metric provides insight into the amount of computational effort required for a forward pass, helping us compare the performance and resource demands of different models.<br> It will be used to make an accuracy vs FLOPs graph later."
      ],
      "metadata": {
        "id": "7V012J3AfLEX"
      }
    },
    {
      "cell_type": "code",
      "execution_count": null,
      "metadata": {
        "colab": {
          "base_uri": "https://localhost:8080/"
        },
        "id": "peMxx6iyqFFi",
        "outputId": "5f0443a4-ba38-4cef-a825-e0d6c81946e9"
      },
      "outputs": [
        {
          "name": "stderr",
          "output_type": "stream",
          "text": [
            "WARNING:fvcore.nn.jit_analysis:Unsupported operator aten::add encountered 25 time(s)\n",
            "WARNING:fvcore.nn.jit_analysis:Unsupported operator aten::scaled_dot_product_attention encountered 12 time(s)\n",
            "WARNING:fvcore.nn.jit_analysis:Unsupported operator aten::gelu encountered 12 time(s)\n",
            "WARNING:fvcore.nn.jit_analysis:The following submodules of the model were never called during the trace of the graph. They may be unused, or they were accessed by direct calls to .forward() or via other python methods. In the latter case they will have zeros for statistics, though their statistics will still contribute to their parent calling module.\n",
            "vit.encoder.layer.0.attention.attention.dropout, vit.encoder.layer.1.attention.attention.dropout, vit.encoder.layer.10.attention.attention.dropout, vit.encoder.layer.11.attention.attention.dropout, vit.encoder.layer.2.attention.attention.dropout, vit.encoder.layer.3.attention.attention.dropout, vit.encoder.layer.4.attention.attention.dropout, vit.encoder.layer.5.attention.attention.dropout, vit.encoder.layer.6.attention.attention.dropout, vit.encoder.layer.7.attention.attention.dropout, vit.encoder.layer.8.attention.attention.dropout, vit.encoder.layer.9.attention.attention.dropout\n"
          ]
        },
        {
          "name": "stdout",
          "output_type": "stream",
          "text": [
            "Total FLOPs for one forward pass: 539733123072 FLOPs\n",
            "Total FLOPs for fine-tuning: 404799842304000.0\n"
          ]
        }
      ],
      "source": [
        "for images, _ in test_loader:\n",
        "    input_tensor = images.to(device)\n",
        "    break\n",
        "\n",
        "# FLOPs computation\n",
        "flops = FlopCountAnalysis(model, input_tensor)\n",
        "print(f\"Total FLOPs for one forward pass: {flops.total()} FLOPs\")\n",
        "\n",
        "dataset_size = len(train_dataset)\n",
        "num_epochs = 10\n",
        "batch_size = 32\n",
        "\n",
        "total_flops = (flops.total() * dataset_size * num_epochs) / batch_size\n",
        "print(f\"Total FLOPs for fine-tuning: {total_flops}\")"
      ]
    },
    {
      "cell_type": "markdown",
      "metadata": {
        "id": "T8zP9DvLWfCS"
      },
      "source": [
        "### ***FINE-TUNING***\n",
        "\n",
        "### ***Fine-tuning configurations***\n",
        "\n",
        "We started with the hyperparameter values for fine-tuning that are detailed in the appendix of the [paper](https://arxiv.org/abs/2010.11929), Section B.1.1:\n",
        "\n",
        "- ***Learning Rate:***  \n",
        "  The learning rate is managed using a **cosine learning rate decay**, implemented in the `create_learning_rate_scheduler()` function found in `utils.py`. For our experiment, we use a base learning rate of **0.03** with cosine decay, as described in the paper.  \n",
        "\n",
        "- ***Batch:***  \n",
        "  The batch size is defined in the `common.py` file under `config.batch`. Initially, we set a batch size of **218** due to computational power and GPU memory constraints. The default batch size in the repository (`512`) can be used if memory allows.  \n",
        "\n",
        "- ***Steps/Epochs:***  \n",
        "  We fine-tune the model for **10,000 steps** or equivalent epochs depending on the batch size. This is specified in `common.py` under `config.total_steps`.  \n",
        "\n",
        "- ***Regularization:***  \n",
        "  No weight decay is applied, as specified in the paper.  \n",
        "\n",
        "- ***Optimizer:***  \n",
        "  The optimizer is defined in the `train.py` script and utilizes **SGD with momentum** (momentum = **0.9**), matching the paper's recommendations. This is configured using the `optax` library, specifically in the `tx` optimizer setup.\n",
        "\n",
        "Though, these values were optimized for datasets like ImageNet, and given the differences between the datasets used in the research and Places365 adjustments were made to adapt to the specific characteristics and constraints of our dataset, such as size and computational resources.<br> An automatic hyperparameter tuning was performed with the `optuna library` to asses the best learning rate of the cosine learning rate decay and the momentum of the SGD optimizer."
      ]
    },
    {
      "cell_type": "markdown",
      "source": [
        "Now we can go with the ***automatic hyperparameter tuning***:"
      ],
      "metadata": {
        "id": "50HsqskVfxD6"
      }
    },
    {
      "cell_type": "code",
      "execution_count": null,
      "metadata": {
        "colab": {
          "base_uri": "https://localhost:8080/"
        },
        "id": "bfWQKrj4eEXC",
        "outputId": "a309054c-217e-433e-84a6-32ec2c165f20"
      },
      "outputs": [
        {
          "name": "stderr",
          "output_type": "stream",
          "text": [
            "[I 2024-12-18 15:59:20,216] A new study created in memory with name: no-name-d98eb044-97d7-44a1-9f45-a936b2b61c41\n",
            "<ipython-input-9-19189d32d590>:13: FutureWarning: suggest_loguniform has been deprecated in v3.0.0. This feature will be removed in v6.0.0. See https://github.com/optuna/optuna/releases/tag/v3.0.0. Use suggest_float(..., log=True) instead.\n",
            "  lr = trial.suggest_loguniform('lr', 1e-5, 1e-2)  # Learning rate range\n",
            "<ipython-input-9-19189d32d590>:14: FutureWarning: suggest_uniform has been deprecated in v3.0.0. This feature will be removed in v6.0.0. See https://github.com/optuna/optuna/releases/tag/v3.0.0. Use suggest_float instead.\n",
            "  momentum = trial.suggest_uniform('momentum', 0.7, 0.99)  # Momentum range\n",
            "[I 2024-12-18 16:11:31,746] Trial 0 finished with value: 23.625 and parameters: {'lr': 0.0004347694068289978, 'momentum': 0.7947056688948558}. Best is trial 0 with value: 23.625.\n",
            "[I 2024-12-18 16:14:27,971] Trial 1 finished with value: 76.375 and parameters: {'lr': 0.004653613365042801, 'momentum': 0.7020295776690348}. Best is trial 1 with value: 76.375.\n",
            "[I 2024-12-18 16:17:24,267] Trial 2 finished with value: 76.75 and parameters: {'lr': 0.00019903850113405454, 'momentum': 0.7839032120485541}. Best is trial 2 with value: 76.75.\n",
            "[I 2024-12-18 16:20:20,905] Trial 3 finished with value: 77.625 and parameters: {'lr': 0.00019033506365385682, 'momentum': 0.858291167652156}. Best is trial 3 with value: 77.625.\n",
            "[I 2024-12-18 16:23:16,901] Trial 4 finished with value: 78.0 and parameters: {'lr': 0.00012847381711134862, 'momentum': 0.8427037591751726}. Best is trial 4 with value: 78.0.\n"
          ]
        },
        {
          "name": "stdout",
          "output_type": "stream",
          "text": [
            "Best trial:\n",
            "  Validation Accuracy: 78.0\n",
            "  Best Hyperparameters:\n",
            "    lr: 0.00012847381711134862\n",
            "    momentum: 0.8427037591751726\n"
          ]
        }
      ],
      "source": [
        "# Hyperparameters\n",
        "num_epochs = 5\n",
        "max_grad_norm = 1.0\n",
        "loss_fn = torch.nn.CrossEntropyLoss()\n",
        "\n",
        "# Objective function\n",
        "def objective(trial):\n",
        "\n",
        "    lr = trial.suggest_loguniform('lr', 1e-5, 1e-2)\n",
        "    momentum = trial.suggest_uniform('momentum', 0.7, 0.99)\n",
        "\n",
        "    # Optimizer\n",
        "    optimizer = SGD(model.parameters(), lr=lr, momentum=momentum, weight_decay= 0)\n",
        "\n",
        "    # Scheduler\n",
        "    num_training_steps = len(train_loader) * num_epochs\n",
        "    scheduler = get_cosine_schedule_with_warmup(\n",
        "        optimizer,\n",
        "        num_warmup_steps=100,\n",
        "        num_training_steps=num_training_steps\n",
        "    )\n",
        "\n",
        "    model.to(device)\n",
        "\n",
        "    # Training and validation\n",
        "    for epoch in range(num_epochs):\n",
        "        # Training phase\n",
        "        model.train()\n",
        "        total_loss = 0\n",
        "        for images, labels in train_loader:\n",
        "            images, labels = images.to(device), labels.to(device)\n",
        "\n",
        "            optimizer.zero_grad()\n",
        "            outputs = model(images)\n",
        "            loss = loss_fn(outputs.logits, labels)\n",
        "            loss.backward()\n",
        "\n",
        "            # Gradient clipping\n",
        "            torch.nn.utils.clip_grad_norm_(model.parameters(), max_grad_norm)\n",
        "\n",
        "            optimizer.step()\n",
        "            scheduler.step()\n",
        "            total_loss += loss.item()\n",
        "\n",
        "        # Validation phase\n",
        "        model.eval()\n",
        "        correct = 0\n",
        "        total = 0\n",
        "        with torch.no_grad():\n",
        "            for images, labels in val_loader:\n",
        "                images, labels = images.to(device), labels.to(device)\n",
        "                outputs = model(images)\n",
        "                _, predicted = torch.max(outputs.logits, 1)\n",
        "                total += labels.size(0)\n",
        "                correct += (predicted == labels).sum().item()\n",
        "\n",
        "        validation_accuracy = 100 * correct / total\n",
        "\n",
        "    return validation_accuracy\n",
        "\n",
        "\n",
        "# Optuna study to maximize validation accuracy\n",
        "study = optuna.create_study(direction='maximize')\n",
        "study.optimize(objective, n_trials=5)\n",
        "\n",
        "print(\"Best trial:\")\n",
        "trial = study.best_trial\n",
        "\n",
        "print(f\"  Validation Accuracy: {trial.value}\")\n",
        "print(\"  Best Hyperparameters:\")\n",
        "for key, value in trial.params.items():\n",
        "    print(f\"    {key}: {value}\")\n"
      ]
    },
    {
      "cell_type": "markdown",
      "metadata": {
        "id": "SiSHVJlzeEXC"
      },
      "source": [
        "To see all the hyperpameter combinations for the fine-tuning:"
      ]
    },
    {
      "cell_type": "code",
      "execution_count": null,
      "metadata": {
        "colab": {
          "base_uri": "https://localhost:8080/"
        },
        "id": "T_1n4TOSeEXD",
        "outputId": "a3886bbf-920c-48cb-c175-8942e2965c3d"
      },
      "outputs": [
        {
          "name": "stdout",
          "output_type": "stream",
          "text": [
            "All trials:\n",
            "   Trial Number  Learning Rate (lr)  Momentum Weight Decay  \\\n",
            "0             0            0.000435  0.794706         None   \n",
            "1             1            0.004654  0.702030         None   \n",
            "2             2            0.000199  0.783903         None   \n",
            "3             3            0.000190  0.858291         None   \n",
            "4             4            0.000128  0.842704         None   \n",
            "\n",
            "   Validation Accuracy  \n",
            "0               23.625  \n",
            "1               76.375  \n",
            "2               76.750  \n",
            "3               77.625  \n",
            "4               78.000  \n",
            "Results saved to optuna_hyperparameter_results.csv\n"
          ]
        }
      ],
      "source": [
        "print(\"All trials:\")\n",
        "\n",
        "trial_results = []\n",
        "for trial in study.trials:\n",
        "    trial_results.append({\n",
        "        \"Trial Number\": trial.number,\n",
        "        \"Learning Rate (lr)\": trial.params.get(\"lr\"),\n",
        "        \"Momentum\": trial.params.get(\"momentum\"),\n",
        "        \"Weight Decay\": trial.params.get(\"weight_decay\"),\n",
        "        \"Validation Accuracy\": trial.value\n",
        "    })\n",
        "\n",
        "results_df = pd.DataFrame(trial_results)\n",
        "\n",
        "print(results_df)\n",
        "\n",
        "results_df.to_csv(\"optuna_hyperparameter_results.csv\", index=False)\n",
        "print(\"Results saved to optuna_hyperparameter_results.csv\")\n"
      ]
    },
    {
      "cell_type": "markdown",
      "source": [
        "### ***Training***\n",
        "Then, after finding the best hyperparameter values we can traing the models:"
      ],
      "metadata": {
        "id": "m4hPka66g80K"
      }
    },
    {
      "cell_type": "code",
      "execution_count": null,
      "metadata": {
        "id": "ZgWAknr2O90n"
      },
      "outputs": [],
      "source": [
        "num_epochs = 10\n",
        "max_grad_norm = 1.0\n",
        "lr = 0.00809\n",
        "momentum=0.90903\n",
        "\n",
        "#Optimizer\n",
        "optimizer = torch.optim.SGD(model.parameters(), lr=lr, momentum=momentum, weight_decay=0)\n",
        "loss_fn = torch.nn.CrossEntropyLoss()\n",
        "\n",
        "#Cosine scheduler\n",
        "num_training_steps = len(train_loader) * num_epochs\n",
        "scheduler = get_cosine_schedule_with_warmup(\n",
        "    optimizer,\n",
        "    num_warmup_steps=100,\n",
        "    num_training_steps=num_training_steps\n",
        ")"
      ]
    },
    {
      "cell_type": "code",
      "execution_count": null,
      "metadata": {
        "colab": {
          "base_uri": "https://localhost:8080/"
        },
        "id": "YL1kfySFSDGS",
        "outputId": "a75b2f07-e44c-4ec0-c8a4-d00580804a65"
      },
      "outputs": [
        {
          "name": "stdout",
          "output_type": "stream",
          "text": [
            "Epoch 1/10, Train Loss: 2.8361, Std Dev Accuracy: 27.5383\n",
            "Validation Accuracy: 75.75%\n",
            "Epoch 2/10, Train Loss: 1.9869, Std Dev Accuracy: 6.4245\n",
            "Validation Accuracy: 81.00%\n",
            "Epoch 3/10, Train Loss: 1.2682, Std Dev Accuracy: 6.0228\n",
            "Validation Accuracy: 81.25%\n",
            "Epoch 4/10, Train Loss: 0.9616, Std Dev Accuracy: 5.4086\n",
            "Validation Accuracy: 82.00%\n",
            "Epoch 5/10, Train Loss: 0.8197, Std Dev Accuracy: 5.5939\n",
            "Validation Accuracy: 82.25%\n",
            "Epoch 6/10, Train Loss: 0.7457, Std Dev Accuracy: 5.9794\n",
            "Validation Accuracy: 82.12%\n",
            "Epoch 7/10, Train Loss: 0.7045, Std Dev Accuracy: 5.9939\n",
            "Validation Accuracy: 82.12%\n",
            "Epoch 8/10, Train Loss: 0.6826, Std Dev Accuracy: 6.4437\n",
            "Validation Accuracy: 82.00%\n",
            "Epoch 9/10, Train Loss: 0.6726, Std Dev Accuracy: 6.7785\n",
            "Validation Accuracy: 82.00%\n",
            "Epoch 10/10, Train Loss: 0.6696, Std Dev Accuracy: 5.6467\n",
            "Validation Accuracy: 82.00%\n"
          ]
        }
      ],
      "source": [
        "# Training loop\n",
        "for epoch in range(num_epochs):\n",
        "    model.train()\n",
        "    total_loss = 0\n",
        "    batch_accuracies = []\n",
        "\n",
        "    for images, labels in train_loader:\n",
        "        images = images.to(device)\n",
        "        labels = labels.to(device)\n",
        "\n",
        "        outputs = model(images)\n",
        "        loss = loss_fn(outputs.logits, labels)\n",
        "\n",
        "        optimizer.zero_grad()\n",
        "        loss.backward()\n",
        "        torch.nn.utils.clip_grad_norm_(model.parameters(), max_norm=max_grad_norm)\n",
        "\n",
        "        optimizer.step()\n",
        "        scheduler.step()\n",
        "\n",
        "        total_loss += loss.item()\n",
        "\n",
        "        _, predicted = torch.max(outputs.logits, 1)\n",
        "        correct = (predicted == labels).sum().item()\n",
        "        total = labels.size(0)\n",
        "        batch_accuracy = 100 * correct / total\n",
        "        batch_accuracies.append(batch_accuracy)\n",
        "\n",
        "    avg_train_loss = total_loss / len(train_loader)\n",
        "    std_train_accuracy = np.std(batch_accuracies)\n",
        "\n",
        "    print(f\"Epoch {epoch + 1}/{num_epochs}, Train Loss: {avg_train_loss:.4f}, Std Dev Accuracy: {std_train_accuracy:.4f}\")\n",
        "\n",
        "    # Validation phase\n",
        "    model.eval()\n",
        "    correct = 0\n",
        "    total = 0\n",
        "    with torch.no_grad():\n",
        "        for images, labels in val_loader:\n",
        "            images = images.to(device)\n",
        "            labels = labels.to(device)\n",
        "\n",
        "            outputs = model(images)\n",
        "            _, predicted = torch.max(outputs.logits, 1)\n",
        "            total += labels.size(0)\n",
        "            correct += (predicted == labels).sum().item()\n",
        "\n",
        "    accuracy = 100 * correct / total\n",
        "    print(f\"Validation Accuracy: {accuracy:.2f}%\")"
      ]
    },
    {
      "cell_type": "code",
      "source": [
        "#To save the model\n",
        "save_path = \"ViT_B16_weights.pth\"\n",
        "torch.save({\n",
        "    'model_state_dict': model.state_dict(),\n",
        "    'optimizer_state_dict': optimizer.state_dict(),\n",
        "    'scheduler_state_dict': scheduler.state_dict(),\n",
        "    'num_epochs': num_epochs,\n",
        "}, save_path)\n",
        "print(f\"Model saved to {save_path}\")"
      ],
      "metadata": {
        "id": "TZXFz5XIhL_W"
      },
      "execution_count": null,
      "outputs": []
    },
    {
      "cell_type": "code",
      "source": [
        "#Let's reload the model\n",
        "\n",
        "# Define the number of classes and device\n",
        "num_classes = 20\n",
        "device = torch.device(\"cuda\" if torch.cuda.is_available() else \"cpu\")\n",
        "\n",
        "# Reinitialize the model architecture\n",
        "fine_tuned_model = ViTForImageClassification.from_pretrained(\n",
        "    'google/vit-base-patch16-224-in21k',\n",
        "    num_labels=num_classes\n",
        ")\n",
        "\n",
        "# Load the trained model state\n",
        "checkpoint = torch.load(\"/content/ViT_B16_weights.pth\")  # Replace with your saved model path\n",
        "fine_tuned_model.load_state_dict(checkpoint['model_state_dict'])\n",
        "\n",
        "fine_tuned_model.to(device)\n",
        "\n",
        "print(\"Trained model loaded successfully as fine_tuned_model for testing.\")"
      ],
      "metadata": {
        "id": "YNzvErb6hMFl"
      },
      "execution_count": null,
      "outputs": []
    },
    {
      "cell_type": "markdown",
      "metadata": {
        "id": "ugD_AqXfeEXD"
      },
      "source": [
        "#### ***Testing***\n",
        "And after training the model we tested it:"
      ]
    },
    {
      "cell_type": "code",
      "execution_count": null,
      "metadata": {
        "colab": {
          "base_uri": "https://localhost:8080/"
        },
        "id": "YDoDy-MeeEXD",
        "outputId": "eb9397f0-6d8b-4b49-fdc9-c810d0543429"
      },
      "outputs": [
        {
          "name": "stdout",
          "output_type": "stream",
          "text": [
            "Test Accuracy: 84.88%\n",
            "Standard Deviation of Batch Accuracies: 9.30%\n"
          ]
        }
      ],
      "source": [
        "model.eval()\n",
        "correct = 0\n",
        "total = 0\n",
        "batch_accuracies = []\n",
        "\n",
        "with torch.no_grad():\n",
        "    for images, labels in test_loader:\n",
        "        images = images.to(device)\n",
        "        labels = labels.to(device)\n",
        "\n",
        "        outputs = model(images)\n",
        "        _, predicted = torch.max(outputs.logits, 1)\n",
        "        batch_correct = (predicted == labels).sum().item()\n",
        "        batch_total = labels.size(0)\n",
        "\n",
        "        batch_accuracy = 100 * batch_correct / batch_total\n",
        "        batch_accuracies.append(batch_accuracy)\n",
        "\n",
        "        correct += batch_correct\n",
        "        total += batch_total\n",
        "\n",
        "accuracy = 100 * correct / total\n",
        "\n",
        "std_dev = np.std(batch_accuracies)\n",
        "\n",
        "print(f\"Test Accuracy: {accuracy:.2f}%\")\n",
        "print(f\"Standard Deviation of Batch Accuracies: {std_dev:.2f}%\")"
      ]
    },
    {
      "cell_type": "markdown",
      "source": [
        "### ***METRICS***\n",
        "\n",
        "To evaluate the model’s performance in detail, we computed class-wise accuracy and analyzed the confusion matrix. ***Class-wise accuracy*** measures the percentage of correctly predicted samples for each individual class, providing insights into how well the model performs across different categories, that helps to identify the classes where the model excels or struggles.\n",
        "\n",
        "Additionally, the ***confusion matrix*** offers a comprehensive view of the model’s predictions, showing the distribution of true labels versus predicted labels.\n",
        "\n"
      ],
      "metadata": {
        "id": "NYAigDxhlC0u"
      }
    },
    {
      "cell_type": "markdown",
      "source": [
        "***Class-wise accuracy***"
      ],
      "metadata": {
        "id": "K-NUOSvhlEWr"
      }
    },
    {
      "cell_type": "code",
      "execution_count": null,
      "metadata": {
        "colab": {
          "base_uri": "https://localhost:8080/"
        },
        "id": "BC9WbqTRsHAN",
        "outputId": "92211cff-2528-4067-f052-dcfb296fde9b"
      },
      "outputs": [
        {
          "name": "stdout",
          "output_type": "stream",
          "text": [
            "Class-wise Accuracy:\n",
            "airport_terminal: 80.00%\n",
            "amusement_park: 75.00%\n",
            "aquarium: 95.00%\n",
            "ballroom: 80.00%\n",
            "barn: 90.00%\n",
            "beach: 97.50%\n",
            "bedroom: 95.00%\n",
            "bridge: 70.00%\n",
            "canyon: 72.50%\n",
            "castle: 62.50%\n",
            "church_outdoor: 80.00%\n",
            "forest_path: 85.00%\n",
            "highway: 82.50%\n",
            "kitchen: 95.00%\n",
            "library_indoor: 90.00%\n",
            "mountain: 75.00%\n",
            "restaurant: 90.00%\n",
            "skyscraper: 97.50%\n",
            "stadium_soccer: 97.50%\n",
            "swimming_pool_outdoor: 87.50%\n"
          ]
        }
      ],
      "source": [
        "model.eval()\n",
        "\n",
        "correct_per_class = defaultdict(int)\n",
        "total_per_class = defaultdict(int)\n",
        "\n",
        "# To evaluate on the test set\n",
        "with torch.no_grad():\n",
        "    for images, labels in test_loader:\n",
        "        images, labels = images.to(device), labels.to(device)\n",
        "\n",
        "        outputs = model(images)\n",
        "        _, predicted = torch.max(outputs.logits, 1)\n",
        "\n",
        "        for label, prediction in zip(labels, predicted):\n",
        "            total_per_class[label.item()] += 1\n",
        "            if label.item() == prediction.item():\n",
        "                correct_per_class[label.item()] += 1\n",
        "\n",
        "class_names = test_loader.dataset.classes\n",
        "accuracies = [100 * correct_per_class[i] / total_per_class[i] for i in range(len(class_names))]\n",
        "\n",
        "print(\"Class-wise Accuracy:\")\n",
        "for class_idx, class_name in enumerate(class_names):\n",
        "    print(f\"{class_name}: {accuracies[class_idx]:.2f}%\")"
      ]
    },
    {
      "cell_type": "markdown",
      "source": [
        "***Confusion Matrix***"
      ],
      "metadata": {
        "id": "5wJy4WhgF8jM"
      }
    },
    {
      "cell_type": "code",
      "execution_count": null,
      "metadata": {
        "colab": {
          "base_uri": "https://localhost:8080/",
          "height": 1000
        },
        "id": "h5V9TIALd4ac",
        "outputId": "c7cec25d-971e-4245-e06d-935c8f6844b1"
      },
      "outputs": [
        {
          "data": {
            "image/png": "[encoded data removed]",
            "text/plain": [
              "<Figure size 1200x1200 with 2 Axes>"
            ]
          },
          "metadata": {},
          "output_type": "display_data"
        }
      ],
      "source": [
        "fine_tuned_model.eval()\n",
        "\n",
        "all_predictions = []\n",
        "all_labels = []\n",
        "\n",
        "# To evaluate on the test set\n",
        "with torch.no_grad():\n",
        "    for images, labels in test_loader:\n",
        "        images, labels = images.to(device), labels.to(device)\n",
        "\n",
        "        outputs = fine_tuned_model(images)\n",
        "        _, predicted = torch.max(outputs.logits, 1)\n",
        "\n",
        "        # Store predictions and labels\n",
        "        all_predictions.extend(predicted.cpu().numpy())\n",
        "        all_labels.extend(labels.cpu().numpy())\n",
        "\n",
        "all_predictions = np.array(all_predictions)\n",
        "all_labels = np.array(all_labels)\n",
        "\n",
        "# Compute the confusion matrix\n",
        "cm = confusion_matrix(all_labels, all_predictions)\n",
        "class_names = test_loader.dataset.classes\n",
        "\n",
        "class_accuracies = np.round(100 * cm.diagonal() / cm.sum(axis=1)).astype(int)\n",
        "\n",
        "plt.figure(figsize=(12, 12))\n",
        "plt.imshow(cm, interpolation='nearest', cmap=plt.cm.Blues)\n",
        "plt.title(\"Confusion Matrix with Class-Wise Accuracy\")\n",
        "plt.colorbar()\n",
        "\n",
        "tick_marks = np.arange(len(class_names))\n",
        "plt.xticks(tick_marks, class_names, rotation=90)\n",
        "plt.yticks(tick_marks, class_names)\n",
        "\n",
        "\n",
        "for i in range(len(class_names)):\n",
        "    for j in range(len(class_names)):\n",
        "        value = cm[i, j]\n",
        "        if i == j:\n",
        "            plt.text(j, i, f\"{class_accuracies[i]}%\",\n",
        "                     ha='center', va='center',\n",
        "                     color='white' if cm[i, j] > cm.max() / 2 else 'black')\n",
        "        else:\n",
        "            plt.text(j, i, f\"{value}\",\n",
        "                     ha='center', va='center',\n",
        "                     color='black')\n",
        "\n",
        "plt.ylabel('True label')\n",
        "plt.xlabel('Predicted label')\n",
        "plt.tight_layout()\n",
        "plt.show()"
      ]
    },
    {
      "cell_type": "markdown",
      "metadata": {
        "id": "N5Ex2zhNdgip"
      },
      "source": [
        "#### ***Attention maps***\n",
        "\n",
        "After evaluating the models using class-wise accuracy and the confusion matrix to quantify their performance, and after experimenting a bit with the attentions maps in the ViT_B_32 ipynb file we further analyzed their behavior by generating attention maps, with a particular focus on misclassified images. These maps provide visual insights into the regions of the input that the model focused on while making predictions, allowing us to better understand potential sources of misclassification. By highlighting the most relevant areas of an image for each class, attention maps enhance interpretability and help identify whether the model's focus aligns with meaningful features or distracts towards irrelevant areas. This qualitative analysis offers a complementary perspective to the quantitative evaluation metrics, shedding light on the model’s decision-making process."
      ]
    },
    {
      "cell_type": "markdown",
      "source": [
        "We focused on identifying and analyzing misclassified images, particularly for the class pairs 'church_outdoor' and 'castle' as well as 'canyon' and 'mountain,' since these were the most frequently misclassified categories by the model, as it can be seen from the metrics from the previous section.\n",
        "\n",
        "So, first we implemented a method to identify and analyze misclassified images by mapping their predicted and true labels to class names:"
      ],
      "metadata": {
        "id": "NBIov5fuJ0vd"
      }
    },
    {
      "cell_type": "code",
      "execution_count": null,
      "metadata": {
        "id": "4sVNAUZic4FD"
      },
      "outputs": [],
      "source": [
        "label_mapping = {\n",
        "    0: \"airport_terminal\",\n",
        "    1: \"amusement_park\",\n",
        "    2: \"aquarium\",\n",
        "    3: \"ballroom\",\n",
        "    4: \"barn\",\n",
        "    5: \"beach\",\n",
        "    6: \"bedroom\",\n",
        "    7: \"bridge\",\n",
        "    8: \"canyon\",\n",
        "    9: \"castle\",\n",
        "    10: \"church_outdoor\",\n",
        "    15: \"mountain\"\n",
        "}\n",
        "\n",
        "def get_misclassified_images(dataset, model, device, label_mapping):\n",
        "    \"\"\"\n",
        "    Get the misclassified images and their indices from a dataset.\n",
        "\n",
        "    Parameters:\n",
        "        dataset: The dataset containing the images.\n",
        "        model: The fine-tuned ViT model.\n",
        "        device: The device (CPU/GPU) to run the model.\n",
        "        label_mapping: A dictionary mapping label indices to class names.\n",
        "\n",
        "    Returns:\n",
        "        misclassified: A list of tuples containing (image, true_label, predicted_label, index).\n",
        "    \"\"\"\n",
        "    misclassified = []\n",
        "\n",
        "    model.eval()\n",
        "\n",
        "    # Iterate through the dataset\n",
        "    for idx, (image, label) in enumerate(dataset):\n",
        "\n",
        "        input_tensor = image.unsqueeze(0).to(device)\n",
        "\n",
        "        # Perform prediction\n",
        "        with torch.no_grad():\n",
        "            outputs = model(input_tensor)\n",
        "            predicted_label = torch.argmax(outputs, dim=1).item()\n",
        "\n",
        "        if label in label_mapping and predicted_label in label_mapping:\n",
        "            true_label_name = label_mapping[label]\n",
        "            pred_label_name = label_mapping[predicted_label]\n",
        "        else:\n",
        "            continue\n",
        "\n",
        "        # Check for misclassification\n",
        "        if label != predicted_label:\n",
        "            misclassified.append((image, true_label_name, pred_label_name, idx))\n",
        "\n",
        "    return misclassified\n",
        "\n",
        "# Labels of interest\n",
        "labels_to_find = [8, 15]\n",
        "\n",
        "misclassified_images = get_misclassified_images(test_dataset, model, device, label_mapping)\n",
        "\n",
        "filtered_misclassified = [\n",
        "    (img, true_label, pred_label, idx)\n",
        "    for img, true_label, pred_label, idx in misclassified_images\n",
        "    if any(true_label == label_mapping[label] for label in labels_to_find)\n",
        "]\n",
        "\n",
        "print(f\"Found {len(filtered_misclassified)} misclassified images for 'castle' and 'church_outdoor'.\")\n",
        "\n",
        "for img, true_label, pred_label, idx in filtered_misclassified:\n",
        "    print(f\"Index: {idx}, True Label: {true_label}, Predicted Label: {pred_label}\")\n",
        "\n",
        "    pil_image = ToPILImage()(img)\n",
        "    pil_image.show()"
      ]
    },
    {
      "cell_type": "markdown",
      "source": [
        "And then we printed the corresponding attention map to visualize the regions of the image that the model focused on during its prediction, highlighting the aggregated attention across multiple heads and layers for better interpretability:"
      ],
      "metadata": {
        "id": "ISoxNOsxJ4KS"
      }
    },
    {
      "cell_type": "code",
      "source": [
        "def get_attention_maps(module, input, output):\n",
        "    \"\"\"Hook function to extract attention maps.\"\"\"\n",
        "    global attention_maps\n",
        "    attention_maps.append(output)\n",
        "\n",
        "def visualize_aggregated_attention(dataset, idx, fine_tuned_model, device, layer_idx=5, head_range=(0, 11), patch_size=16):\n",
        "    \"\"\"\n",
        "    Visualize the aggregated attention map across a range of heads for a specific layer in a hybrid ViT model.\n",
        "\n",
        "    Parameters:\n",
        "        dataset: The dataset containing the image (e.g., test_dataset).\n",
        "        idx: Index of the image in the dataset.\n",
        "        fine_tuned_model: The hybrid model (ResNet+ViT).\n",
        "        device: The device (CPU/GPU) to run the model.\n",
        "        layer_idx: The index of the transformer layer to visualize (default is 5).\n",
        "        head_range: Tuple specifying the range of heads to aggregate (inclusive).\n",
        "        patch_size: The patch size used by the ViT model (default is 16).\n",
        "\n",
        "    Returns:\n",
        "        None: Displays the original image and the aggregated attention map.\n",
        "    \"\"\"\n",
        "    global attention_maps\n",
        "    attention_maps = []\n",
        "\n",
        "    # Load and preprocess the image\n",
        "    image, _ = dataset[idx]\n",
        "    input_tensor = image.unsqueeze(0).to(device)\n",
        "\n",
        "    attention_layer = fine_tuned_model.blocks[layer_idx].attn\n",
        "    hook = attention_layer.register_forward_hook(get_attention_maps)\n",
        "\n",
        "    # Perform a forward pass\n",
        "    fine_tuned_model.eval()\n",
        "    with torch.no_grad():\n",
        "        _ = fine_tuned_model(input_tensor)\n",
        "\n",
        "    hook.remove()\n",
        "\n",
        "    if not attention_maps:\n",
        "        raise RuntimeError(\"No attention maps were captured. Ensure the hook is attached to the correct layer.\")\n",
        "\n",
        "    # Extract the attention map for the specified layer\n",
        "    attention = attention_maps[0]  # [batch_size, num_patches+1, hidden_dim]\n",
        "    if attention.dim() == 3:\n",
        "        attention = attention[0]  # Remove batch dimension\n",
        "        attention = attention[1:]  # Exclude CLS token\n",
        "        aggregated_attention = attention.mean(dim=1)\n",
        "\n",
        "    else:\n",
        "        raise ValueError(\"Unexpected attention map dimensions. Ensure the model outputs attention correctly.\")\n",
        "\n",
        "    num_patches = aggregated_attention.size(0)\n",
        "    grid_size = int(num_patches ** 0.5)\n",
        "a\n",
        "    if grid_size * grid_size != num_patches:\n",
        "        raise ValueError(\n",
        "            f\"Attention map size ({num_patches}) does not match a perfect square. \"\n",
        "            \"Verify the input resolution and patch embedding behavior.\"\n",
        "        )\n",
        "\n",
        "    aggregated_attention = aggregated_attention.reshape(grid_size, grid_size)\n",
        "\n",
        "    attention_map = torch.nn.functional.interpolate(\n",
        "        aggregated_attention.unsqueeze(0).unsqueeze(0),\n",
        "        size=(image.size(-2), image.size(-1)),\n",
        "        mode=\"bilinear\"\n",
        "    )[0, 0].cpu().numpy()\n",
        "\n",
        "    # Normalize the attention map\n",
        "    attention_map = (attention_map - attention_map.min()) / (attention_map.max() - attention_map.min())\n",
        "\n",
        "    # Unnormalize the image for visualization\n",
        "    unnormalize = Normalize(\n",
        "        mean=[-0.485 / 0.229, -0.456 / 0.224, -0.406 / 0.225],\n",
        "        std=[1 / 0.229, 1 / 0.224, 1 / 0.225],\n",
        "    )\n",
        "    original_image = unnormalize(image).clamp(0, 1).permute(1, 2, 0).cpu().numpy()\n",
        "\n",
        "    # Visualize the original image and aggregated attention map\n",
        "    fig, ax = plt.subplots(1, 2, figsize=(12, 6))\n",
        "\n",
        "    ax[0].imshow(original_image)\n",
        "    ax[0].axis(\"off\")\n",
        "    ax[0].set_title(\"Original Image\")\n",
        "\n",
        "    ax[1].imshow(original_image, alpha=0.6)\n",
        "    ax[1].imshow(attention_map, cmap=\"jet\", alpha=0.4)\n",
        "    ax[1].axis(\"off\")\n",
        "    ax[1].set_title(f\"Aggregated Attention Map (Layer {layer_idx}, Heads {head_range[0]}-{head_range[1]})\")\n",
        "\n",
        "    plt.tight_layout()\n",
        "    plt.show()"
      ],
      "metadata": {
        "id": "q5TKbLubmmIB"
      },
      "execution_count": null,
      "outputs": []
    },
    {
      "cell_type": "code",
      "source": [
        "# Visualize aggregated attention for a specific image and layer\n",
        "idx = 359  # Image index\n",
        "visualize_aggregated_attention(test_dataset, idx=idx, fine_tuned_model=model, device=device, layer_idx=4, head_range=(0, 11))"
      ],
      "metadata": {
        "id": "PotEPuA2moqF"
      },
      "execution_count": null,
      "outputs": []
    }
  ],
  "metadata": {
    "accelerator": "GPU",
    "colab": {
      "gpuType": "T4",
      "provenance": []
    },
    "kernelspec": {
      "display_name": "Python 3",
      "name": "python3"
    },
    "language_info": {
      "codemirror_mode": {
        "name": "ipython",
        "version": 3
      },
      "file_extension": ".py",
      "mimetype": "text/x-python",
      "name": "python",
      "nbconvert_exporter": "python",
      "pygments_lexer": "ipython3",
      "version": "3.11.9"
    },
    "widgets": {
      "application/vnd.jupyter.widget-state+json": {
        "15039341d20241be8617782322474b59": {
          "model_module": "@jupyter-widgets/controls",
          "model_module_version": "1.5.0",
          "model_name": "DescriptionStyleModel",
          "state": {
            "_model_module": "@jupyter-widgets/controls",
            "_model_module_version": "1.5.0",
            "_model_name": "DescriptionStyleModel",
            "_view_count": null,
            "_view_module": "@jupyter-widgets/base",
            "_view_module_version": "1.2.0",
            "_view_name": "StyleView",
            "description_width": ""
          }
        },
        "1e5f760ff9ff402483c3a6cb4e441466": {
          "model_module": "@jupyter-widgets/base",
          "model_module_version": "1.2.0",
          "model_name": "LayoutModel",
          "state": {
            "_model_module": "@jupyter-widgets/base",
            "_model_module_version": "1.2.0",
            "_model_name": "LayoutModel",
            "_view_count": null,
            "_view_module": "@jupyter-widgets/base",
            "_view_module_version": "1.2.0",
            "_view_name": "LayoutView",
            "align_content": null,
            "align_items": null,
            "align_self": null,
            "border": null,
            "bottom": null,
            "display": null,
            "flex": null,
            "flex_flow": null,
            "grid_area": null,
            "grid_auto_columns": null,
            "grid_auto_flow": null,
            "grid_auto_rows": null,
            "grid_column": null,
            "grid_gap": null,
            "grid_row": null,
            "grid_template_areas": null,
            "grid_template_columns": null,
            "grid_template_rows": null,
            "height": null,
            "justify_content": null,
            "justify_items": null,
            "left": null,
            "margin": null,
            "max_height": null,
            "max_width": null,
            "min_height": null,
            "min_width": null,
            "object_fit": null,
            "object_position": null,
            "order": null,
            "overflow": null,
            "overflow_x": null,
            "overflow_y": null,
            "padding": null,
            "right": null,
            "top": null,
            "visibility": null,
            "width": null
          }
        },
        "250a9eb1d59b4836b9a0f408561bb479": {
          "model_module": "@jupyter-widgets/controls",
          "model_module_version": "1.5.0",
          "model_name": "FloatProgressModel",
          "state": {
            "_dom_classes": [],
            "_model_module": "@jupyter-widgets/controls",
            "_model_module_version": "1.5.0",
            "_model_name": "FloatProgressModel",
            "_view_count": null,
            "_view_module": "@jupyter-widgets/controls",
            "_view_module_version": "1.5.0",
            "_view_name": "ProgressView",
            "bar_style": "success",
            "description": "",
            "description_tooltip": null,
            "layout": "IPY_MODEL_b61e3e50ed9d493a975e9f14d04b418a",
            "max": 345579424,
            "min": 0,
            "orientation": "horizontal",
            "style": "IPY_MODEL_2df6048c026043a7acac09196a9549ff",
            "value": 345579424
          }
        },
        "26407771b19d4cf19f9cf44e8677c62f": {
          "model_module": "@jupyter-widgets/base",
          "model_module_version": "1.2.0",
          "model_name": "LayoutModel",
          "state": {
            "_model_module": "@jupyter-widgets/base",
            "_model_module_version": "1.2.0",
            "_model_name": "LayoutModel",
            "_view_count": null,
            "_view_module": "@jupyter-widgets/base",
            "_view_module_version": "1.2.0",
            "_view_name": "LayoutView",
            "align_content": null,
            "align_items": null,
            "align_self": null,
            "border": null,
            "bottom": null,
            "display": null,
            "flex": null,
            "flex_flow": null,
            "grid_area": null,
            "grid_auto_columns": null,
            "grid_auto_flow": null,
            "grid_auto_rows": null,
            "grid_column": null,
            "grid_gap": null,
            "grid_row": null,
            "grid_template_areas": null,
            "grid_template_columns": null,
            "grid_template_rows": null,
            "height": null,
            "justify_content": null,
            "justify_items": null,
            "left": null,
            "margin": null,
            "max_height": null,
            "max_width": null,
            "min_height": null,
            "min_width": null,
            "object_fit": null,
            "object_position": null,
            "order": null,
            "overflow": null,
            "overflow_x": null,
            "overflow_y": null,
            "padding": null,
            "right": null,
            "top": null,
            "visibility": null,
            "width": null
          }
        },
        "27b4bd8bded647ca9963918eb648595f": {
          "model_module": "@jupyter-widgets/base",
          "model_module_version": "1.2.0",
          "model_name": "LayoutModel",
          "state": {
            "_model_module": "@jupyter-widgets/base",
            "_model_module_version": "1.2.0",
            "_model_name": "LayoutModel",
            "_view_count": null,
            "_view_module": "@jupyter-widgets/base",
            "_view_module_version": "1.2.0",
            "_view_name": "LayoutView",
            "align_content": null,
            "align_items": null,
            "align_self": null,
            "border": null,
            "bottom": null,
            "display": null,
            "flex": null,
            "flex_flow": null,
            "grid_area": null,
            "grid_auto_columns": null,
            "grid_auto_flow": null,
            "grid_auto_rows": null,
            "grid_column": null,
            "grid_gap": null,
            "grid_row": null,
            "grid_template_areas": null,
            "grid_template_columns": null,
            "grid_template_rows": null,
            "height": null,
            "justify_content": null,
            "justify_items": null,
            "left": null,
            "margin": null,
            "max_height": null,
            "max_width": null,
            "min_height": null,
            "min_width": null,
            "object_fit": null,
            "object_position": null,
            "order": null,
            "overflow": null,
            "overflow_x": null,
            "overflow_y": null,
            "padding": null,
            "right": null,
            "top": null,
            "visibility": null,
            "width": null
          }
        },
        "2d7efea9fe0b4dd49a21da983eae2c8a": {
          "model_module": "@jupyter-widgets/controls",
          "model_module_version": "1.5.0",
          "model_name": "HBoxModel",
          "state": {
            "_dom_classes": [],
            "_model_module": "@jupyter-widgets/controls",
            "_model_module_version": "1.5.0",
            "_model_name": "HBoxModel",
            "_view_count": null,
            "_view_module": "@jupyter-widgets/controls",
            "_view_module_version": "1.5.0",
            "_view_name": "HBoxView",
            "box_style": "",
            "children": [
              "IPY_MODEL_56a4d51683f842cc942f4c2a2bcc0385",
              "IPY_MODEL_250a9eb1d59b4836b9a0f408561bb479",
              "IPY_MODEL_8f0a54d2eed149b090ab8b478997e8c3"
            ],
            "layout": "IPY_MODEL_848cf47058cf4e389d637c9fcaf96476"
          }
        },
        "2df6048c026043a7acac09196a9549ff": {
          "model_module": "@jupyter-widgets/controls",
          "model_module_version": "1.5.0",
          "model_name": "ProgressStyleModel",
          "state": {
            "_model_module": "@jupyter-widgets/controls",
            "_model_module_version": "1.5.0",
            "_model_name": "ProgressStyleModel",
            "_view_count": null,
            "_view_module": "@jupyter-widgets/base",
            "_view_module_version": "1.2.0",
            "_view_name": "StyleView",
            "bar_color": null,
            "description_width": ""
          }
        },
        "2fd37fee68e44b27bf6f653cd02ab9b2": {
          "model_module": "@jupyter-widgets/controls",
          "model_module_version": "1.5.0",
          "model_name": "DescriptionStyleModel",
          "state": {
            "_model_module": "@jupyter-widgets/controls",
            "_model_module_version": "1.5.0",
            "_model_name": "DescriptionStyleModel",
            "_view_count": null,
            "_view_module": "@jupyter-widgets/base",
            "_view_module_version": "1.2.0",
            "_view_name": "StyleView",
            "description_width": ""
          }
        },
        "33a37830996e4375b6cf2fdcfa7803e7": {
          "model_module": "@jupyter-widgets/controls",
          "model_module_version": "1.5.0",
          "model_name": "FloatProgressModel",
          "state": {
            "_dom_classes": [],
            "_model_module": "@jupyter-widgets/controls",
            "_model_module_version": "1.5.0",
            "_model_name": "FloatProgressModel",
            "_view_count": null,
            "_view_module": "@jupyter-widgets/controls",
            "_view_module_version": "1.5.0",
            "_view_name": "ProgressView",
            "bar_style": "success",
            "description": "",
            "description_tooltip": null,
            "layout": "IPY_MODEL_cffa3ee98aa9404bb4297f169e3d9d17",
            "max": 502,
            "min": 0,
            "orientation": "horizontal",
            "style": "IPY_MODEL_9b1967ce9716407fad5041cad26daf02",
            "value": 502
          }
        },
        "38872a5821a54e7f855129cf3cbab6e1": {
          "model_module": "@jupyter-widgets/controls",
          "model_module_version": "1.5.0",
          "model_name": "DescriptionStyleModel",
          "state": {
            "_model_module": "@jupyter-widgets/controls",
            "_model_module_version": "1.5.0",
            "_model_name": "DescriptionStyleModel",
            "_view_count": null,
            "_view_module": "@jupyter-widgets/base",
            "_view_module_version": "1.2.0",
            "_view_name": "StyleView",
            "description_width": ""
          }
        },
        "4111902af1cf46649262dba495b2ed3b": {
          "model_module": "@jupyter-widgets/base",
          "model_module_version": "1.2.0",
          "model_name": "LayoutModel",
          "state": {
            "_model_module": "@jupyter-widgets/base",
            "_model_module_version": "1.2.0",
            "_model_name": "LayoutModel",
            "_view_count": null,
            "_view_module": "@jupyter-widgets/base",
            "_view_module_version": "1.2.0",
            "_view_name": "LayoutView",
            "align_content": null,
            "align_items": null,
            "align_self": null,
            "border": null,
            "bottom": null,
            "display": null,
            "flex": null,
            "flex_flow": null,
            "grid_area": null,
            "grid_auto_columns": null,
            "grid_auto_flow": null,
            "grid_auto_rows": null,
            "grid_column": null,
            "grid_gap": null,
            "grid_row": null,
            "grid_template_areas": null,
            "grid_template_columns": null,
            "grid_template_rows": null,
            "height": null,
            "justify_content": null,
            "justify_items": null,
            "left": null,
            "margin": null,
            "max_height": null,
            "max_width": null,
            "min_height": null,
            "min_width": null,
            "object_fit": null,
            "object_position": null,
            "order": null,
            "overflow": null,
            "overflow_x": null,
            "overflow_y": null,
            "padding": null,
            "right": null,
            "top": null,
            "visibility": null,
            "width": null
          }
        },
        "56a4d51683f842cc942f4c2a2bcc0385": {
          "model_module": "@jupyter-widgets/controls",
          "model_module_version": "1.5.0",
          "model_name": "HTMLModel",
          "state": {
            "_dom_classes": [],
            "_model_module": "@jupyter-widgets/controls",
            "_model_module_version": "1.5.0",
            "_model_name": "HTMLModel",
            "_view_count": null,
            "_view_module": "@jupyter-widgets/controls",
            "_view_module_version": "1.5.0",
            "_view_name": "HTMLView",
            "description": "",
            "description_tooltip": null,
            "layout": "IPY_MODEL_26407771b19d4cf19f9cf44e8677c62f",
            "placeholder": "​",
            "style": "IPY_MODEL_38872a5821a54e7f855129cf3cbab6e1",
            "value": "model.safetensors: 100%"
          }
        },
        "5e58e598396a4d9d89312f57eed4a468": {
          "model_module": "@jupyter-widgets/controls",
          "model_module_version": "1.5.0",
          "model_name": "HTMLModel",
          "state": {
            "_dom_classes": [],
            "_model_module": "@jupyter-widgets/controls",
            "_model_module_version": "1.5.0",
            "_model_name": "HTMLModel",
            "_view_count": null,
            "_view_module": "@jupyter-widgets/controls",
            "_view_module_version": "1.5.0",
            "_view_name": "HTMLView",
            "description": "",
            "description_tooltip": null,
            "layout": "IPY_MODEL_1e5f760ff9ff402483c3a6cb4e441466",
            "placeholder": "​",
            "style": "IPY_MODEL_de96f897af0946fd9b27664c85639737",
            "value": "config.json: 100%"
          }
        },
        "801f2aeb1fc947bfaf95c9bbed76b491": {
          "model_module": "@jupyter-widgets/controls",
          "model_module_version": "1.5.0",
          "model_name": "HTMLModel",
          "state": {
            "_dom_classes": [],
            "_model_module": "@jupyter-widgets/controls",
            "_model_module_version": "1.5.0",
            "_model_name": "HTMLModel",
            "_view_count": null,
            "_view_module": "@jupyter-widgets/controls",
            "_view_module_version": "1.5.0",
            "_view_name": "HTMLView",
            "description": "",
            "description_tooltip": null,
            "layout": "IPY_MODEL_cf65915252ac43a2b713bccfffc5c1b7",
            "placeholder": "​",
            "style": "IPY_MODEL_2fd37fee68e44b27bf6f653cd02ab9b2",
            "value": " 502/502 [00:00&lt;00:00, 22.6kB/s]"
          }
        },
        "848cf47058cf4e389d637c9fcaf96476": {
          "model_module": "@jupyter-widgets/base",
          "model_module_version": "1.2.0",
          "model_name": "LayoutModel",
          "state": {
            "_model_module": "@jupyter-widgets/base",
            "_model_module_version": "1.2.0",
            "_model_name": "LayoutModel",
            "_view_count": null,
            "_view_module": "@jupyter-widgets/base",
            "_view_module_version": "1.2.0",
            "_view_name": "LayoutView",
            "align_content": null,
            "align_items": null,
            "align_self": null,
            "border": null,
            "bottom": null,
            "display": null,
            "flex": null,
            "flex_flow": null,
            "grid_area": null,
            "grid_auto_columns": null,
            "grid_auto_flow": null,
            "grid_auto_rows": null,
            "grid_column": null,
            "grid_gap": null,
            "grid_row": null,
            "grid_template_areas": null,
            "grid_template_columns": null,
            "grid_template_rows": null,
            "height": null,
            "justify_content": null,
            "justify_items": null,
            "left": null,
            "margin": null,
            "max_height": null,
            "max_width": null,
            "min_height": null,
            "min_width": null,
            "object_fit": null,
            "object_position": null,
            "order": null,
            "overflow": null,
            "overflow_x": null,
            "overflow_y": null,
            "padding": null,
            "right": null,
            "top": null,
            "visibility": null,
            "width": null
          }
        },
        "8f0a54d2eed149b090ab8b478997e8c3": {
          "model_module": "@jupyter-widgets/controls",
          "model_module_version": "1.5.0",
          "model_name": "HTMLModel",
          "state": {
            "_dom_classes": [],
            "_model_module": "@jupyter-widgets/controls",
            "_model_module_version": "1.5.0",
            "_model_name": "HTMLModel",
            "_view_count": null,
            "_view_module": "@jupyter-widgets/controls",
            "_view_module_version": "1.5.0",
            "_view_name": "HTMLView",
            "description": "",
            "description_tooltip": null,
            "layout": "IPY_MODEL_4111902af1cf46649262dba495b2ed3b",
            "placeholder": "​",
            "style": "IPY_MODEL_15039341d20241be8617782322474b59",
            "value": " 346M/346M [00:06&lt;00:00, 40.3MB/s]"
          }
        },
        "9b1967ce9716407fad5041cad26daf02": {
          "model_module": "@jupyter-widgets/controls",
          "model_module_version": "1.5.0",
          "model_name": "ProgressStyleModel",
          "state": {
            "_model_module": "@jupyter-widgets/controls",
            "_model_module_version": "1.5.0",
            "_model_name": "ProgressStyleModel",
            "_view_count": null,
            "_view_module": "@jupyter-widgets/base",
            "_view_module_version": "1.2.0",
            "_view_name": "StyleView",
            "bar_color": null,
            "description_width": ""
          }
        },
        "ac9370f1a60d459b97c3ee7f80c8efd9": {
          "model_module": "@jupyter-widgets/controls",
          "model_module_version": "1.5.0",
          "model_name": "HBoxModel",
          "state": {
            "_dom_classes": [],
            "_model_module": "@jupyter-widgets/controls",
            "_model_module_version": "1.5.0",
            "_model_name": "HBoxModel",
            "_view_count": null,
            "_view_module": "@jupyter-widgets/controls",
            "_view_module_version": "1.5.0",
            "_view_name": "HBoxView",
            "box_style": "",
            "children": [
              "IPY_MODEL_5e58e598396a4d9d89312f57eed4a468",
              "IPY_MODEL_33a37830996e4375b6cf2fdcfa7803e7",
              "IPY_MODEL_801f2aeb1fc947bfaf95c9bbed76b491"
            ],
            "layout": "IPY_MODEL_27b4bd8bded647ca9963918eb648595f"
          }
        },
        "b61e3e50ed9d493a975e9f14d04b418a": {
          "model_module": "@jupyter-widgets/base",
          "model_module_version": "1.2.0",
          "model_name": "LayoutModel",
          "state": {
            "_model_module": "@jupyter-widgets/base",
            "_model_module_version": "1.2.0",
            "_model_name": "LayoutModel",
            "_view_count": null,
            "_view_module": "@jupyter-widgets/base",
            "_view_module_version": "1.2.0",
            "_view_name": "LayoutView",
            "align_content": null,
            "align_items": null,
            "align_self": null,
            "border": null,
            "bottom": null,
            "display": null,
            "flex": null,
            "flex_flow": null,
            "grid_area": null,
            "grid_auto_columns": null,
            "grid_auto_flow": null,
            "grid_auto_rows": null,
            "grid_column": null,
            "grid_gap": null,
            "grid_row": null,
            "grid_template_areas": null,
            "grid_template_columns": null,
            "grid_template_rows": null,
            "height": null,
            "justify_content": null,
            "justify_items": null,
            "left": null,
            "margin": null,
            "max_height": null,
            "max_width": null,
            "min_height": null,
            "min_width": null,
            "object_fit": null,
            "object_position": null,
            "order": null,
            "overflow": null,
            "overflow_x": null,
            "overflow_y": null,
            "padding": null,
            "right": null,
            "top": null,
            "visibility": null,
            "width": null
          }
        },
        "cf65915252ac43a2b713bccfffc5c1b7": {
          "model_module": "@jupyter-widgets/base",
          "model_module_version": "1.2.0",
          "model_name": "LayoutModel",
          "state": {
            "_model_module": "@jupyter-widgets/base",
            "_model_module_version": "1.2.0",
            "_model_name": "LayoutModel",
            "_view_count": null,
            "_view_module": "@jupyter-widgets/base",
            "_view_module_version": "1.2.0",
            "_view_name": "LayoutView",
            "align_content": null,
            "align_items": null,
            "align_self": null,
            "border": null,
            "bottom": null,
            "display": null,
            "flex": null,
            "flex_flow": null,
            "grid_area": null,
            "grid_auto_columns": null,
            "grid_auto_flow": null,
            "grid_auto_rows": null,
            "grid_column": null,
            "grid_gap": null,
            "grid_row": null,
            "grid_template_areas": null,
            "grid_template_columns": null,
            "grid_template_rows": null,
            "height": null,
            "justify_content": null,
            "justify_items": null,
            "left": null,
            "margin": null,
            "max_height": null,
            "max_width": null,
            "min_height": null,
            "min_width": null,
            "object_fit": null,
            "object_position": null,
            "order": null,
            "overflow": null,
            "overflow_x": null,
            "overflow_y": null,
            "padding": null,
            "right": null,
            "top": null,
            "visibility": null,
            "width": null
          }
        },
        "cffa3ee98aa9404bb4297f169e3d9d17": {
          "model_module": "@jupyter-widgets/base",
          "model_module_version": "1.2.0",
          "model_name": "LayoutModel",
          "state": {
            "_model_module": "@jupyter-widgets/base",
            "_model_module_version": "1.2.0",
            "_model_name": "LayoutModel",
            "_view_count": null,
            "_view_module": "@jupyter-widgets/base",
            "_view_module_version": "1.2.0",
            "_view_name": "LayoutView",
            "align_content": null,
            "align_items": null,
            "align_self": null,
            "border": null,
            "bottom": null,
            "display": null,
            "flex": null,
            "flex_flow": null,
            "grid_area": null,
            "grid_auto_columns": null,
            "grid_auto_flow": null,
            "grid_auto_rows": null,
            "grid_column": null,
            "grid_gap": null,
            "grid_row": null,
            "grid_template_areas": null,
            "grid_template_columns": null,
            "grid_template_rows": null,
            "height": null,
            "justify_content": null,
            "justify_items": null,
            "left": null,
            "margin": null,
            "max_height": null,
            "max_width": null,
            "min_height": null,
            "min_width": null,
            "object_fit": null,
            "object_position": null,
            "order": null,
            "overflow": null,
            "overflow_x": null,
            "overflow_y": null,
            "padding": null,
            "right": null,
            "top": null,
            "visibility": null,
            "width": null
          }
        },
        "de96f897af0946fd9b27664c85639737": {
          "model_module": "@jupyter-widgets/controls",
          "model_module_version": "1.5.0",
          "model_name": "DescriptionStyleModel",
          "state": {
            "_model_module": "@jupyter-widgets/controls",
            "_model_module_version": "1.5.0",
            "_model_name": "DescriptionStyleModel",
            "_view_count": null,
            "_view_module": "@jupyter-widgets/base",
            "_view_module_version": "1.2.0",
            "_view_name": "StyleView",
            "description_width": ""
          }
        }
      }
    }
  },
  "nbformat": 4,
  "nbformat_minor": 0
}