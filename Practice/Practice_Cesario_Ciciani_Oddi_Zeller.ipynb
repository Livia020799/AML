{
 "cells": [
  {
   "cell_type": "markdown",
   "metadata": {
    "id": "RlGc4mvsuyTF"
   },
   "source": [
    "# AML Homework 3: Practice\n"
   ]
  },
  {
   "cell_type": "markdown",
   "metadata": {},
   "source": [
    "*Group members:*  \n",
    "\n",
    "1. *Ciciani Diego (2140394)*  \n",
    "   - *Email*: ciciani.2140394@studenti.uniroma1.it  \n",
    "\n",
    "2. *Cesario Laura Thoft (1852596)*  \n",
    "   - *Email*: cesario.1852596@studenti.uniroma1.it  \n",
    "\n",
    "3. *Oddi Livia (1846085)*  \n",
    "   - *Email*: oddi.1846085@studenti.uniroma1.it  \n",
    "\n",
    "4. *Zeller Damian (2118831)*  \n",
    "   - *Email*: zeller.2118831@studenti.uniroma1.it"
   ]
  },
  {
   "cell_type": "markdown",
   "metadata": {},
   "source": [
    "### ***Disclaimer***\n",
    "Since we do not have GPU usage available all day (actually it's just for a few hours) we had to modify some `torch.load()` code by inserting `map_location=torch.device('cpu')` to be able to finish the homework."
   ]
  },
  {
   "cell_type": "markdown",
   "metadata": {
    "id": "8P1dC8iMuyTH"
   },
   "source": [
    "## Table of contents:\n",
    "This notebook is composed of 7 Sections for 17 points\n",
    "\n",
    "* **Section 1: Train a CNN from Scratch on CIFAR-10 ( 2 Points)**\n",
    "\n",
    "    We will implement a Convolutional Neural Network (CNN) from the ground up to classify images from the CIFAR-10 dataset. The focus will be on understanding the architecture of CNNs, preprocessing the dataset, and optimizing the model to achieve high accuracy.\n",
    "\n",
    "* **Section 2: Unlearning( 2 Points)**\n",
    "\n",
    "    We introduce the concept of unlearning, which involves modifying a trained model to forget specific data points while retaining its overall performance.\n",
    "\n",
    "* **Section 3: Gold model ( 2 Points)**\n",
    "\n",
    "    We discuss the development of the Gold model, which serves as the benchmark for evaluating performance after implementing unlearning techniques.\n",
    "\n",
    "\n",
    "* **Section 4: Mia Attacks ( 3 Points)**\n",
    "\n",
    "    This section will focus on MIA (Membership Inference Attacks), which are designed to determine whether a specific data point was included in the training set of a machine learning model.\n",
    "    \n",
    "* **Section 5: Unlearning with KL divergence ( 2 Points)**\n",
    "\n",
    "    This section will discuss the application of Kullback-Leibler (KL) divergence in the unlearning process, emphasizing its role in quantifying the difference between the model's original and modified predictions.\n",
    "\n",
    "* **Section 6: GMN for Unlearning ( 6 Points)**\n",
    "\n",
    "    This section will introduce the use of Graph Meta Networks (GMNs) in the unlearning process, highlighting their ability to adaptively modify model parameters based on specific unlearning tasks.\n",
    "\n",
    "Do not modify parts of code that are not marked with \"Your turn\" or \"Add your code below\"."
   ]
  },
  {
   "cell_type": "code",
   "execution_count": 1,
   "metadata": {
    "colab": {
     "base_uri": "https://localhost:8080/"
    },
    "collapsed": true,
    "id": "OhksQ6Jrv8kK",
    "outputId": "71f17128-53a6-4886-e4a3-87cf3aba9976"
   },
   "outputs": [
    {
     "name": "stdout",
     "output_type": "stream",
     "text": [
      "Requirement already satisfied: torch in c:\\users\\livia_99\\appdata\\local\\packages\\pythonsoftwarefoundation.python.3.11_qbz5n2kfra8p0\\localcache\\local-packages\\python311\\site-packages (2.5.1)\n",
      "Requirement already satisfied: filelock in c:\\users\\livia_99\\appdata\\local\\packages\\pythonsoftwarefoundation.python.3.11_qbz5n2kfra8p0\\localcache\\local-packages\\python311\\site-packages (from torch) (3.16.1)\n",
      "Requirement already satisfied: typing-extensions>=4.8.0 in c:\\users\\livia_99\\appdata\\local\\packages\\pythonsoftwarefoundation.python.3.11_qbz5n2kfra8p0\\localcache\\local-packages\\python311\\site-packages (from torch) (4.12.2)\n",
      "Requirement already satisfied: networkx in c:\\users\\livia_99\\appdata\\local\\packages\\pythonsoftwarefoundation.python.3.11_qbz5n2kfra8p0\\localcache\\local-packages\\python311\\site-packages (from torch) (3.4.2)\n",
      "Requirement already satisfied: jinja2 in c:\\users\\livia_99\\appdata\\local\\packages\\pythonsoftwarefoundation.python.3.11_qbz5n2kfra8p0\\localcache\\local-packages\\python311\\site-packages (from torch) (3.1.4)\n",
      "Requirement already satisfied: fsspec in c:\\users\\livia_99\\appdata\\local\\packages\\pythonsoftwarefoundation.python.3.11_qbz5n2kfra8p0\\localcache\\local-packages\\python311\\site-packages (from torch) (2024.10.0)\n",
      "Requirement already satisfied: sympy==1.13.1 in c:\\users\\livia_99\\appdata\\local\\packages\\pythonsoftwarefoundation.python.3.11_qbz5n2kfra8p0\\localcache\\local-packages\\python311\\site-packages (from torch) (1.13.1)\n",
      "Requirement already satisfied: mpmath<1.4,>=1.1.0 in c:\\users\\livia_99\\appdata\\local\\packages\\pythonsoftwarefoundation.python.3.11_qbz5n2kfra8p0\\localcache\\local-packages\\python311\\site-packages (from sympy==1.13.1->torch) (1.3.0)\n",
      "Requirement already satisfied: MarkupSafe>=2.0 in c:\\users\\livia_99\\appdata\\local\\packages\\pythonsoftwarefoundation.python.3.11_qbz5n2kfra8p0\\localcache\\local-packages\\python311\\site-packages (from jinja2->torch) (3.0.2)\n",
      "Note: you may need to restart the kernel to use updated packages.\n"
     ]
    },
    {
     "name": "stderr",
     "output_type": "stream",
     "text": [
      "\n",
      "[notice] A new release of pip is available: 24.0 -> 24.3.1\n",
      "[notice] To update, run: C:\\Users\\Livia_99\\AppData\\Local\\Microsoft\\WindowsApps\\PythonSoftwareFoundation.Python.3.11_qbz5n2kfra8p0\\python.exe -m pip install --upgrade pip\n"
     ]
    },
    {
     "name": "stdout",
     "output_type": "stream",
     "text": [
      "Requirement already satisfied: torch_geometric in c:\\users\\livia_99\\appdata\\local\\packages\\pythonsoftwarefoundation.python.3.11_qbz5n2kfra8p0\\localcache\\local-packages\\python311\\site-packages (2.6.1)\n",
      "Requirement already satisfied: aiohttp in c:\\users\\livia_99\\appdata\\local\\packages\\pythonsoftwarefoundation.python.3.11_qbz5n2kfra8p0\\localcache\\local-packages\\python311\\site-packages (from torch_geometric) (3.11.6)\n",
      "Requirement already satisfied: fsspec in c:\\users\\livia_99\\appdata\\local\\packages\\pythonsoftwarefoundation.python.3.11_qbz5n2kfra8p0\\localcache\\local-packages\\python311\\site-packages (from torch_geometric) (2024.10.0)\n",
      "Requirement already satisfied: jinja2 in c:\\users\\livia_99\\appdata\\local\\packages\\pythonsoftwarefoundation.python.3.11_qbz5n2kfra8p0\\localcache\\local-packages\\python311\\site-packages (from torch_geometric) (3.1.4)\n",
      "Requirement already satisfied: numpy in c:\\users\\livia_99\\appdata\\local\\packages\\pythonsoftwarefoundation.python.3.11_qbz5n2kfra8p0\\localcache\\local-packages\\python311\\site-packages (from torch_geometric) (2.1.3)\n",
      "Requirement already satisfied: psutil>=5.8.0 in c:\\users\\livia_99\\appdata\\local\\packages\\pythonsoftwarefoundation.python.3.11_qbz5n2kfra8p0\\localcache\\local-packages\\python311\\site-packages (from torch_geometric) (6.1.0)\n",
      "Requirement already satisfied: pyparsing in c:\\users\\livia_99\\appdata\\local\\packages\\pythonsoftwarefoundation.python.3.11_qbz5n2kfra8p0\\localcache\\local-packages\\python311\\site-packages (from torch_geometric) (3.2.0)\n",
      "Requirement already satisfied: requests in c:\\users\\livia_99\\appdata\\local\\packages\\pythonsoftwarefoundation.python.3.11_qbz5n2kfra8p0\\localcache\\local-packages\\python311\\site-packages (from torch_geometric) (2.32.3)\n",
      "Requirement already satisfied: tqdm in c:\\users\\livia_99\\appdata\\local\\packages\\pythonsoftwarefoundation.python.3.11_qbz5n2kfra8p0\\localcache\\local-packages\\python311\\site-packages (from torch_geometric) (4.67.0)\n",
      "Requirement already satisfied: aiohappyeyeballs>=2.3.0 in c:\\users\\livia_99\\appdata\\local\\packages\\pythonsoftwarefoundation.python.3.11_qbz5n2kfra8p0\\localcache\\local-packages\\python311\\site-packages (from aiohttp->torch_geometric) (2.4.3)\n",
      "Requirement already satisfied: aiosignal>=1.1.2 in c:\\users\\livia_99\\appdata\\local\\packages\\pythonsoftwarefoundation.python.3.11_qbz5n2kfra8p0\\localcache\\local-packages\\python311\\site-packages (from aiohttp->torch_geometric) (1.3.1)\n",
      "Requirement already satisfied: attrs>=17.3.0 in c:\\users\\livia_99\\appdata\\local\\packages\\pythonsoftwarefoundation.python.3.11_qbz5n2kfra8p0\\localcache\\local-packages\\python311\\site-packages (from aiohttp->torch_geometric) (24.2.0)\n",
      "Requirement already satisfied: frozenlist>=1.1.1 in c:\\users\\livia_99\\appdata\\local\\packages\\pythonsoftwarefoundation.python.3.11_qbz5n2kfra8p0\\localcache\\local-packages\\python311\\site-packages (from aiohttp->torch_geometric) (1.5.0)\n",
      "Requirement already satisfied: multidict<7.0,>=4.5 in c:\\users\\livia_99\\appdata\\local\\packages\\pythonsoftwarefoundation.python.3.11_qbz5n2kfra8p0\\localcache\\local-packages\\python311\\site-packages (from aiohttp->torch_geometric) (6.1.0)\n",
      "Requirement already satisfied: propcache>=0.2.0 in c:\\users\\livia_99\\appdata\\local\\packages\\pythonsoftwarefoundation.python.3.11_qbz5n2kfra8p0\\localcache\\local-packages\\python311\\site-packages (from aiohttp->torch_geometric) (0.2.0)\n",
      "Requirement already satisfied: yarl<2.0,>=1.17.0 in c:\\users\\livia_99\\appdata\\local\\packages\\pythonsoftwarefoundation.python.3.11_qbz5n2kfra8p0\\localcache\\local-packages\\python311\\site-packages (from aiohttp->torch_geometric) (1.17.2)\n",
      "Requirement already satisfied: MarkupSafe>=2.0 in c:\\users\\livia_99\\appdata\\local\\packages\\pythonsoftwarefoundation.python.3.11_qbz5n2kfra8p0\\localcache\\local-packages\\python311\\site-packages (from jinja2->torch_geometric) (3.0.2)\n",
      "Requirement already satisfied: charset-normalizer<4,>=2 in c:\\users\\livia_99\\appdata\\local\\packages\\pythonsoftwarefoundation.python.3.11_qbz5n2kfra8p0\\localcache\\local-packages\\python311\\site-packages (from requests->torch_geometric) (3.4.0)\n",
      "Requirement already satisfied: idna<4,>=2.5 in c:\\users\\livia_99\\appdata\\local\\packages\\pythonsoftwarefoundation.python.3.11_qbz5n2kfra8p0\\localcache\\local-packages\\python311\\site-packages (from requests->torch_geometric) (3.10)\n",
      "Requirement already satisfied: urllib3<3,>=1.21.1 in c:\\users\\livia_99\\appdata\\local\\packages\\pythonsoftwarefoundation.python.3.11_qbz5n2kfra8p0\\localcache\\local-packages\\python311\\site-packages (from requests->torch_geometric) (2.2.3)\n",
      "Requirement already satisfied: certifi>=2017.4.17 in c:\\users\\livia_99\\appdata\\local\\packages\\pythonsoftwarefoundation.python.3.11_qbz5n2kfra8p0\\localcache\\local-packages\\python311\\site-packages (from requests->torch_geometric) (2024.8.30)\n",
      "Requirement already satisfied: colorama in c:\\users\\livia_99\\appdata\\local\\packages\\pythonsoftwarefoundation.python.3.11_qbz5n2kfra8p0\\localcache\\local-packages\\python311\\site-packages (from tqdm->torch_geometric) (0.4.6)\n",
      "Note: you may need to restart the kernel to use updated packages.\n"
     ]
    },
    {
     "name": "stderr",
     "output_type": "stream",
     "text": [
      "\n",
      "[notice] A new release of pip is available: 24.0 -> 24.3.1\n",
      "[notice] To update, run: C:\\Users\\Livia_99\\AppData\\Local\\Microsoft\\WindowsApps\\PythonSoftwareFoundation.Python.3.11_qbz5n2kfra8p0\\python.exe -m pip install --upgrade pip\n"
     ]
    },
    {
     "name": "stdout",
     "output_type": "stream",
     "text": [
      "Requirement already satisfied: pyEDM in c:\\users\\livia_99\\appdata\\local\\packages\\pythonsoftwarefoundation.python.3.11_qbz5n2kfra8p0\\localcache\\local-packages\\python311\\site-packages (2.1.0)\n",
      "Requirement already satisfied: numpy>=1.24 in c:\\users\\livia_99\\appdata\\local\\packages\\pythonsoftwarefoundation.python.3.11_qbz5n2kfra8p0\\localcache\\local-packages\\python311\\site-packages (from pyEDM) (2.1.3)\n",
      "Requirement already satisfied: scipy>=1.11 in c:\\users\\livia_99\\appdata\\local\\packages\\pythonsoftwarefoundation.python.3.11_qbz5n2kfra8p0\\localcache\\local-packages\\python311\\site-packages (from pyEDM) (1.14.1)\n",
      "Requirement already satisfied: scikit-learn>=1.3 in c:\\users\\livia_99\\appdata\\local\\packages\\pythonsoftwarefoundation.python.3.11_qbz5n2kfra8p0\\localcache\\local-packages\\python311\\site-packages (from pyEDM) (1.5.2)\n",
      "Requirement already satisfied: pandas>=2.0 in c:\\users\\livia_99\\appdata\\local\\packages\\pythonsoftwarefoundation.python.3.11_qbz5n2kfra8p0\\localcache\\local-packages\\python311\\site-packages (from pyEDM) (2.2.3)\n",
      "Requirement already satisfied: matplotlib>=3.6 in c:\\users\\livia_99\\appdata\\local\\packages\\pythonsoftwarefoundation.python.3.11_qbz5n2kfra8p0\\localcache\\local-packages\\python311\\site-packages (from pyEDM) (3.9.2)\n",
      "Requirement already satisfied: contourpy>=1.0.1 in c:\\users\\livia_99\\appdata\\local\\packages\\pythonsoftwarefoundation.python.3.11_qbz5n2kfra8p0\\localcache\\local-packages\\python311\\site-packages (from matplotlib>=3.6->pyEDM) (1.3.1)\n",
      "Requirement already satisfied: cycler>=0.10 in c:\\users\\livia_99\\appdata\\local\\packages\\pythonsoftwarefoundation.python.3.11_qbz5n2kfra8p0\\localcache\\local-packages\\python311\\site-packages (from matplotlib>=3.6->pyEDM) (0.12.1)\n",
      "Requirement already satisfied: fonttools>=4.22.0 in c:\\users\\livia_99\\appdata\\local\\packages\\pythonsoftwarefoundation.python.3.11_qbz5n2kfra8p0\\localcache\\local-packages\\python311\\site-packages (from matplotlib>=3.6->pyEDM) (4.55.0)\n",
      "Requirement already satisfied: kiwisolver>=1.3.1 in c:\\users\\livia_99\\appdata\\local\\packages\\pythonsoftwarefoundation.python.3.11_qbz5n2kfra8p0\\localcache\\local-packages\\python311\\site-packages (from matplotlib>=3.6->pyEDM) (1.4.7)\n",
      "Requirement already satisfied: packaging>=20.0 in c:\\users\\livia_99\\appdata\\local\\packages\\pythonsoftwarefoundation.python.3.11_qbz5n2kfra8p0\\localcache\\local-packages\\python311\\site-packages (from matplotlib>=3.6->pyEDM) (24.2)\n",
      "Requirement already satisfied: pillow>=8 in c:\\users\\livia_99\\appdata\\local\\packages\\pythonsoftwarefoundation.python.3.11_qbz5n2kfra8p0\\localcache\\local-packages\\python311\\site-packages (from matplotlib>=3.6->pyEDM) (11.0.0)\n",
      "Requirement already satisfied: pyparsing>=2.3.1 in c:\\users\\livia_99\\appdata\\local\\packages\\pythonsoftwarefoundation.python.3.11_qbz5n2kfra8p0\\localcache\\local-packages\\python311\\site-packages (from matplotlib>=3.6->pyEDM) (3.2.0)\n",
      "Requirement already satisfied: python-dateutil>=2.7 in c:\\users\\livia_99\\appdata\\local\\packages\\pythonsoftwarefoundation.python.3.11_qbz5n2kfra8p0\\localcache\\local-packages\\python311\\site-packages (from matplotlib>=3.6->pyEDM) (2.9.0.post0)\n",
      "Requirement already satisfied: pytz>=2020.1 in c:\\users\\livia_99\\appdata\\local\\packages\\pythonsoftwarefoundation.python.3.11_qbz5n2kfra8p0\\localcache\\local-packages\\python311\\site-packages (from pandas>=2.0->pyEDM) (2024.2)\n",
      "Requirement already satisfied: tzdata>=2022.7 in c:\\users\\livia_99\\appdata\\local\\packages\\pythonsoftwarefoundation.python.3.11_qbz5n2kfra8p0\\localcache\\local-packages\\python311\\site-packages (from pandas>=2.0->pyEDM) (2024.2)\n",
      "Requirement already satisfied: joblib>=1.2.0 in c:\\users\\livia_99\\appdata\\local\\packages\\pythonsoftwarefoundation.python.3.11_qbz5n2kfra8p0\\localcache\\local-packages\\python311\\site-packages (from scikit-learn>=1.3->pyEDM) (1.4.2)\n",
      "Requirement already satisfied: threadpoolctl>=3.1.0 in c:\\users\\livia_99\\appdata\\local\\packages\\pythonsoftwarefoundation.python.3.11_qbz5n2kfra8p0\\localcache\\local-packages\\python311\\site-packages (from scikit-learn>=1.3->pyEDM) (3.5.0)\n",
      "Requirement already satisfied: six>=1.5 in c:\\users\\livia_99\\appdata\\local\\packages\\pythonsoftwarefoundation.python.3.11_qbz5n2kfra8p0\\localcache\\local-packages\\python311\\site-packages (from python-dateutil>=2.7->matplotlib>=3.6->pyEDM) (1.16.0)\n",
      "Note: you may need to restart the kernel to use updated packages.\n"
     ]
    },
    {
     "name": "stderr",
     "output_type": "stream",
     "text": [
      "\n",
      "[notice] A new release of pip is available: 24.0 -> 24.3.1\n",
      "[notice] To update, run: C:\\Users\\Livia_99\\AppData\\Local\\Microsoft\\WindowsApps\\PythonSoftwareFoundation.Python.3.11_qbz5n2kfra8p0\\python.exe -m pip install --upgrade pip\n"
     ]
    }
   ],
   "source": [
    "%pip install torch\n",
    "%pip install torch_geometric\n",
    "%pip install pyEDM"
   ]
  },
  {
   "cell_type": "code",
   "execution_count": 2,
   "metadata": {},
   "outputs": [
    {
     "name": "stdout",
     "output_type": "stream",
     "text": [
      "Requirement already satisfied: torch in c:\\users\\livia_99\\appdata\\local\\packages\\pythonsoftwarefoundation.python.3.11_qbz5n2kfra8p0\\localcache\\local-packages\\python311\\site-packages (2.5.1)\n",
      "Requirement already satisfied: torchvision in c:\\users\\livia_99\\appdata\\local\\packages\\pythonsoftwarefoundation.python.3.11_qbz5n2kfra8p0\\localcache\\local-packages\\python311\\site-packages (0.20.1)\n",
      "Requirement already satisfied: filelock in c:\\users\\livia_99\\appdata\\local\\packages\\pythonsoftwarefoundation.python.3.11_qbz5n2kfra8p0\\localcache\\local-packages\\python311\\site-packages (from torch) (3.16.1)\n",
      "Requirement already satisfied: typing-extensions>=4.8.0 in c:\\users\\livia_99\\appdata\\local\\packages\\pythonsoftwarefoundation.python.3.11_qbz5n2kfra8p0\\localcache\\local-packages\\python311\\site-packages (from torch) (4.12.2)\n",
      "Requirement already satisfied: networkx in c:\\users\\livia_99\\appdata\\local\\packages\\pythonsoftwarefoundation.python.3.11_qbz5n2kfra8p0\\localcache\\local-packages\\python311\\site-packages (from torch) (3.4.2)\n",
      "Requirement already satisfied: jinja2 in c:\\users\\livia_99\\appdata\\local\\packages\\pythonsoftwarefoundation.python.3.11_qbz5n2kfra8p0\\localcache\\local-packages\\python311\\site-packages (from torch) (3.1.4)\n",
      "Requirement already satisfied: fsspec in c:\\users\\livia_99\\appdata\\local\\packages\\pythonsoftwarefoundation.python.3.11_qbz5n2kfra8p0\\localcache\\local-packages\\python311\\site-packages (from torch) (2024.10.0)\n",
      "Requirement already satisfied: sympy==1.13.1 in c:\\users\\livia_99\\appdata\\local\\packages\\pythonsoftwarefoundation.python.3.11_qbz5n2kfra8p0\\localcache\\local-packages\\python311\\site-packages (from torch) (1.13.1)\n",
      "Requirement already satisfied: mpmath<1.4,>=1.1.0 in c:\\users\\livia_99\\appdata\\local\\packages\\pythonsoftwarefoundation.python.3.11_qbz5n2kfra8p0\\localcache\\local-packages\\python311\\site-packages (from sympy==1.13.1->torch) (1.3.0)\n",
      "Requirement already satisfied: numpy in c:\\users\\livia_99\\appdata\\local\\packages\\pythonsoftwarefoundation.python.3.11_qbz5n2kfra8p0\\localcache\\local-packages\\python311\\site-packages (from torchvision) (2.1.3)\n",
      "Requirement already satisfied: pillow!=8.3.*,>=5.3.0 in c:\\users\\livia_99\\appdata\\local\\packages\\pythonsoftwarefoundation.python.3.11_qbz5n2kfra8p0\\localcache\\local-packages\\python311\\site-packages (from torchvision) (11.0.0)\n",
      "Requirement already satisfied: MarkupSafe>=2.0 in c:\\users\\livia_99\\appdata\\local\\packages\\pythonsoftwarefoundation.python.3.11_qbz5n2kfra8p0\\localcache\\local-packages\\python311\\site-packages (from jinja2->torch) (3.0.2)\n",
      "Note: you may need to restart the kernel to use updated packages.\n"
     ]
    },
    {
     "name": "stderr",
     "output_type": "stream",
     "text": [
      "\n",
      "[notice] A new release of pip is available: 24.0 -> 24.3.1\n",
      "[notice] To update, run: C:\\Users\\Livia_99\\AppData\\Local\\Microsoft\\WindowsApps\\PythonSoftwareFoundation.Python.3.11_qbz5n2kfra8p0\\python.exe -m pip install --upgrade pip\n"
     ]
    }
   ],
   "source": [
    "%pip install torch torchvision"
   ]
  },
  {
   "cell_type": "code",
   "execution_count": 3,
   "metadata": {
    "id": "E-eSJukQuyTI"
   },
   "outputs": [],
   "source": [
    "# import libraries\n",
    "import numpy as np\n",
    "import pandas as pd\n",
    "import matplotlib.pyplot as plt\n",
    "import torch\n",
    "import torch.nn as nn\n",
    "from torchvision import datasets, transforms\n",
    "from torchvision.transforms import ToTensor\n",
    "from torch.utils.data import DataLoader\n",
    "from tqdm import tqdm\n",
    "import os\n",
    "import random\n",
    "from sklearn import linear_model, model_selection\n",
    "from torch_geometric.data import Data\n",
    "from gmn.graph_construct.model_arch_graph import sequential_to_arch, arch_to_graph\n",
    "import torch.nn.functional as F\n",
    "\n",
    "\n",
    "#fix seeds\n",
    "np.random.seed(0)\n",
    "torch.manual_seed(0)\n",
    "random.seed(0)\n",
    "torch.cuda.manual_seed(0)\n",
    "torch.cuda.manual_seed_all(0)\n",
    "torch.backends.cudnn.deterministic = True\n",
    "torch.backends.cudnn.benchmark = False\n"
   ]
  },
  {
   "cell_type": "markdown",
   "metadata": {
    "id": "Ar_aBgqTuyTJ"
   },
   "source": [
    "# Section 1: Train from scratch a CNN on CIFAR-10"
   ]
  },
  {
   "cell_type": "markdown",
   "metadata": {
    "id": "B3nKLrKiuyTJ"
   },
   "source": [
    "### 1.1: Model definition"
   ]
  },
  {
   "cell_type": "code",
   "execution_count": 4,
   "metadata": {
    "id": "SX5eESGjuyTJ"
   },
   "outputs": [],
   "source": [
    "def create_model():\n",
    "    '''\n",
    "    Create a simple CNN model for CIFAR10 dataset\n",
    "    '''\n",
    "\n",
    "    model = nn.Sequential(\n",
    "        nn.Conv2d(3, 32, kernel_size=(3, 3), stride=1, padding=1),\n",
    "        nn.BatchNorm2d(32),\n",
    "        nn.ReLU(),\n",
    "        nn.AvgPool2d(kernel_size=2, stride=2),\n",
    "        nn.Dropout(p=0.1),\n",
    "\n",
    "        nn.Conv2d(32, 64, kernel_size=(3, 3), stride=1, padding=1),\n",
    "        nn.BatchNorm2d(64),\n",
    "        nn.ReLU(),\n",
    "        nn.AvgPool2d(kernel_size=2, stride=2),\n",
    "        nn.Dropout(p=0.1),\n",
    "\n",
    "        nn.Conv2d(64, 64, kernel_size=(3, 3), stride=1, padding=1),\n",
    "        nn.BatchNorm2d(64),\n",
    "        nn.ReLU(),\n",
    "        nn.AdaptiveAvgPool2d((1,1)),\n",
    "        nn.Flatten(),\n",
    "        nn.Dropout(p=0.1),\n",
    "\n",
    "        nn.Linear(64, 32),\n",
    "        nn.ReLU(),\n",
    "        nn.Dropout(p=0.1),\n",
    "\n",
    "        nn.Linear(32, 10)\n",
    "    )\n",
    "\n",
    "    return model"
   ]
  },
  {
   "cell_type": "markdown",
   "metadata": {
    "id": "bHc_nXgouyTK"
   },
   "source": [
    "### 1.2 DataLoader\n"
   ]
  },
  {
   "cell_type": "markdown",
   "metadata": {
    "id": "4F7OinDOuyTK"
   },
   "source": [
    "#### Your turn ( 1 Point)\n",
    "\n",
    "Calculate the mean and the standard deviation vectors to be used in cifar_transforms  rounding the values to four decimal places."
   ]
  },
  {
   "cell_type": "code",
   "execution_count": 5,
   "metadata": {
    "colab": {
     "base_uri": "https://localhost:8080/"
    },
    "id": "H2mWB-I8uyTK",
    "outputId": "f074c118-78b5-4163-af19-8a5814d93be5"
   },
   "outputs": [
    {
     "name": "stdout",
     "output_type": "stream",
     "text": [
      "Files already downloaded and verified\n",
      "Mean:  [0.4914 0.4822 0.4465]\n",
      "Std:  [0.247  0.2435 0.2616]\n"
     ]
    }
   ],
   "source": [
    "import numpy as np\n",
    "from torchvision import datasets, transforms\n",
    "\n",
    "# Load the dataset\n",
    "train_dataset = datasets.CIFAR10(root='./data', train=True, download=True, transform=transforms.ToTensor())\n",
    "\n",
    "'''\n",
    "Add your code below\n",
    "'''\n",
    "# Compute the mean and standard deviation for each channel\n",
    "mean = np.mean(train_dataset.data, axis=(0, 1, 2)) / 255.0\n",
    "std = np.std(train_dataset.data, axis=(0, 1, 2)) / 255.0\n",
    "#axis = (0,1,2) -> ensures that we're computing the mean and standard deviation across the entire dataset for each channel separately.\n",
    "#division by 255.0 -> normalizing the pixel values to the range [0, 1] (common preprocessing when dealing with images)\n",
    "\n",
    "print(\"Mean: \", np.round(mean, 4))\n",
    "print(\"Std: \", np.round(std, 4))"
   ]
  },
  {
   "cell_type": "code",
   "execution_count": 6,
   "metadata": {
    "colab": {
     "base_uri": "https://localhost:8080/"
    },
    "id": "WN95JMrSuyTL",
    "outputId": "f9712f19-3407-4c1f-8d9d-7000257be7bf"
   },
   "outputs": [
    {
     "name": "stdout",
     "output_type": "stream",
     "text": [
      "Files already downloaded and verified\n",
      "Files already downloaded and verified\n"
     ]
    }
   ],
   "source": [
    "# Define the augmentations for the training set\n",
    "cifar_transforms = transforms.Compose([\n",
    "    transforms.ToTensor(),                    # Convert the image to a PyTorch tensor\n",
    "    transforms.Normalize(mean, std), # Normalize the image channel\n",
    "])\n",
    "\n",
    "# Load the CIFAR-10 dataset with the appropriate transforms\n",
    "train_dataset = datasets.CIFAR10(root=\"data\", train=True, transform=cifar_transforms, download=True)\n",
    "test_dataset = datasets.CIFAR10(root=\"data\", train=False, transform=cifar_transforms, download=True)\n",
    "\n",
    "#split test into test and validation\n",
    "val_dataset, test_dataset = torch.utils.data.random_split(test_dataset, [2000, 8000])"
   ]
  },
  {
   "cell_type": "code",
   "execution_count": 7,
   "metadata": {
    "id": "_mtAsVTvuyTL"
   },
   "outputs": [],
   "source": [
    "batch_size = 512\n",
    "\n",
    "# Create the DataLoaders\n",
    "train_loader = DataLoader(train_dataset, batch_size = batch_size, shuffle=True)\n",
    "val_loader = DataLoader(val_dataset, batch_size = batch_size, shuffle=False)\n",
    "test_loader = DataLoader(test_dataset, batch_size = batch_size, shuffle=False)"
   ]
  },
  {
   "cell_type": "markdown",
   "metadata": {
    "id": "2vLsE30PuyTM"
   },
   "source": [
    "### 1.3 See the data"
   ]
  },
  {
   "cell_type": "code",
   "execution_count": 8,
   "metadata": {
    "colab": {
     "base_uri": "https://localhost:8080/",
     "height": 155
    },
    "id": "MWkCX4cSuyTM",
    "outputId": "0e099f86-4a6d-40d9-d781-accacd8b4242"
   },
   "outputs": [
    {
     "data": {
      "image/png": "[encoded data removed]",
      "text/plain": [
       "<Figure size 2000x400 with 20 Axes>"
      ]
     },
     "metadata": {},
     "output_type": "display_data"
    }
   ],
   "source": [
    "# plot 2 figures for each of the 10 classes in the dataset\n",
    "fig, axs = plt.subplots(2, 10, figsize=(20, 4))\n",
    "for i in range(10):\n",
    "    # Get the first image of each class\n",
    "    img = train_dataset.data[train_dataset.targets.index(i)]\n",
    "    axs[0, i].imshow(img)\n",
    "    axs[0, i].axis('off')\n",
    "    axs[0, i].set_title(train_dataset.classes[i])\n",
    "\n",
    "    # Get the second image of each class\n",
    "    img = train_dataset.data[train_dataset.targets.index(i, train_dataset.targets.index(i) + 1)]\n",
    "    axs[1, i].imshow(img)\n",
    "    axs[1, i].axis('off')"
   ]
  },
  {
   "cell_type": "markdown",
   "metadata": {
    "id": "KrFrz35IuyTM"
   },
   "source": [
    "### 1.4: Training Loop"
   ]
  },
  {
   "cell_type": "code",
   "execution_count": 9,
   "metadata": {
    "colab": {
     "base_uri": "https://localhost:8080/"
    },
    "id": "4X7NQhdSuyTM",
    "outputId": "3f065f65-844e-4c9f-8c26-ab7b496698df"
   },
   "outputs": [
    {
     "name": "stderr",
     "output_type": "stream",
     "text": [
      "C:\\Users\\Livia_99\\AppData\\Local\\Temp\\ipykernel_2272\\3872289120.py:4: FutureWarning: You are using `torch.load` with `weights_only=False` (the current default value), which uses the default pickle module implicitly. It is possible to construct malicious pickle data which will execute arbitrary code during unpickling (See https://github.com/pytorch/pytorch/blob/main/SECURITY.md#untrusted-models for more details). In a future release, the default value for `weights_only` will be flipped to `True`. This limits the functions that could be executed during unpickling. Arbitrary objects will no longer be allowed to be loaded via this mode unless they are explicitly allowlisted by the user via `torch.serialization.add_safe_globals`. We recommend you start setting `weights_only=True` for any use case where you don't have full control of the loaded file. Please open an issue on GitHub for any issues related to this experimental feature.\n",
      "  model.load_state_dict(torch.load('./checkpoint/model_weights.pth'))\n",
      "C:\\Users\\Livia_99\\AppData\\Local\\Packages\\PythonSoftwareFoundation.Python.3.11_qbz5n2kfra8p0\\LocalCache\\local-packages\\Python311\\site-packages\\torch\\optim\\lr_scheduler.py:62: UserWarning: The verbose parameter is deprecated. Please use get_last_lr() to access the learning rate.\n",
      "  warnings.warn(\n"
     ]
    }
   ],
   "source": [
    "device = torch.device(\"cuda\" if torch.cuda.is_available() else \"cpu\")\n",
    "#load weights\n",
    "model = create_model()\n",
    "model.load_state_dict(torch.load('./checkpoint/model_weights.pth'))\n",
    "model.to(device);\n",
    "\n",
    "# initialize the loss function and optimizer\n",
    "criterion = nn.CrossEntropyLoss()\n",
    "optimizer = torch.optim.Adam(model.parameters(), lr=0.001)\n",
    "scheduler = torch.optim.lr_scheduler.ReduceLROnPlateau(optimizer, mode='min', factor=0.1, patience=5, verbose=True)\n",
    "num_epochs = 20\n"
   ]
  },
  {
   "cell_type": "code",
   "execution_count": 10,
   "metadata": {
    "colab": {
     "base_uri": "https://localhost:8080/"
    },
    "id": "9s843eZ4uyTN",
    "outputId": "56a6edfe-48a4-421b-e505-767f5beccfc9"
   },
   "outputs": [
    {
     "name": "stderr",
     "output_type": "stream",
     "text": [
      "Epoch [1/20]: 100%|██████████| 98/98 [00:22<00:00,  4.39it/s, loss=1.55]\n"
     ]
    },
    {
     "name": "stdout",
     "output_type": "stream",
     "text": [
      "Epoch [1/20], Average Loss: 1.8865\n",
      "Validation Loss: 1.6026\n"
     ]
    },
    {
     "name": "stderr",
     "output_type": "stream",
     "text": [
      "Epoch [2/20]: 100%|██████████| 98/98 [00:24<00:00,  3.92it/s, loss=1.41]\n"
     ]
    },
    {
     "name": "stdout",
     "output_type": "stream",
     "text": [
      "Epoch [2/20], Average Loss: 1.4528\n",
      "Validation Loss: 1.4044\n"
     ]
    },
    {
     "name": "stderr",
     "output_type": "stream",
     "text": [
      "Epoch [3/20]: 100%|██████████| 98/98 [00:26<00:00,  3.76it/s, loss=1.23]\n"
     ]
    },
    {
     "name": "stdout",
     "output_type": "stream",
     "text": [
      "Epoch [3/20], Average Loss: 1.3163\n",
      "Validation Loss: 1.2337\n"
     ]
    },
    {
     "name": "stderr",
     "output_type": "stream",
     "text": [
      "Epoch [4/20]: 100%|██████████| 98/98 [00:24<00:00,  4.05it/s, loss=1.21]\n"
     ]
    },
    {
     "name": "stdout",
     "output_type": "stream",
     "text": [
      "Epoch [4/20], Average Loss: 1.2407\n",
      "Validation Loss: 1.1593\n"
     ]
    },
    {
     "name": "stderr",
     "output_type": "stream",
     "text": [
      "Epoch [5/20]: 100%|██████████| 98/98 [00:24<00:00,  4.01it/s, loss=1.15]\n"
     ]
    },
    {
     "name": "stdout",
     "output_type": "stream",
     "text": [
      "Epoch [5/20], Average Loss: 1.1892\n",
      "Validation Loss: 1.1709\n"
     ]
    },
    {
     "name": "stderr",
     "output_type": "stream",
     "text": [
      "Epoch [6/20]: 100%|██████████| 98/98 [00:24<00:00,  4.04it/s, loss=1.09]\n"
     ]
    },
    {
     "name": "stdout",
     "output_type": "stream",
     "text": [
      "Epoch [6/20], Average Loss: 1.1550\n",
      "Validation Loss: 1.2492\n"
     ]
    },
    {
     "name": "stderr",
     "output_type": "stream",
     "text": [
      "Epoch [7/20]: 100%|██████████| 98/98 [00:24<00:00,  4.02it/s, loss=1.08]\n"
     ]
    },
    {
     "name": "stdout",
     "output_type": "stream",
     "text": [
      "Epoch [7/20], Average Loss: 1.1251\n",
      "Validation Loss: 1.1328\n"
     ]
    },
    {
     "name": "stderr",
     "output_type": "stream",
     "text": [
      "Epoch [8/20]: 100%|██████████| 98/98 [00:24<00:00,  4.02it/s, loss=1.04] \n"
     ]
    },
    {
     "name": "stdout",
     "output_type": "stream",
     "text": [
      "Epoch [8/20], Average Loss: 1.1000\n",
      "Validation Loss: 1.0867\n"
     ]
    },
    {
     "name": "stderr",
     "output_type": "stream",
     "text": [
      "Epoch [9/20]: 100%|██████████| 98/98 [00:24<00:00,  4.03it/s, loss=1.01] \n"
     ]
    },
    {
     "name": "stdout",
     "output_type": "stream",
     "text": [
      "Epoch [9/20], Average Loss: 1.0775\n",
      "Validation Loss: 1.0525\n"
     ]
    },
    {
     "name": "stderr",
     "output_type": "stream",
     "text": [
      "Epoch [10/20]: 100%|██████████| 98/98 [00:25<00:00,  3.88it/s, loss=1.05] \n"
     ]
    },
    {
     "name": "stdout",
     "output_type": "stream",
     "text": [
      "Epoch [10/20], Average Loss: 1.0568\n",
      "Validation Loss: 1.0633\n"
     ]
    },
    {
     "name": "stderr",
     "output_type": "stream",
     "text": [
      "Epoch [11/20]: 100%|██████████| 98/98 [00:24<00:00,  3.97it/s, loss=1.07] \n"
     ]
    },
    {
     "name": "stdout",
     "output_type": "stream",
     "text": [
      "Epoch [11/20], Average Loss: 1.0425\n",
      "Validation Loss: 1.0002\n"
     ]
    },
    {
     "name": "stderr",
     "output_type": "stream",
     "text": [
      "Epoch [12/20]: 100%|██████████| 98/98 [00:24<00:00,  3.92it/s, loss=1.03] \n"
     ]
    },
    {
     "name": "stdout",
     "output_type": "stream",
     "text": [
      "Epoch [12/20], Average Loss: 1.0178\n",
      "Validation Loss: 0.9718\n"
     ]
    },
    {
     "name": "stderr",
     "output_type": "stream",
     "text": [
      "Epoch [13/20]: 100%|██████████| 98/98 [00:25<00:00,  3.91it/s, loss=1.02] \n"
     ]
    },
    {
     "name": "stdout",
     "output_type": "stream",
     "text": [
      "Epoch [13/20], Average Loss: 1.0080\n",
      "Validation Loss: 0.9075\n"
     ]
    },
    {
     "name": "stderr",
     "output_type": "stream",
     "text": [
      "Epoch [14/20]: 100%|██████████| 98/98 [00:24<00:00,  3.97it/s, loss=0.942]\n"
     ]
    },
    {
     "name": "stdout",
     "output_type": "stream",
     "text": [
      "Epoch [14/20], Average Loss: 1.0018\n",
      "Validation Loss: 0.9255\n"
     ]
    },
    {
     "name": "stderr",
     "output_type": "stream",
     "text": [
      "Epoch [15/20]: 100%|██████████| 98/98 [00:24<00:00,  4.02it/s, loss=0.969]\n"
     ]
    },
    {
     "name": "stdout",
     "output_type": "stream",
     "text": [
      "Epoch [15/20], Average Loss: 0.9818\n",
      "Validation Loss: 1.0042\n"
     ]
    },
    {
     "name": "stderr",
     "output_type": "stream",
     "text": [
      "Epoch [16/20]: 100%|██████████| 98/98 [00:27<00:00,  3.57it/s, loss=0.962]\n"
     ]
    },
    {
     "name": "stdout",
     "output_type": "stream",
     "text": [
      "Epoch [16/20], Average Loss: 0.9706\n",
      "Validation Loss: 0.8951\n"
     ]
    },
    {
     "name": "stderr",
     "output_type": "stream",
     "text": [
      "Epoch [17/20]: 100%|██████████| 98/98 [00:35<00:00,  2.77it/s, loss=0.954]\n"
     ]
    },
    {
     "name": "stdout",
     "output_type": "stream",
     "text": [
      "Epoch [17/20], Average Loss: 0.9542\n",
      "Validation Loss: 0.9426\n"
     ]
    },
    {
     "name": "stderr",
     "output_type": "stream",
     "text": [
      "Epoch [18/20]: 100%|██████████| 98/98 [00:24<00:00,  4.01it/s, loss=0.952]\n"
     ]
    },
    {
     "name": "stdout",
     "output_type": "stream",
     "text": [
      "Epoch [18/20], Average Loss: 0.9361\n",
      "Validation Loss: 0.8746\n"
     ]
    },
    {
     "name": "stderr",
     "output_type": "stream",
     "text": [
      "Epoch [19/20]: 100%|██████████| 98/98 [00:24<00:00,  3.96it/s, loss=0.843]\n"
     ]
    },
    {
     "name": "stdout",
     "output_type": "stream",
     "text": [
      "Epoch [19/20], Average Loss: 0.9332\n",
      "Validation Loss: 0.9319\n"
     ]
    },
    {
     "name": "stderr",
     "output_type": "stream",
     "text": [
      "Epoch [20/20]: 100%|██████████| 98/98 [00:24<00:00,  3.95it/s, loss=0.941]\n"
     ]
    },
    {
     "name": "stdout",
     "output_type": "stream",
     "text": [
      "Epoch [20/20], Average Loss: 0.9243\n",
      "Validation Loss: 0.9725\n"
     ]
    }
   ],
   "source": [
    "# Placeholder for storing losses for each epoch\n",
    "losses = []\n",
    "losses_val = []\n",
    "\n",
    "# Training the model\n",
    "for epoch in range(num_epochs):\n",
    "\n",
    "    ######### TRAINING ##########\n",
    "    model.train()\n",
    "    running_loss = 0  # To track loss for this epoch\n",
    "\n",
    "    # Using tqdm for the progress bar\n",
    "    loop = tqdm(enumerate(train_loader), total=len(train_loader), leave=True)\n",
    "\n",
    "    for batch_idx, (data, targets) in loop:\n",
    "        # Get data to cuda if possible\n",
    "        data = data.to(device=device)\n",
    "        targets = targets.to(device=device)\n",
    "\n",
    "        # Forward pass\n",
    "        scores = model(data)\n",
    "        loss = criterion(scores, targets)\n",
    "\n",
    "        # Backward pass\n",
    "        optimizer.zero_grad()\n",
    "        loss.backward()\n",
    "\n",
    "        # Gradient descent step\n",
    "        optimizer.step()\n",
    "\n",
    "        # Accumulate loss\n",
    "        running_loss += loss.item()\n",
    "\n",
    "        # Update progress bar with loss and epoch information\n",
    "        loop.set_description(f\"Epoch [{epoch+1}/{num_epochs}]\")\n",
    "        loop.set_postfix(loss=loss.item())\n",
    "\n",
    "    # Calculate average loss for the epoch\n",
    "    avg_loss = running_loss / len(train_loader)\n",
    "    losses.append(avg_loss)\n",
    "\n",
    "    #scheduler\n",
    "    scheduler.step(avg_loss)\n",
    "\n",
    "    # Print loss for this epoch\n",
    "    tqdm.write(f\"Epoch [{epoch+1}/{num_epochs}], Average Loss: {avg_loss:.4f}\")\n",
    "\n",
    "    ####### VALIDATION ########\n",
    "    model.eval()\n",
    "    val_loss = 0\n",
    "\n",
    "    with torch.no_grad():\n",
    "        for data, targets in val_loader:\n",
    "            data = data.to(device=device)\n",
    "            targets = targets.to(device=device)\n",
    "\n",
    "            scores = model(data)\n",
    "            loss = criterion(scores, targets)\n",
    "            val_loss += loss.item()\n",
    "        # Calculate average loss for the epoch\n",
    "        avg_val_loss = val_loss / len(val_loader)\n",
    "        losses_val.append(avg_val_loss)\n",
    "        print(f\"Validation Loss: {avg_val_loss:.4f}\")\n",
    "        # if avg val_loss is better than the one before, save the model\n",
    "        if epoch == 0:\n",
    "            # create directory if not exist\n",
    "            os.makedirs(\"checkpoint\", exist_ok=True)\n",
    "            best_loss = avg_val_loss\n",
    "            torch.save(model.state_dict(), \"checkpoint/trained_model.pth\")\n",
    "        elif avg_val_loss < best_loss:\n",
    "            best_loss = avg_val_loss\n",
    "            torch.save(model.state_dict(), \"checkpoint/trained_model.pth\")\n",
    "\n"
   ]
  },
  {
   "cell_type": "code",
   "execution_count": 11,
   "metadata": {
    "colab": {
     "base_uri": "https://localhost:8080/",
     "height": 278
    },
    "id": "kqB_wJmYuyTN",
    "outputId": "18ebaf97-f281-4761-835f-f3c8008b9424"
   },
   "outputs": [
    {
     "name": "stdout",
     "output_type": "stream",
     "text": [
      "Best validation loss: 0.8746\n"
     ]
    },
    {
     "data": {
      "image/png": "[encoded data removed]",
      "text/plain": [
       "<Figure size 1500x500 with 1 Axes>"
      ]
     },
     "metadata": {},
     "output_type": "display_data"
    }
   ],
   "source": [
    "# Plot the losses after training\n",
    "# epoch of best validation loss\n",
    "print(f\"Best validation loss: {best_loss:.4f}\")\n",
    "index_best = losses_val.index(best_loss)\n",
    "\n",
    "plt.figure(figsize=(15, 5))\n",
    "plt.plot(range(1,num_epochs+1), losses, label=\"Train Loss\")\n",
    "plt.plot(range(1,num_epochs+1), losses_val, label=\"Val Loss\")\n",
    "plt.axvline(index_best+1, color='r', linestyle='--', label=\"Best Val Loss\")\n",
    "plt.legend()\n",
    "plt.title(\"Loss vs Epochs\")\n",
    "plt.xlabel(\"Epochs\")\n",
    "plt.ylabel(\"Loss\")\n",
    "plt.grid()\n",
    "plt.show()"
   ]
  },
  {
   "cell_type": "markdown",
   "metadata": {
    "id": "ZdyD4QOquyTN"
   },
   "source": [
    "#### Your Turn (1 point)\n",
    "\n",
    "**Question**\n",
    "\n",
    "Q: *Based on what you've learned in the lectures and by examining the image above, identify the problems with this plot and explain how to fix them.*\n",
    "\n",
    "A:<br>\n",
    "Based on the analysis of the provided ***`Loss vs. Epoch`*** plot, two main issues can be identified:\n",
    "\n",
    "1. **Divergence Between Training and Validation Losses**:  \n",
    "   While the training loss steadily decreases, the validation loss does not follow the same trend. After reaching its lowest point (indicated by the red dashed line), the validation loss begins to rise, suggesting a divergence between training and validation performance.\n",
    "\n",
    "2. **Instability in Validation Loss**:  \n",
    "   The validation loss shows significant fluctuations and spikes, particularly around epochs 6, 15, and 18, indicating instability. Due to this instability, it’s possible that the best validation loss (currently shown around epoch 19) could occur earlier in training.\n",
    "\n",
    "These issues indicate signs of overfitting and possible problems with hyperparameters like the learning rate or batch size, as seen in the validation loss spikes. However, a `learning rate scheduler` is already in place, which should mitigate learning rate issues, and the current batch size (512) appears appropriate based on prior experimentation.\n",
    "\n",
    "To address these problems, we could:\n",
    "- Apply **regularization techniques** (such as dropout or L2 regularization) to improve generalization.\n",
    "- Implement **early stopping** to halt training based on validation loss.\n",
    "- **Increase the number of epochs** to allow more time for full convergence if overfitting stabilizes.\n",
    "\n",
    "While **reducing the learning rate** is a common approach, it may not be necessary here given the learning rate scheduler already in use."
   ]
  },
  {
   "cell_type": "markdown",
   "metadata": {
    "id": "xFjtNHOpuyTO"
   },
   "source": [
    "### 1.5 Evaluation\n",
    "\n",
    "Now, let's evaluate the performances of our model"
   ]
  },
  {
   "cell_type": "code",
   "execution_count": 12,
   "metadata": {
    "id": "yUi00XpluyTO"
   },
   "outputs": [],
   "source": [
    "# accuracy\n",
    "def accuracy (model, loader):\n",
    "    '''\n",
    "    Function to calculate the accuracy of the model on the test set\n",
    "    '''\n",
    "    correct = 0\n",
    "    total = 0\n",
    "    for data, targets in loader:\n",
    "        data = data.to(device=device)\n",
    "        targets = targets.to(device=device)\n",
    "        scores = model(data)\n",
    "        _, predictions = scores.max(1)\n",
    "        correct += (predictions == targets).sum()\n",
    "        total += targets.shape[0]\n",
    "    return correct / total"
   ]
  },
  {
   "cell_type": "code",
   "execution_count": 13,
   "metadata": {
    "colab": {
     "base_uri": "https://localhost:8080/"
    },
    "id": "A-ECxBk4uyTO",
    "outputId": "ccc7d2fa-b1cf-4d97-b8ce-9a2e20e6ee6b"
   },
   "outputs": [
    {
     "name": "stderr",
     "output_type": "stream",
     "text": [
      "C:\\Users\\Livia_99\\AppData\\Local\\Temp\\ipykernel_2272\\925873892.py:3: FutureWarning: You are using `torch.load` with `weights_only=False` (the current default value), which uses the default pickle module implicitly. It is possible to construct malicious pickle data which will execute arbitrary code during unpickling (See https://github.com/pytorch/pytorch/blob/main/SECURITY.md#untrusted-models for more details). In a future release, the default value for `weights_only` will be flipped to `True`. This limits the functions that could be executed during unpickling. Arbitrary objects will no longer be allowed to be loaded via this mode unless they are explicitly allowlisted by the user via `torch.serialization.add_safe_globals`. We recommend you start setting `weights_only=True` for any use case where you don't have full control of the loaded file. Please open an issue on GitHub for any issues related to this experimental feature.\n",
      "  model.load_state_dict(torch.load('./checkpoint/trained_model.pth'))\n"
     ]
    },
    {
     "name": "stdout",
     "output_type": "stream",
     "text": [
      "Your Model Train Accuracy : 70.1920\n",
      "Your Model Test Accuracy : 68.7750\n"
     ]
    }
   ],
   "source": [
    "# your model\n",
    "model = create_model()\n",
    "model.load_state_dict(torch.load('./checkpoint/trained_model.pth'))\n",
    "model.eval()\n",
    "model.to(device)\n",
    "\n",
    "# Calculate accuracy on the train and test set\n",
    "train_accuracy = accuracy(model, train_loader)\n",
    "test_accuracy = accuracy(model, test_loader)\n",
    "\n",
    "print(f\"Your Model Train Accuracy : {100* train_accuracy:.4f}\")\n",
    "print(f\"Your Model Test Accuracy : {100* test_accuracy:.4f}\")"
   ]
  },
  {
   "cell_type": "markdown",
   "metadata": {
    "id": "DqE0bvIjuyTO"
   },
   "source": [
    "To avoid training for too many epochs, here it is a checkpoint you can use for the trained model."
   ]
  },
  {
   "cell_type": "code",
   "execution_count": 14,
   "metadata": {
    "colab": {
     "base_uri": "https://localhost:8080/"
    },
    "id": "okVsXeOFuyTO",
    "outputId": "5bbfadeb-1c3a-4ca1-8a76-e7c322d1b12e"
   },
   "outputs": [
    {
     "name": "stderr",
     "output_type": "stream",
     "text": [
      "C:\\Users\\Livia_99\\AppData\\Local\\Temp\\ipykernel_2272\\2361541384.py:2: FutureWarning: You are using `torch.load` with `weights_only=False` (the current default value), which uses the default pickle module implicitly. It is possible to construct malicious pickle data which will execute arbitrary code during unpickling (See https://github.com/pytorch/pytorch/blob/main/SECURITY.md#untrusted-models for more details). In a future release, the default value for `weights_only` will be flipped to `True`. This limits the functions that could be executed during unpickling. Arbitrary objects will no longer be allowed to be loaded via this mode unless they are explicitly allowlisted by the user via `torch.serialization.add_safe_globals`. We recommend you start setting `weights_only=True` for any use case where you don't have full control of the loaded file. Please open an issue on GitHub for any issues related to this experimental feature.\n",
      "  model.load_state_dict(torch.load(\"./checkpoint/best_model.pth\", map_location=torch.device('cpu'))) #when running with cpu\n"
     ]
    },
    {
     "name": "stdout",
     "output_type": "stream",
     "text": [
      "Train accuracy: 86.3800\n",
      "Test Accuracy: 80.9000\n"
     ]
    }
   ],
   "source": [
    "model = create_model()\n",
    "model.load_state_dict(torch.load(\"./checkpoint/best_model.pth\", map_location=torch.device('cpu'))) #when running with cpu\n",
    "model.eval()\n",
    "model.to(device)\n",
    "\n",
    "# Calculate the accuracy on the train and test set\n",
    "train_accuracy = accuracy(model, train_loader)\n",
    "test_accuracy = accuracy(model, test_loader)\n",
    "\n",
    "print(f\"Train accuracy: {100* train_accuracy:.4f}\")\n",
    "print(f\"Test Accuracy: {100* test_accuracy:.4f}\")"
   ]
  },
  {
   "cell_type": "markdown",
   "metadata": {
    "id": "jZqR-5FXuyTP"
   },
   "source": [
    "# Section 2: Unlearning"
   ]
  },
  {
   "cell_type": "markdown",
   "metadata": {
    "id": "UR27JNEPuyTP"
   },
   "source": [
    "In the context of machine learning, unlearning refers to the process of modifying a trained model so that it forgets specific pieces of information without losing the general performance. This is particularly important in situations where data privacy is a concern, such as when sensitive information is involved, or when a model has learned from outdated or incorrect data. In this scenario,\n",
    "you may want to unlearn an entire class of data, a specific instance within that class, or even a particular concept that the model has learned.\n",
    "\n",
    "**Why is Unlearning Important?**\n",
    "\n",
    "Let’s say you have trained a machine learning model to recognize different types of animals based on a dataset containing images. Now, suppose that this dataset includes images of a particular cat breed that was later found to be misclassified or problematic. You might need to remove that specific information from the model to ensure it doesn't make incorrect predictions in the future.\n",
    "\n",
    "Additionally, with privacy laws like GDPR (General Data Protection Regulation), individuals have the right to request that their personal data be removed from a model. If a model has been trained on this data, we need a way to unlearn it.\n",
    "\n",
    "Here, our task will be to unlearn the class of Airplanes in CIFAR-10 Dataset"
   ]
  },
  {
   "cell_type": "markdown",
   "metadata": {
    "id": "T6kL72u7uyTP"
   },
   "source": [
    "### Unlearning by Fine-Tuning\n",
    "\n",
    "The Unlearning by Fine-Tuning strategy is a technique used to remove the influence of specific data points from a trained machine learning model while preserving its performance on other, relevant data.\n",
    "Here’s a detailed explanation of how this strategy works:\n",
    "\n",
    "#### 1. The Retain Set\n",
    "\n",
    "The retain set consists of all the data points that you want the model to remember or continue to learn from. This set excludes the data points you want the model to forget.\n",
    "\n",
    "####  2. Fine-Tuning Process\n",
    "\n",
    "To perform unlearning through this strategy, you follow these steps:\n",
    "\n",
    "- Identify and Remove the Data Points: First, identify the data points that you wish to unlearn and remove them from the training dataset.\n",
    "\n",
    "- Prepare the Retain and Forget Set: Create a new training dataset that contains only the retain set, those data points that should be kept in the model’s knowledge, and include the remaing data in the Forget Set.\n",
    "\n",
    "- Fine-Tuning on the Retain Set: Instead of retraining the model from scratch, you will fine-tune the existing model using the retain set. This involves using the retain set to continue training the model, typically with a lower learning rate to ensure that the model can adjust its parameters without drastically altering what it has already learned.\n",
    "\n",
    "#### 3. Benefits of this strategy\n",
    "\n",
    "- Efficiency: Fine-tuning on the retain set only is more efficient than retraining the model from scratch. It saves computational resources and time.\n",
    "\n",
    "- Maintained Performance: The model retains its ability to perform well on the general dataset, as it continues to learn from the valid data in the retain set.\n",
    "\n",
    "#### 4. Drawbacks of this strategy\n",
    "\n",
    "- Even if more efficient than retraining the model from scratch, you still need to do a fine tuning, that could be very expensive for large or foundational models. Even finding the best hyperparameters can be costly.\n",
    "\n",
    "- If you change samples or architecture to unlearn, you have to do the ad-hoc fine tuning again, it is not a *general* strategy."
   ]
  },
  {
   "cell_type": "markdown",
   "metadata": {
    "id": "aBpJnxLHuyTP"
   },
   "source": [
    "### 2.1: Forget Airplanes"
   ]
  },
  {
   "cell_type": "markdown",
   "metadata": {
    "id": "iYA98u_buyTP"
   },
   "source": [
    "#### Your Turn ( 1 Point)\n",
    "\n",
    "Generate the retain and forget datasets, keeping in mind that we want to forget the \"airplanes\" class. Afterward, create new instances of the loaders for training, validation, and testing. Make sure to use the torch.utils.data.Subset function."
   ]
  },
  {
   "cell_type": "code",
   "execution_count": 15,
   "metadata": {
    "id": "fczwmU84uyTQ"
   },
   "outputs": [],
   "source": [
    "#train\n",
    "'''\n",
    "Add your code below\n",
    "'''\n",
    "#To select the class to forget - CIFAR-10 class index for airplanes is 0\n",
    "\n",
    "airplane_class_idx = 0\n",
    "retain_indices = [i for i, (_, label) in enumerate(train_dataset) if label != airplane_class_idx]\n",
    "forget_indices = [i for i, (_, label) in enumerate(train_dataset) if label == airplane_class_idx]\n",
    "\n",
    "retain_dataset = torch.utils.data.Subset(train_dataset, retain_indices)\n",
    "forget_dataset = torch.utils.data.Subset(train_dataset, forget_indices)\n",
    "retain_loader =  DataLoader(retain_dataset, batch_size = batch_size, shuffle=True)\n",
    "forget_loader =  DataLoader(forget_dataset, batch_size = batch_size, shuffle=True)"
   ]
  },
  {
   "cell_type": "code",
   "execution_count": 16,
   "metadata": {
    "id": "1dmxv_CeuyTQ"
   },
   "outputs": [],
   "source": [
    "#validation\n",
    "'''\n",
    "Add your code below\n",
    "'''\n",
    "retain_indices_val = [i for i, (_, label) in enumerate(val_dataset) if label != airplane_class_idx]\n",
    "forget_indices_val = [i for i, (_, label) in enumerate(val_dataset) if label == airplane_class_idx]\n",
    "\n",
    "retain_dataset_val = torch.utils.data.Subset(val_dataset, retain_indices_val)\n",
    "forget_dataset_val = torch.utils.data.Subset(val_dataset, forget_indices_val)\n",
    "retain_loader_val =  DataLoader(retain_dataset_val, batch_size = batch_size, shuffle=False)\n",
    "forget_loader_val =  DataLoader(forget_dataset_val, batch_size = batch_size, shuffle=False)"
   ]
  },
  {
   "cell_type": "code",
   "execution_count": 17,
   "metadata": {
    "id": "G3f4ajW4uyTQ"
   },
   "outputs": [],
   "source": [
    "#test\n",
    "'''\n",
    "Add your code below\n",
    "'''\n",
    "retain_indices_test = [i for i, (_, label) in enumerate(test_dataset) if label != airplane_class_idx]\n",
    "forget_indices_test = [i for i, (_, label) in enumerate(test_dataset) if label == airplane_class_idx]\n",
    "\n",
    "retain_dataset_test = torch.utils.data.Subset(test_dataset, retain_indices_test)\n",
    "forget_dataset_test = torch.utils.data.Subset(test_dataset, forget_indices_test)\n",
    "retain_loader_test = DataLoader(retain_dataset_test, batch_size = batch_size, shuffle=False)\n",
    "forget_loader_test = DataLoader(forget_dataset_test, batch_size = batch_size, shuffle=False)"
   ]
  },
  {
   "cell_type": "markdown",
   "metadata": {
    "id": "AaaTR4B8uyTQ"
   },
   "source": [
    "### 2.2: Training Loop"
   ]
  },
  {
   "cell_type": "code",
   "execution_count": 18,
   "metadata": {
    "id": "QQREl8VzuyTQ"
   },
   "outputs": [],
   "source": [
    "def unlearning( model, retain_loader , validation, epochs = 5, criterion = criterion, optimizer = optimizer, scheduler = scheduler):\n",
    "    \"\"\"Unlearning by fine-tuning.\n",
    "\n",
    "    Fine-tuning is a very simple algorithm that trains using only\n",
    "    the retain set.\n",
    "\n",
    "    Args:\n",
    "      model : nn.Module.\n",
    "        pre-trained model to use as base of unlearning.\n",
    "      retain : torch.utils.data.DataLoader.\n",
    "        Dataset loader for access to the retain set. This is the subset\n",
    "        of the training set that we don't want to forget.\n",
    "      validation : torch.utils.data.DataLoader.\n",
    "        Dataset loader for access to the validation set. This method doesn't\n",
    "        make use of the validation set.\n",
    "    Returns:\n",
    "      model : updated model\n",
    "    \"\"\"\n",
    "    device = torch.device(\"cuda\" if torch.cuda.is_available() else \"cpu\")\n",
    "    model.to(device)\n",
    "    losses = []\n",
    "    losses_val = []\n",
    "\n",
    "    for epoch in range(epochs):\n",
    "        model.train()\n",
    "        loss_epoch = 0\n",
    "        loop = tqdm(enumerate(retain_loader), total=len(retain_loader), leave=True)\n",
    "        for batch_idx, (inputs, targets) in loop:\n",
    "            inputs, targets = inputs.to(device), targets.to(device)\n",
    "            optimizer.zero_grad()\n",
    "            outputs = model(inputs)\n",
    "            loss = criterion(outputs, targets)\n",
    "            loss.backward()\n",
    "            optimizer.step()\n",
    "\n",
    "            #running loss\n",
    "            loss_epoch += loss.item()\n",
    "            # Update progress bar with loss and epoch information\n",
    "            loop.set_description(f\"Epoch [{epoch+1}/{epochs}]\")\n",
    "            loop.set_postfix(loss=loss.item())\n",
    "\n",
    "        #avg loss\n",
    "        avg_loss = loss_epoch / len(retain_loader)\n",
    "        losses.append(avg_loss)\n",
    "        #scheduler step\n",
    "        scheduler.step(avg_loss)\n",
    "        tqdm.write(f\"Epoch [{epoch+1}/{epochs}], Average Loss: {avg_loss:.4f}\")\n",
    "\n",
    "        # validation\n",
    "        loss_val = 0\n",
    "        model.eval()\n",
    "        with torch.no_grad():\n",
    "            for data, targets in validation:\n",
    "                data = data.to(device=device)\n",
    "                targets = targets.to(device=device)\n",
    "\n",
    "                scores = model(data)\n",
    "                loss = criterion(scores, targets)\n",
    "                loss_val += loss.item()\n",
    "            # Calculate average loss for the epoch\n",
    "            avg_val_loss = loss_val / len(validation)\n",
    "            losses_val.append(avg_val_loss)\n",
    "            print(f\"Validation Loss: {avg_val_loss:.4f}\")\n",
    "            # if avg val_loss is better than the one before, save the model\n",
    "            if epoch == 0:\n",
    "                # create directory if not exist\n",
    "                os.makedirs(\"checkpoint\", exist_ok=True)\n",
    "                best_loss = avg_val_loss\n",
    "                torch.save(model.state_dict(), \"checkpoint/forget_model.pth\")\n",
    "            elif avg_val_loss < best_loss:\n",
    "                best_loss = avg_val_loss\n",
    "                torch.save(model.state_dict(), \"checkpoint/forget_model.pth\")\n",
    "\n",
    "\n",
    "    model.eval()\n",
    "    model.load_state_dict(torch.load(\"checkpoint/forget_model.pth\"))\n",
    "    return model, losses, losses_val"
   ]
  },
  {
   "cell_type": "code",
   "execution_count": 19,
   "metadata": {
    "colab": {
     "base_uri": "https://localhost:8080/"
    },
    "id": "wBqvUghguyTR",
    "outputId": "c46a17d8-6dd7-4e8d-a67d-412a02952020"
   },
   "outputs": [
    {
     "name": "stderr",
     "output_type": "stream",
     "text": [
      "C:\\Users\\Livia_99\\AppData\\Local\\Temp\\ipykernel_2272\\2334815723.py:3: FutureWarning: You are using `torch.load` with `weights_only=False` (the current default value), which uses the default pickle module implicitly. It is possible to construct malicious pickle data which will execute arbitrary code during unpickling (See https://github.com/pytorch/pytorch/blob/main/SECURITY.md#untrusted-models for more details). In a future release, the default value for `weights_only` will be flipped to `True`. This limits the functions that could be executed during unpickling. Arbitrary objects will no longer be allowed to be loaded via this mode unless they are explicitly allowlisted by the user via `torch.serialization.add_safe_globals`. We recommend you start setting `weights_only=True` for any use case where you don't have full control of the loaded file. Please open an issue on GitHub for any issues related to this experimental feature.\n",
      "  forget_model.load_state_dict(torch.load(\"./checkpoint/best_model.pth\", map_location=torch.device('cpu'))) #when using cpu\n",
      "Epoch [1/10]: 100%|██████████| 88/88 [00:22<00:00,  3.93it/s, loss=0.497]\n"
     ]
    },
    {
     "name": "stdout",
     "output_type": "stream",
     "text": [
      "Epoch [1/10], Average Loss: 0.5257\n",
      "Validation Loss: 0.5128\n"
     ]
    },
    {
     "name": "stderr",
     "output_type": "stream",
     "text": [
      "Epoch [2/10]: 100%|██████████| 88/88 [00:22<00:00,  3.89it/s, loss=0.5]  \n"
     ]
    },
    {
     "name": "stdout",
     "output_type": "stream",
     "text": [
      "Epoch [2/10], Average Loss: 0.5028\n",
      "Validation Loss: 0.5087\n"
     ]
    },
    {
     "name": "stderr",
     "output_type": "stream",
     "text": [
      "Epoch [3/10]: 100%|██████████| 88/88 [00:22<00:00,  3.85it/s, loss=0.443]\n"
     ]
    },
    {
     "name": "stdout",
     "output_type": "stream",
     "text": [
      "Epoch [3/10], Average Loss: 0.4954\n",
      "Validation Loss: 0.5023\n"
     ]
    },
    {
     "name": "stderr",
     "output_type": "stream",
     "text": [
      "Epoch [4/10]: 100%|██████████| 88/88 [00:22<00:00,  3.90it/s, loss=0.553]\n"
     ]
    },
    {
     "name": "stdout",
     "output_type": "stream",
     "text": [
      "Epoch [4/10], Average Loss: 0.4918\n",
      "Validation Loss: 0.4971\n"
     ]
    },
    {
     "name": "stderr",
     "output_type": "stream",
     "text": [
      "Epoch [5/10]: 100%|██████████| 88/88 [00:23<00:00,  3.81it/s, loss=0.467]\n"
     ]
    },
    {
     "name": "stdout",
     "output_type": "stream",
     "text": [
      "Epoch [5/10], Average Loss: 0.4910\n",
      "Validation Loss: 0.4985\n"
     ]
    },
    {
     "name": "stderr",
     "output_type": "stream",
     "text": [
      "Epoch [6/10]: 100%|██████████| 88/88 [00:22<00:00,  3.90it/s, loss=0.528]\n"
     ]
    },
    {
     "name": "stdout",
     "output_type": "stream",
     "text": [
      "Epoch [6/10], Average Loss: 0.4917\n",
      "Validation Loss: 0.5021\n"
     ]
    },
    {
     "name": "stderr",
     "output_type": "stream",
     "text": [
      "Epoch [7/10]: 100%|██████████| 88/88 [00:22<00:00,  3.88it/s, loss=0.513]\n"
     ]
    },
    {
     "name": "stdout",
     "output_type": "stream",
     "text": [
      "Epoch [7/10], Average Loss: 0.4851\n",
      "Validation Loss: 0.4946\n"
     ]
    },
    {
     "name": "stderr",
     "output_type": "stream",
     "text": [
      "Epoch [8/10]: 100%|██████████| 88/88 [00:22<00:00,  3.88it/s, loss=0.508]\n"
     ]
    },
    {
     "name": "stdout",
     "output_type": "stream",
     "text": [
      "Epoch [8/10], Average Loss: 0.4883\n",
      "Validation Loss: 0.4963\n"
     ]
    },
    {
     "name": "stderr",
     "output_type": "stream",
     "text": [
      "Epoch [9/10]: 100%|██████████| 88/88 [00:23<00:00,  3.74it/s, loss=0.535]\n"
     ]
    },
    {
     "name": "stdout",
     "output_type": "stream",
     "text": [
      "Epoch [9/10], Average Loss: 0.4848\n",
      "Validation Loss: 0.4965\n"
     ]
    },
    {
     "name": "stderr",
     "output_type": "stream",
     "text": [
      "Epoch [10/10]: 100%|██████████| 88/88 [00:22<00:00,  3.88it/s, loss=0.504]\n"
     ]
    },
    {
     "name": "stdout",
     "output_type": "stream",
     "text": [
      "Epoch [10/10], Average Loss: 0.4838\n",
      "Validation Loss: 0.4992\n"
     ]
    },
    {
     "name": "stderr",
     "output_type": "stream",
     "text": [
      "C:\\Users\\Livia_99\\AppData\\Local\\Temp\\ipykernel_2272\\2529405092.py:76: FutureWarning: You are using `torch.load` with `weights_only=False` (the current default value), which uses the default pickle module implicitly. It is possible to construct malicious pickle data which will execute arbitrary code during unpickling (See https://github.com/pytorch/pytorch/blob/main/SECURITY.md#untrusted-models for more details). In a future release, the default value for `weights_only` will be flipped to `True`. This limits the functions that could be executed during unpickling. Arbitrary objects will no longer be allowed to be loaded via this mode unless they are explicitly allowlisted by the user via `torch.serialization.add_safe_globals`. We recommend you start setting `weights_only=True` for any use case where you don't have full control of the loaded file. Please open an issue on GitHub for any issues related to this experimental feature.\n",
      "  model.load_state_dict(torch.load(\"checkpoint/forget_model.pth\"))\n"
     ]
    }
   ],
   "source": [
    "# intialize forget model as trained model\n",
    "forget_model = create_model()\n",
    "forget_model.load_state_dict(torch.load(\"./checkpoint/best_model.pth\", map_location=torch.device('cpu'))) #when using cpu\n",
    "\n",
    "criterion = nn.CrossEntropyLoss()\n",
    "optimizer = torch.optim.Adam(forget_model.parameters(), lr=0.0001)\n",
    "scheduler = torch.optim.lr_scheduler.ReduceLROnPlateau(optimizer, mode='min', factor=0.1, patience=3, verbose=True)\n",
    "\n",
    "\n",
    "# Unlearn the forget set\n",
    "epochs = 10\n",
    "forget_model, losses, losses_val = unlearning(forget_model, retain_loader, retain_loader_val, epochs=epochs, criterion=criterion, optimizer=optimizer, scheduler=scheduler)"
   ]
  },
  {
   "cell_type": "markdown",
   "metadata": {
    "id": "2iIqVeqUuyTR"
   },
   "source": [
    "**Below there is the evaluation of your unlearned by fine-tuning model**"
   ]
  },
  {
   "cell_type": "code",
   "execution_count": 88,
   "metadata": {
    "colab": {
     "base_uri": "https://localhost:8080/"
    },
    "id": "cDirnCohVPGz",
    "outputId": "8fe28420-d946-4bf3-ac1c-8bd11fb02e33"
   },
   "outputs": [
    {
     "name": "stderr",
     "output_type": "stream",
     "text": [
      "C:\\Users\\Livia_99\\AppData\\Local\\Temp\\ipykernel_2272\\2436528781.py:3: FutureWarning: You are using `torch.load` with `weights_only=False` (the current default value), which uses the default pickle module implicitly. It is possible to construct malicious pickle data which will execute arbitrary code during unpickling (See https://github.com/pytorch/pytorch/blob/main/SECURITY.md#untrusted-models for more details). In a future release, the default value for `weights_only` will be flipped to `True`. This limits the functions that could be executed during unpickling. Arbitrary objects will no longer be allowed to be loaded via this mode unless they are explicitly allowlisted by the user via `torch.serialization.add_safe_globals`. We recommend you start setting `weights_only=True` for any use case where you don't have full control of the loaded file. Please open an issue on GitHub for any issues related to this experimental feature.\n",
      "  forget_model.load_state_dict(torch.load(\"./checkpoint/forget_model.pth\"));\n"
     ]
    },
    {
     "name": "stdout",
     "output_type": "stream",
     "text": [
      "Retain set Accuracy: 88.6244\n",
      "Forget set Accuracy: 37.1800\n",
      "Test set Accuracy: 77.8625\n",
      "Test set Retain Accuracy: 83.1667\n",
      "Test set Forget Accuracy: 30.1250\n"
     ]
    }
   ],
   "source": [
    "# load weights forget model\n",
    "forget_model = create_model()\n",
    "forget_model.load_state_dict(torch.load(\"./checkpoint/forget_model.pth\"));\n",
    "forget_model.eval()\n",
    "forget_model.to(device);\n",
    "\n",
    "# print accuracies on retain, forget and test set\n",
    "retain_accuracy = accuracy(forget_model, retain_loader)\n",
    "forget_accuracy = accuracy(forget_model, forget_loader)\n",
    "test_accuracy = accuracy(forget_model, test_loader)\n",
    "test_accuracy_retain = accuracy(forget_model, retain_loader_test)\n",
    "test_accuracy_forget = accuracy(forget_model, forget_loader_test)\n",
    "\n",
    "print(f\"Retain set Accuracy: {100* retain_accuracy:.4f}\")\n",
    "print(f\"Forget set Accuracy: {100* forget_accuracy:.4f}\")\n",
    "print(f\"Test set Accuracy: {100* test_accuracy:.4f}\") # whole test set\n",
    "print(f\"Test set Retain Accuracy: {100* test_accuracy_retain:.4f}\")\n",
    "print(f\"Test set Forget Accuracy: {100* test_accuracy_forget:.4f}\")"
   ]
  },
  {
   "cell_type": "markdown",
   "metadata": {
    "id": "v6_sOwgiuyTR"
   },
   "source": [
    "#### Your Turn (1 Point)\n",
    "\n",
    "**Question**\n",
    "\n",
    "Q: *Summarize what you have learned. Specifically, interpret the accuracy values for the retain and forget sets during training. Additionally, discuss what can be inferred from the accuracy at test time for the entire test set, as well as for the two subsets of forget and retain.*\n",
    "\n",
    "A:\n",
    "\n",
    "The accuracy scores for the retain and forget sets, along with test set performance, provide valuable insights into how well the model performed after undergoing the unlearning process.\n",
    "\n",
    "The high **accuracy** of `88.62%` **on the retain set** indicates that the model excels at remembering the classes it is supposed to recall. This good performance suggests that the model effectively retains knowledge about other categories, demonstrating robust generalization abilities across retained classes.\n",
    "\n",
    "However, the low **accuracy** of `37.18%` **on the forget set** raises some questions about the effectiveness of the unlearning process. While the low accuracy reflects a positive outcome in terms of unlearning, it might also indicate that some residual knowledge about the airplane class remains.\n",
    "\n",
    "The **overall test set accuracy** of `77.86%` offers a comprehensive view of the model's performance on unseen data. This result demonstrates that despite undergoing unlearning, the model still maintains reasonable generalization abilities across the entire dataset. This outcome is particularly significant as it suggests that fine-tuning on the retain set did not substantially compromise the model's broader performance capabilities.\n",
    "\n",
    "Further insight is gained from examining the test set accuracies for individual subsets:\n",
    "- The `83.16%` **accuracy on the test subset containing retain data** indicates that the model retains a solid grasp of the classes it is meant to remember.\n",
    "\n",
    "- The very low **accuracy** of `30.12%` **on the test subset of the forget set** (airplanes) demonstrates succesful unlearning, significantly reducing its capacity to make predictions about this category.\n",
    "\n",
    "<br>\n",
    "\n",
    "These findings demonstrate that while the model successfully forgets certain classes, it maintains strong performance on retained classes and its overall generalization abilities. This balance between selective forgetting and preserved knowledge represents a key aspect of the unlearning process, highlighting the model's adaptability and potential for targeted knowledge revision.\n",
    "\n"
   ]
  },
  {
   "cell_type": "markdown",
   "metadata": {
    "id": "KVuHHVObuyTS"
   },
   "source": [
    "# Section 3: Gold model"
   ]
  },
  {
   "cell_type": "markdown",
   "metadata": {
    "id": "j-66x38tuyTS"
   },
   "source": [
    "One might ask, how good are the scores above? What is the best possible score? Since our goal is to approximate a model that has been trained **only on** the retain set, we'll consider that the gold standard is the score achieved by this model. Such a model is called here the *gold model*."
   ]
  },
  {
   "cell_type": "code",
   "execution_count": 21,
   "metadata": {
    "colab": {
     "base_uri": "https://localhost:8080/"
    },
    "id": "ZjZKJUtpuyTu",
    "outputId": "95b11c8f-8d39-449d-d2f7-a442aad5dfb4"
   },
   "outputs": [
    {
     "name": "stderr",
     "output_type": "stream",
     "text": [
      "C:\\Users\\Livia_99\\AppData\\Local\\Temp\\ipykernel_2272\\2778619164.py:3: FutureWarning: You are using `torch.load` with `weights_only=False` (the current default value), which uses the default pickle module implicitly. It is possible to construct malicious pickle data which will execute arbitrary code during unpickling (See https://github.com/pytorch/pytorch/blob/main/SECURITY.md#untrusted-models for more details). In a future release, the default value for `weights_only` will be flipped to `True`. This limits the functions that could be executed during unpickling. Arbitrary objects will no longer be allowed to be loaded via this mode unless they are explicitly allowlisted by the user via `torch.serialization.add_safe_globals`. We recommend you start setting `weights_only=True` for any use case where you don't have full control of the loaded file. Please open an issue on GitHub for any issues related to this experimental feature.\n",
      "  gold_model.load_state_dict(torch.load(\"./checkpoint/model_weights.pth\"))\n"
     ]
    }
   ],
   "source": [
    "# train only on retain set\n",
    "gold_model = create_model()\n",
    "gold_model.load_state_dict(torch.load(\"./checkpoint/model_weights.pth\"))\n",
    "gold_model.to(device);\n",
    "\n",
    "criterion = nn.CrossEntropyLoss()\n",
    "optimizer = torch.optim.Adam(gold_model.parameters(), lr=0.0001)\n",
    "scheduler = torch.optim.lr_scheduler.ReduceLROnPlateau(optimizer, mode='min', factor=0.1, patience=5, verbose=True)\n",
    "num_epochs = 20"
   ]
  },
  {
   "cell_type": "markdown",
   "metadata": {
    "id": "XOu8l4JHuyTu"
   },
   "source": [
    "#### Your Turn ( 1 Point)\n",
    "\n",
    "Implement the training loop for the Gold Model. Store you losses inside the ```losses``` and ```losses_val``` lists.\n",
    "\n",
    "**IMPORTANT: save the best checkpoint of this model to a checkpoint file called \"checkpoint/gold_model.pth\"**"
   ]
  },
  {
   "cell_type": "code",
   "execution_count": 22,
   "metadata": {
    "colab": {
     "base_uri": "https://localhost:8080/"
    },
    "id": "e0acWEovL5LP",
    "outputId": "624f7e60-4af0-4393-9f18-75f67eb64cbe"
   },
   "outputs": [
    {
     "name": "stderr",
     "output_type": "stream",
     "text": [
      "Epoch [1/20]: 100%|██████████| 88/88 [00:22<00:00,  3.96it/s, loss=2.17]\n"
     ]
    },
    {
     "name": "stdout",
     "output_type": "stream",
     "text": [
      "Epoch [1/20], Train Loss: 2.2311, Val Loss: 2.1494\n"
     ]
    },
    {
     "name": "stderr",
     "output_type": "stream",
     "text": [
      "Epoch [2/20]: 100%|██████████| 88/88 [00:22<00:00,  3.87it/s, loss=2.04]\n"
     ]
    },
    {
     "name": "stdout",
     "output_type": "stream",
     "text": [
      "Epoch [2/20], Train Loss: 2.0982, Val Loss: 2.0182\n"
     ]
    },
    {
     "name": "stderr",
     "output_type": "stream",
     "text": [
      "Epoch [3/20]: 100%|██████████| 88/88 [00:22<00:00,  3.90it/s, loss=1.92]\n"
     ]
    },
    {
     "name": "stdout",
     "output_type": "stream",
     "text": [
      "Epoch [3/20], Train Loss: 1.9696, Val Loss: 1.8751\n"
     ]
    },
    {
     "name": "stderr",
     "output_type": "stream",
     "text": [
      "Epoch [4/20]: 100%|██████████| 88/88 [00:23<00:00,  3.74it/s, loss=1.7] \n"
     ]
    },
    {
     "name": "stdout",
     "output_type": "stream",
     "text": [
      "Epoch [4/20], Train Loss: 1.8339, Val Loss: 1.7540\n"
     ]
    },
    {
     "name": "stderr",
     "output_type": "stream",
     "text": [
      "Epoch [5/20]: 100%|██████████| 88/88 [00:41<00:00,  2.10it/s, loss=1.65]\n"
     ]
    },
    {
     "name": "stdout",
     "output_type": "stream",
     "text": [
      "Epoch [5/20], Train Loss: 1.7168, Val Loss: 1.6366\n"
     ]
    },
    {
     "name": "stderr",
     "output_type": "stream",
     "text": [
      "Epoch [6/20]: 100%|██████████| 88/88 [00:21<00:00,  4.06it/s, loss=1.6] \n"
     ]
    },
    {
     "name": "stdout",
     "output_type": "stream",
     "text": [
      "Epoch [6/20], Train Loss: 1.6221, Val Loss: 1.5432\n"
     ]
    },
    {
     "name": "stderr",
     "output_type": "stream",
     "text": [
      "Epoch [7/20]: 100%|██████████| 88/88 [00:38<00:00,  2.31it/s, loss=1.54]\n"
     ]
    },
    {
     "name": "stdout",
     "output_type": "stream",
     "text": [
      "Epoch [7/20], Train Loss: 1.5472, Val Loss: 1.4641\n"
     ]
    },
    {
     "name": "stderr",
     "output_type": "stream",
     "text": [
      "Epoch [8/20]: 100%|██████████| 88/88 [00:22<00:00,  3.88it/s, loss=1.43]\n"
     ]
    },
    {
     "name": "stdout",
     "output_type": "stream",
     "text": [
      "Epoch [8/20], Train Loss: 1.4828, Val Loss: 1.4270\n"
     ]
    },
    {
     "name": "stderr",
     "output_type": "stream",
     "text": [
      "Epoch [9/20]: 100%|██████████| 88/88 [00:22<00:00,  3.89it/s, loss=1.4] \n"
     ]
    },
    {
     "name": "stdout",
     "output_type": "stream",
     "text": [
      "Epoch [9/20], Train Loss: 1.4302, Val Loss: 1.3525\n"
     ]
    },
    {
     "name": "stderr",
     "output_type": "stream",
     "text": [
      "Epoch [10/20]: 100%|██████████| 88/88 [00:22<00:00,  3.84it/s, loss=1.32]\n"
     ]
    },
    {
     "name": "stdout",
     "output_type": "stream",
     "text": [
      "Epoch [10/20], Train Loss: 1.3898, Val Loss: 1.3185\n"
     ]
    },
    {
     "name": "stderr",
     "output_type": "stream",
     "text": [
      "Epoch [11/20]: 100%|██████████| 88/88 [00:39<00:00,  2.25it/s, loss=1.34]\n"
     ]
    },
    {
     "name": "stdout",
     "output_type": "stream",
     "text": [
      "Epoch [11/20], Train Loss: 1.3493, Val Loss: 1.2661\n"
     ]
    },
    {
     "name": "stderr",
     "output_type": "stream",
     "text": [
      "Epoch [12/20]: 100%|██████████| 88/88 [00:23<00:00,  3.73it/s, loss=1.28]\n"
     ]
    },
    {
     "name": "stdout",
     "output_type": "stream",
     "text": [
      "Epoch [12/20], Train Loss: 1.3181, Val Loss: 1.2385\n"
     ]
    },
    {
     "name": "stderr",
     "output_type": "stream",
     "text": [
      "Epoch [13/20]: 100%|██████████| 88/88 [00:22<00:00,  3.94it/s, loss=1.24]\n"
     ]
    },
    {
     "name": "stdout",
     "output_type": "stream",
     "text": [
      "Epoch [13/20], Train Loss: 1.2935, Val Loss: 1.2303\n"
     ]
    },
    {
     "name": "stderr",
     "output_type": "stream",
     "text": [
      "Epoch [14/20]: 100%|██████████| 88/88 [00:22<00:00,  3.90it/s, loss=1.29]\n"
     ]
    },
    {
     "name": "stdout",
     "output_type": "stream",
     "text": [
      "Epoch [14/20], Train Loss: 1.2663, Val Loss: 1.1847\n"
     ]
    },
    {
     "name": "stderr",
     "output_type": "stream",
     "text": [
      "Epoch [15/20]: 100%|██████████| 88/88 [00:33<00:00,  2.64it/s, loss=1.16]\n"
     ]
    },
    {
     "name": "stdout",
     "output_type": "stream",
     "text": [
      "Epoch [15/20], Train Loss: 1.2453, Val Loss: 1.1569\n"
     ]
    },
    {
     "name": "stderr",
     "output_type": "stream",
     "text": [
      "Epoch [16/20]: 100%|██████████| 88/88 [00:23<00:00,  3.82it/s, loss=1.2] \n"
     ]
    },
    {
     "name": "stdout",
     "output_type": "stream",
     "text": [
      "Epoch [16/20], Train Loss: 1.2278, Val Loss: 1.1855\n"
     ]
    },
    {
     "name": "stderr",
     "output_type": "stream",
     "text": [
      "Epoch [17/20]: 100%|██████████| 88/88 [00:23<00:00,  3.82it/s, loss=1.24]\n"
     ]
    },
    {
     "name": "stdout",
     "output_type": "stream",
     "text": [
      "Epoch [17/20], Train Loss: 1.2058, Val Loss: 1.1076\n"
     ]
    },
    {
     "name": "stderr",
     "output_type": "stream",
     "text": [
      "Epoch [18/20]: 100%|██████████| 88/88 [00:23<00:00,  3.76it/s, loss=1.17]\n"
     ]
    },
    {
     "name": "stdout",
     "output_type": "stream",
     "text": [
      "Epoch [18/20], Train Loss: 1.1909, Val Loss: 1.0964\n"
     ]
    },
    {
     "name": "stderr",
     "output_type": "stream",
     "text": [
      "Epoch [19/20]: 100%|██████████| 88/88 [00:23<00:00,  3.75it/s, loss=1.21]\n"
     ]
    },
    {
     "name": "stdout",
     "output_type": "stream",
     "text": [
      "Epoch [19/20], Train Loss: 1.1811, Val Loss: 1.0744\n"
     ]
    },
    {
     "name": "stderr",
     "output_type": "stream",
     "text": [
      "Epoch [20/20]: 100%|██████████| 88/88 [00:52<00:00,  1.69it/s, loss=1.11]\n"
     ]
    },
    {
     "name": "stdout",
     "output_type": "stream",
     "text": [
      "Epoch [20/20], Train Loss: 1.1648, Val Loss: 1.0642\n"
     ]
    }
   ],
   "source": [
    "# Initialize lists to store training and validation losses\n",
    "losses = []\n",
    "losses_val = []\n",
    "best_loss = float(\"inf\")  # To store the best validation loss\n",
    "\n",
    "# Training the model\n",
    "for epoch in range(num_epochs):\n",
    "    ######### TRAINING ##########\n",
    "    gold_model.train()  # Set model to training mode\n",
    "    epoch_loss = 0  # Track total loss for this epoch\n",
    "\n",
    "    # Progress bar for training\n",
    "    loop = tqdm(enumerate(retain_loader), total=len(retain_loader), leave=True)\n",
    "    for batch_idx, (data, targets) in loop:\n",
    "        # Move data and targets to the device\n",
    "        data = data.to(device=device)\n",
    "        targets = targets.to(device=device)\n",
    "\n",
    "        # Forward pass\n",
    "        outputs = gold_model(data)\n",
    "        loss = criterion(outputs, targets)\n",
    "\n",
    "        # Backward pass and optimization\n",
    "        optimizer.zero_grad()\n",
    "        loss.backward()\n",
    "        optimizer.step()\n",
    "\n",
    "        # Accumulate loss for the batch\n",
    "        epoch_loss += loss.item() * data.size(0)  # Normalize by batch size\n",
    "\n",
    "        # Update progress bar\n",
    "        loop.set_description(f\"Epoch [{epoch+1}/{num_epochs}]\")\n",
    "        loop.set_postfix(loss=loss.item())\n",
    "\n",
    "    # Calculate and store average training loss for the epoch\n",
    "    epoch_loss /= len(retain_loader.dataset)  # Normalize by dataset size\n",
    "    losses.append(epoch_loss)  # Store for plotting\n",
    "\n",
    "    ######### VALIDATION ##########\n",
    "    gold_model.eval()  # Set model to evaluation mode\n",
    "    val_loss = 0  # Track total validation loss\n",
    "\n",
    "    with torch.no_grad():\n",
    "        for data, targets in retain_loader_val:\n",
    "            data = data.to(device=device)\n",
    "            targets = targets.to(device=device)\n",
    "\n",
    "            # Forward pass\n",
    "            outputs = gold_model(data)\n",
    "            loss = criterion(outputs, targets)\n",
    "\n",
    "            # Accumulate validation loss\n",
    "            val_loss += loss.item() * data.size(0)\n",
    "\n",
    "    # Calculate and store average validation loss for the epoch\n",
    "    val_loss /= len(retain_loader_val.dataset)  # Normalize by dataset size\n",
    "    losses_val.append(val_loss)  # Store for plotting\n",
    "\n",
    "    # Adjust the learning rate based on validation loss\n",
    "    scheduler.step(val_loss)\n",
    "\n",
    "    # Save the best model checkpoint\n",
    "    if val_loss < best_loss:\n",
    "        best_loss = val_loss\n",
    "        os.makedirs(\"checkpoint\", exist_ok=True)\n",
    "        torch.save(gold_model.state_dict(), \"./checkpoint/gold_model.pth\")\n",
    "\n",
    "    # Print epoch results\n",
    "    print(f\"Epoch [{epoch+1}/{num_epochs}], Train Loss: {epoch_loss:.4f}, Val Loss: {val_loss:.4f}\")\n"
   ]
  },
  {
   "cell_type": "code",
   "execution_count": 23,
   "metadata": {
    "colab": {
     "base_uri": "https://localhost:8080/",
     "height": 278
    },
    "id": "VZo1Dp0WuyTu",
    "outputId": "bdfba7e4-b87f-4c42-8674-341948dd0b26"
   },
   "outputs": [
    {
     "name": "stdout",
     "output_type": "stream",
     "text": [
      "Best validation loss: 1.0642\n"
     ]
    },
    {
     "data": {
      "image/png": "[encoded data removed]",
      "text/plain": [
       "<Figure size 1500x500 with 1 Axes>"
      ]
     },
     "metadata": {},
     "output_type": "display_data"
    }
   ],
   "source": [
    "#epoch of best validation loss\n",
    "print(f\"Best validation loss: {best_loss:.4f}\")\n",
    "index_best = losses_val.index(best_loss)\n",
    "\n",
    "plt.figure(figsize=(15, 5))\n",
    "plt.plot(losses, label=\"Train Loss\")\n",
    "plt.plot(losses_val, label=\"Val Loss\")\n",
    "plt.axvline(index_best, color='r', linestyle='--', label=\"Best Val Loss\")\n",
    "plt.legend()\n",
    "plt.title(\"Loss vs Epochs\")\n",
    "plt.xlabel(\"Epochs\")\n",
    "plt.ylabel(\"Loss\")\n",
    "plt.grid()\n",
    "plt.show()"
   ]
  },
  {
   "cell_type": "markdown",
   "metadata": {
    "id": "If1afv-cuyTv"
   },
   "source": [
    "**Below there is the evaluation of the gold model**"
   ]
  },
  {
   "cell_type": "code",
   "execution_count": 24,
   "metadata": {
    "colab": {
     "base_uri": "https://localhost:8080/"
    },
    "id": "_ckkDuKruyTv",
    "outputId": "a4a06e6c-b57b-4d2c-b674-19e52c985528"
   },
   "outputs": [
    {
     "name": "stderr",
     "output_type": "stream",
     "text": [
      "C:\\Users\\Livia_99\\AppData\\Local\\Temp\\ipykernel_2272\\1013974794.py:3: FutureWarning: You are using `torch.load` with `weights_only=False` (the current default value), which uses the default pickle module implicitly. It is possible to construct malicious pickle data which will execute arbitrary code during unpickling (See https://github.com/pytorch/pytorch/blob/main/SECURITY.md#untrusted-models for more details). In a future release, the default value for `weights_only` will be flipped to `True`. This limits the functions that could be executed during unpickling. Arbitrary objects will no longer be allowed to be loaded via this mode unless they are explicitly allowlisted by the user via `torch.serialization.add_safe_globals`. We recommend you start setting `weights_only=True` for any use case where you don't have full control of the loaded file. Please open an issue on GitHub for any issues related to this experimental feature.\n",
      "  gold_model.load_state_dict(torch.load(\"./checkpoint/gold_model.pth\"))\n"
     ]
    },
    {
     "name": "stdout",
     "output_type": "stream",
     "text": [
      "Retain set Accuracy: 61.1933\n",
      "Forget set Accuracy: 0.0000\n",
      "Test set Accuracy: 54.1500\n",
      "Test set Retain Accuracy: 60.1667\n",
      "Test set Forget Accuracy: 0.0000\n"
     ]
    }
   ],
   "source": [
    "# load weights gold model\n",
    "gold_model = create_model()\n",
    "gold_model.load_state_dict(torch.load(\"./checkpoint/gold_model.pth\"))\n",
    "gold_model.eval()\n",
    "gold_model.to(device);\n",
    "\n",
    "# print accuracies on retain, forget and test set\n",
    "retain_accuracy = accuracy(gold_model, retain_loader)\n",
    "forget_accuracy = accuracy(gold_model, forget_loader)\n",
    "test_accuracy = accuracy(gold_model, test_loader)\n",
    "test_accuracy_retain = accuracy(gold_model, retain_loader_test)\n",
    "test_accuracy_forget = accuracy(gold_model, forget_loader_test)\n",
    "\n",
    "print(f\"Retain set Accuracy: {100* retain_accuracy:.4f}\")\n",
    "print(f\"Forget set Accuracy: {100* forget_accuracy:.4f}\")\n",
    "print(f\"Test set Accuracy: {100* test_accuracy:.4f}\")\n",
    "print(f\"Test set Retain Accuracy: {100* test_accuracy_retain:.4f}\")\n",
    "print(f\"Test set Forget Accuracy: {100* test_accuracy_forget:.4f}\")"
   ]
  },
  {
   "cell_type": "markdown",
   "metadata": {
    "id": "Vr3m35-cuyTv"
   },
   "source": [
    "#### Your Turn\n",
    "\n",
    "**Question**\n",
    "\n",
    "Q: *Explain the results of the Gold Model. Did you notice something strange?*\n",
    "\n",
    "A: <br>\n",
    "We can observe from the graph that the training and validation loss curves both decrease consistently across epochs. However, an unusual aspect is that the validation loss curve runs parallel to the training loss for most of the training but remains slightly higher until the very end.\n",
    "\n",
    "This behavior is usually attributed to:\n",
    "\n",
    "- **Regularization Effects**: Regularization techniques (e.g., dropout, batch normalization, weight decay) apply noise or constraints during training to prevent overfitting. These techniques make the training process noisier, increasing the training loss compared to the validation loss (where such noise is not applied).\n",
    "\n",
    "- **Validation Set is \"Easier\" Than the Training Set**: If the validation set is simpler, less noisy, or more balanced compared to the training set, the model may achieve lower validation loss than training loss, especially early in training.\n",
    "\n",
    "- **Early Training Dynamics**: During the initial stages of training, the model's weights may not fully capture the complexity of the training data but can generalize better to the simpler validation set. This difference often resolves as training progresses and the model fits the training data more effectively.\n",
    "\n",
    "- **Data Leakage Between Training and Validation**: If there is overlap between the training and validation data, the model may effectively memorize validation samples, leading to validation loss being lower than training loss.\n",
    "\n",
    "Among these, the most likely explanations are that the validation set is easier than the training set due to differences in noise, complexity, or preprocessing steps, or that the behavior reflects early training dynamics where the model generalizes better to simpler validation data.\n",
    "\n",
    "Another potentially \"strange\" result is that while the model successfully achieves the goal of forgetting specific data with a forget accuracy of 0.0%, the overall test accuracy (54%) is quite close to the retain accuracy (61%). Ideally, some drop in test accuracy would be expected due to unlearning effects, as unlearning typically reduces the model's general capacity to retain information.\n",
    "\n",
    "This particular behavior might indicate that the model has overfit the retained dataset during unlearning, neglecting the general structure of the forget data, or that the model struggles to generalize beyond the retained dataset after unlearning, possibly due to an imbalance in the optimization process."
   ]
  },
  {
   "cell_type": "markdown",
   "metadata": {
    "id": "F940Sc2guyTw"
   },
   "source": [
    "# Section 4: Mia attacks"
   ]
  },
  {
   "cell_type": "markdown",
   "metadata": {
    "id": "OaiuaEaIuyTw"
   },
   "source": [
    "In this section, we'll quantify the quality of the unlearning algorithm through a simple membership inference attack (MIA).\n",
    "MIAs are a type of adversarial attack aimed at determining whether a specific data point was included in the training dataset of a machine learning model. These attacks exploit the behavior of the model to make inferences about the presence or absence of certain data points.\n",
    "This MIA consists of a logistic regression model that predicts whether the model was trained on a particular sample from that sample's loss.\n",
    "\n"
   ]
  },
  {
   "cell_type": "code",
   "execution_count": 25,
   "metadata": {
    "id": "Qj4pCbFAuyTw"
   },
   "outputs": [],
   "source": [
    "def compute_losses(model, loader, criterion = \"CrossEntropy\"):\n",
    "\n",
    "    \"\"\"\n",
    "    Auxiliary function to compute per-sample losses\n",
    "    Args:\n",
    "    model : model to evaluate\n",
    "    loader : data loader\n",
    "    criterion : loss function. Specify \"CrossEntropy\" for cross-entropy loss or \"KL\" for KL divergence\n",
    "    \"\"\"\n",
    "\n",
    "    device = torch.device(\"cuda\" if torch.cuda.is_available() else \"cpu\")\n",
    "    all_losses = []\n",
    "\n",
    "    for inputs, targets in loader:\n",
    "        inputs, targets = inputs.to(device), targets.to(device)\n",
    "        logits = model(inputs)\n",
    "        losses = nn.CrossEntropyLoss(reduction = \"none\")(logits, targets).detach().cpu().numpy()\n",
    "\n",
    "        for l in losses:\n",
    "            all_losses.append(l)\n",
    "\n",
    "    return np.array(all_losses)\n"
   ]
  },
  {
   "cell_type": "code",
   "execution_count": 26,
   "metadata": {
    "colab": {
     "base_uri": "https://localhost:8080/"
    },
    "id": "j5GUIfOhuyTw",
    "outputId": "2948cea6-7e4a-4992-da84-17d0cdc9bfe9"
   },
   "outputs": [
    {
     "name": "stderr",
     "output_type": "stream",
     "text": [
      "C:\\Users\\Livia_99\\AppData\\Local\\Temp\\ipykernel_2272\\2798354586.py:3: FutureWarning: You are using `torch.load` with `weights_only=False` (the current default value), which uses the default pickle module implicitly. It is possible to construct malicious pickle data which will execute arbitrary code during unpickling (See https://github.com/pytorch/pytorch/blob/main/SECURITY.md#untrusted-models for more details). In a future release, the default value for `weights_only` will be flipped to `True`. This limits the functions that could be executed during unpickling. Arbitrary objects will no longer be allowed to be loaded via this mode unless they are explicitly allowlisted by the user via `torch.serialization.add_safe_globals`. We recommend you start setting `weights_only=True` for any use case where you don't have full control of the loaded file. Please open an issue on GitHub for any issues related to this experimental feature.\n",
      "  model.load_state_dict(torch.load(\"./checkpoint/best_model.pth\", map_location=torch.device('cpu'))); #because of cpu usage\n"
     ]
    }
   ],
   "source": [
    "#model\n",
    "model = create_model()\n",
    "model.load_state_dict(torch.load(\"./checkpoint/best_model.pth\", map_location=torch.device('cpu'))); #because of cpu usage\n",
    "model.eval()\n",
    "model.to(device);\n",
    "\n",
    "retain_losses = compute_losses(model, retain_loader_test)\n",
    "forget_losses = compute_losses(model, forget_loader_test)\n"
   ]
  },
  {
   "cell_type": "code",
   "execution_count": 27,
   "metadata": {
    "colab": {
     "base_uri": "https://localhost:8080/"
    },
    "id": "OFwyfGQduyTw",
    "outputId": "6813fd6f-1da1-4830-a9df-de4adc470c3b"
   },
   "outputs": [
    {
     "name": "stderr",
     "output_type": "stream",
     "text": [
      "C:\\Users\\Livia_99\\AppData\\Local\\Temp\\ipykernel_2272\\2535967232.py:3: FutureWarning: You are using `torch.load` with `weights_only=False` (the current default value), which uses the default pickle module implicitly. It is possible to construct malicious pickle data which will execute arbitrary code during unpickling (See https://github.com/pytorch/pytorch/blob/main/SECURITY.md#untrusted-models for more details). In a future release, the default value for `weights_only` will be flipped to `True`. This limits the functions that could be executed during unpickling. Arbitrary objects will no longer be allowed to be loaded via this mode unless they are explicitly allowlisted by the user via `torch.serialization.add_safe_globals`. We recommend you start setting `weights_only=True` for any use case where you don't have full control of the loaded file. Please open an issue on GitHub for any issues related to this experimental feature.\n",
      "  forget_model.load_state_dict(torch.load(\"./checkpoint/forget_model.pth\", map_location=torch.device('cpu'))); #because of cpu usage\n"
     ]
    }
   ],
   "source": [
    "# forget model\n",
    "forget_model = create_model()\n",
    "forget_model.load_state_dict(torch.load(\"./checkpoint/forget_model.pth\", map_location=torch.device('cpu'))); #because of cpu usage\n",
    "forget_model.eval()\n",
    "forget_model.to(device);\n",
    "\n",
    "retain_losses_forget = compute_losses(forget_model, retain_loader_test)\n",
    "forget_losses_forget = compute_losses(forget_model, forget_loader_test)\n"
   ]
  },
  {
   "cell_type": "code",
   "execution_count": 28,
   "metadata": {
    "colab": {
     "base_uri": "https://localhost:8080/"
    },
    "id": "XeMWyjtguyTw",
    "outputId": "5317046d-7d1c-4599-aa1c-e7b6f774caa1"
   },
   "outputs": [
    {
     "name": "stderr",
     "output_type": "stream",
     "text": [
      "C:\\Users\\Livia_99\\AppData\\Local\\Temp\\ipykernel_2272\\3740578339.py:3: FutureWarning: You are using `torch.load` with `weights_only=False` (the current default value), which uses the default pickle module implicitly. It is possible to construct malicious pickle data which will execute arbitrary code during unpickling (See https://github.com/pytorch/pytorch/blob/main/SECURITY.md#untrusted-models for more details). In a future release, the default value for `weights_only` will be flipped to `True`. This limits the functions that could be executed during unpickling. Arbitrary objects will no longer be allowed to be loaded via this mode unless they are explicitly allowlisted by the user via `torch.serialization.add_safe_globals`. We recommend you start setting `weights_only=True` for any use case where you don't have full control of the loaded file. Please open an issue on GitHub for any issues related to this experimental feature.\n",
      "  gold_model.load_state_dict(torch.load(\"./checkpoint/gold_model.pth\", map_location=torch.device('cpu'))); #because of cpu usage\n"
     ]
    }
   ],
   "source": [
    "# gold model\n",
    "gold_model = create_model()\n",
    "gold_model.load_state_dict(torch.load(\"./checkpoint/gold_model.pth\", map_location=torch.device('cpu'))); #because of cpu usage\n",
    "gold_model.eval()\n",
    "gold_model.to(device);\n",
    "\n",
    "retain_losses_gold = compute_losses(gold_model, retain_loader_test)\n",
    "forget_losses_gold = compute_losses(gold_model, forget_loader_test)"
   ]
  },
  {
   "cell_type": "code",
   "execution_count": 29,
   "metadata": {
    "colab": {
     "base_uri": "https://localhost:8080/",
     "height": 204
    },
    "id": "ggivl-3SuyTx",
    "outputId": "11cfabac-4c41-4767-e74d-8fc3a48c7692"
   },
   "outputs": [
    {
     "data": {
      "image/png": "[encoded data removed]",
      "text/plain": [
       "<Figure size 2000x500 with 3 Axes>"
      ]
     },
     "metadata": {},
     "output_type": "display_data"
    }
   ],
   "source": [
    "# 3 plots woth ax of histograms\n",
    "fig, axs = plt.subplots(1, 3, figsize=(20, 5))\n",
    "\n",
    "#subsample retrain losses to have the same size as the forget losses\n",
    "random_idx = np.random.choice(np.arange(len(retain_losses)), len(forget_losses), replace=False)\n",
    "retain_losses = retain_losses[random_idx]\n",
    "retain_losses_forget = retain_losses_forget[random_idx]\n",
    "retain_losses_gold = retain_losses_gold[random_idx]\n",
    "\n",
    "\n",
    "axs[0].hist(retain_losses, density = True, bins=50, alpha=0.5, label='Retain', color='blue')\n",
    "axs[0].hist(forget_losses, density = True, bins=50, alpha=0.5, label='Forget', color='red')\n",
    "axs[0].set_title('Model')\n",
    "axs[0].set_xlabel('Loss')\n",
    "axs[0].legend()\n",
    "\n",
    "axs[1].hist(retain_losses_forget, density = True, bins=50, alpha=0.5, label='Retain', color='blue')\n",
    "axs[1].hist(forget_losses_forget, density = True, bins=50, alpha=0.5, label='Forget', color='red')\n",
    "axs[1].set_title('Forget Model')\n",
    "axs[1].set_xlabel('Loss')\n",
    "axs[1].legend()\n",
    "\n",
    "axs[2].hist(retain_losses_gold, density = True, bins=50, alpha=0.5, label='Retain', color='blue')\n",
    "axs[2].hist(forget_losses_gold, density = True, bins=50, alpha=0.5, label='Forget', color='red')\n",
    "axs[2].set_title('Gold Model')\n",
    "axs[2].set_xlabel('Loss')\n",
    "axs[2].legend()\n",
    "\n",
    "plt.show()"
   ]
  },
  {
   "cell_type": "code",
   "execution_count": 30,
   "metadata": {
    "id": "oRr-2wftuyTx"
   },
   "outputs": [],
   "source": [
    "def simple_mia(sample_loss, members, n_splits=10, random_state=0):\n",
    "    \"\"\"Computes cross-validation score of a membership inference attack.\n",
    "\n",
    "    Args:\n",
    "      sample_loss : array_like of shape (n,).\n",
    "        objective function evaluated on n samples.\n",
    "      members : array_like of shape (n,),\n",
    "        whether a sample was used for training.\n",
    "      n_splits: int\n",
    "        number of splits to use in the cross-validation.\n",
    "    Returns:\n",
    "      scores : array_like of size (n_splits,)\n",
    "    \"\"\"\n",
    "\n",
    "    torch.manual_seed(torch.initial_seed())\n",
    "\n",
    "    unique_members = np.unique(members)\n",
    "    if not np.all(unique_members == np.array([0, 1])):\n",
    "        raise ValueError(\"members should only have 0 and 1s\")\n",
    "\n",
    "    attack_model = linear_model.LogisticRegression(random_state=random_state)\n",
    "    cv = model_selection.StratifiedShuffleSplit(\n",
    "        n_splits=n_splits, random_state = 0\n",
    "    )\n",
    "\n",
    "    return model_selection.cross_val_score(\n",
    "        attack_model, sample_loss, members, cv=cv, scoring=\"accuracy\",\n",
    "    )"
   ]
  },
  {
   "cell_type": "code",
   "execution_count": 31,
   "metadata": {
    "colab": {
     "base_uri": "https://localhost:8080/"
    },
    "id": "CHujLNJHuyTx",
    "outputId": "8bfa07ab-42e6-484c-8dc2-ea38d3db4a82"
   },
   "outputs": [
    {
     "name": "stdout",
     "output_type": "stream",
     "text": [
      "Model MIA score: 0.5369\n"
     ]
    }
   ],
   "source": [
    "# mia on model\n",
    "retain_losses_subsample = np.random.choice(retain_losses, len(forget_losses), replace=False)\n",
    "samples_mia = np.concatenate([retain_losses_subsample, forget_losses]).reshape(-1, 1)\n",
    "#balance the number of samples\n",
    "members_mia = np.concatenate([np.zeros(len(retain_losses_subsample)), np.ones(len(forget_losses))])\n",
    "\n",
    "scores_model = simple_mia(samples_mia, members_mia)\n",
    "print(f\"Model MIA score: {scores_model.mean():.4f}\")"
   ]
  },
  {
   "cell_type": "code",
   "execution_count": 32,
   "metadata": {
    "colab": {
     "base_uri": "https://localhost:8080/"
    },
    "id": "lFRLn3v2uyTx",
    "outputId": "a4bdbaf2-b6c1-4de4-b77d-f71a7c45ff5a"
   },
   "outputs": [
    {
     "name": "stdout",
     "output_type": "stream",
     "text": [
      "Forget Model MIA score: 0.7563\n"
     ]
    }
   ],
   "source": [
    "#mia on forget model\n",
    "retain_losses_forget_subsample = np.random.choice(retain_losses_forget, len(forget_losses_forget), replace=False)\n",
    "samples_mia = np.concatenate([retain_losses_forget_subsample, forget_losses_forget]).reshape(-1, 1)\n",
    "members_mia = np.concatenate([np.zeros(len(retain_losses_forget_subsample)), np.ones(len(forget_losses_forget))])\n",
    "\n",
    "scores_forget = simple_mia(samples_mia, members_mia)\n",
    "print(f\"Forget Model MIA score: {scores_forget.mean():.4f}\")"
   ]
  },
  {
   "cell_type": "code",
   "execution_count": 33,
   "metadata": {
    "colab": {
     "base_uri": "https://localhost:8080/"
    },
    "id": "FMCAa3wduyTy",
    "outputId": "2d4aafc6-c324-40e2-ec0a-372ee53c33eb"
   },
   "outputs": [
    {
     "name": "stdout",
     "output_type": "stream",
     "text": [
      "Gold Model MIA score: 0.9975\n"
     ]
    }
   ],
   "source": [
    "# mia on gold model\n",
    "retain_losses_gold_subsample = np.random.choice(retain_losses_gold, len(forget_losses_gold), replace=False)\n",
    "samples_mia = np.concatenate([retain_losses_gold_subsample, forget_losses_gold]).reshape(-1, 1)\n",
    "members_mia = np.concatenate([np.zeros(len(retain_losses_gold_subsample)), np.ones(len(forget_losses_gold))])\n",
    "\n",
    "scores_gold = simple_mia(samples_mia, members_mia)\n",
    "print(f\"Gold Model MIA score: {scores_gold.mean():.4f}\")"
   ]
  },
  {
   "cell_type": "markdown",
   "metadata": {
    "id": "IFJz7-ELuyTy"
   },
   "source": [
    "#### Your Turn ( 3 Points)\n",
    "\n",
    "**Question**\n",
    "\n",
    "Q: *For each model, analyze the loss plots and explain the results obtained from the membership inference attack (MIA).*\n",
    "\n",
    "A: <br>\n",
    "\n",
    "By comparing the 3 models we can observe 3 different cases:\n",
    "1. For the **Original Model** loss plot, the distributions of losses for retain and forget samples are nearly overlapping, that indicates that the original model has similar confidence in its predictions for both retain and forget samples, as it was trained on both sets.<br>\n",
    "The MIA score of around **`0.54`** is close to random guessing (0.5), indicating that the logistic regression attack model cannot reliably distinguish between retain and forget samples based on loss alone.This low score reflects the lack of separation in the loss values between retain and forget samples, meaning the original model treats them similarly.<br>\n",
    "Since the model was trained on both retain and forget samples, it has effectively “memorized” both types, leading to similar loss values and making membership inference difficult. An expected result, as there is no unlearning applied in this model.\n",
    "\n",
    "2. In the **Forget Model** loss plot it can be observed more separation between the retain and forget loss distributions compared to the original model.\n",
    "Retain samples still have a low loss peak near zero, indicating the model retains knowledge of these samples.\n",
    "Forget samples, however, show a broader loss distribution with generally higher values, suggesting that the forget model is less confident on forget samples, a sign of effective unlearning.<br>\n",
    "The MIA score for the forget model is much higher than the original model one, at **`0.78`**. This indicates that the MIA attack can differentiate between retain and forget samples with reasonable accuracy, based on the higher losses on forget samples.\n",
    "The score reflects partial success in unlearning, as there is a noticeable difference in loss behavior between retain and forget samples.<br>\n",
    "The increased loss on forget samples suggests that the forget model has successfully reduced its confidence on these samples, which is desirable in unlearning. However, the fact that the MIA score is not close to 1.0 suggests that some information about the forget samples may still remain, and the unlearning process is not as effective as it could be.\n",
    "\n",
    "3. For the **Gold Model** the loss plot shows a clear separation between retain and forget samples. Retain samples have a low loss distribution (similar to the retain samples in the forget and original models), indicating high confidence in predicting these samples correctly.\n",
    "Forget samples, however, exhibit a much broader and higher loss distribution compared to the retain samples, indicating that the model has no knowledge of these samples and is not confident in predicting them.<br>\n",
    "The MIA score for the gold model is extremely high, nearly 1.0, indicating almost perfect accuracy in distinguishing between retain and forget samples.\n",
    "This high score reflects the ideal unlearning scenario, where the model has no memory of forget samples, resulting in significantly higher losses on forget samples.<br>\n",
    "The gold model represents an ideal unlearning case where there is a clear distinction between retain and forget samples.\n",
    "This high MIA score sets the benchmark, showing that the forget model should ideally achieve a similar level of separation to be considered highly effective at unlearning.\n",
    "\n",
    "\n",
    "In summary, the ***gold model*** demonstrates the most effective unlearning, as evidenced by its clear distinction between retain and forget samples and near-perfect MIA score. In contrast, the ***original model***, which does not employ unlearning, shows little to no separation in loss values for retain and forget samples, resulting in an MIA score close to random guessing. The ***forget model*** shows partial success in unlearning, with a moderate level of separation and a respectable MIA score of **`0.78`**. However, it does not fully achieve the effectiveness of the gold model, indicating that some residual information about the forget samples remains."
   ]
  },
  {
   "cell_type": "markdown",
   "metadata": {
    "id": "OQX5jUVQuyTy"
   },
   "source": [
    "# 5. Unlearning with Kl divergence\n"
   ]
  },
  {
   "cell_type": "markdown",
   "metadata": {
    "id": "E5ZRA54WuyTy"
   },
   "source": [
    "The Kullback-Leibler (KL) divergence is a measure of how one probability distribution differs from another. In this case, to induce unlearning, we want the model's predictions on the forget set to match a uniform distribution, meaning the model \"forgets\" any specific information about these classes."
   ]
  },
  {
   "cell_type": "markdown",
   "metadata": {
    "id": "1P8C6uyjuyTy"
   },
   "source": [
    "#### Your Turn (1 Point)\n",
    "\n",
    "Next, consider a simple scenario to clarify the concept: a classification problem with four classes. Here, the objective is to unlearn one class by enforcing the logits' distribution (after the softmax) to match a uniform distribution. In this case, let the target distribution for a sample coming from the forget set be $y_{gt} = [0.25, 0.25, 0.25, 0.25]$, and assume that you have achieved the predicted distribution $y_{pred} = [0.25, 0.25, 0.25, 0.25]$\n",
    "\n",
    "**Question**\n",
    "\n",
    "Q: *In this context, why is it preferable to use KL divergence instead of Cross-Entropy? Explain it and fill the code below in order to show it numerically.*\n",
    "\n",
    "A: <br>\n",
    "\n",
    "In this context, **KL divergence** is preferable to **cross-entropy** because KL divergence directly measures the \"distance\" between the predicted distribution $y_{pred}$ and the target uniform distribution $y_{gt}$.\n",
    "\n",
    "The KL divergence, defined by\n",
    "\n",
    "$$\n",
    "D_{KL}(P \\parallel Q) = \\sum_{x \\in \\mathcal{X}} P(x) \\log \\left( \\frac{P(x)}{Q(x)} \\right) \\quad \\text{[1]},\n",
    "$$\n",
    "\n",
    "quantifies how much the predicted distribution $y_{pred}$ deviates from the desired uniform target $y_{gt}$.<br>\n",
    "\n",
    "On the other hand, **cross-entropy** is typically used to compare predicted probabilities with one-hot encoded true labels in classification tasks, and it is given by:\n",
    "\n",
    "1. For *discrete probability distributions*\n",
    "$$\n",
    "H(P, Q) = - \\sum_{x \\in \\mathcal{X}} P(x) \\log Q(x). \\quad \\text{[2a]}\n",
    "$$\n",
    "\n",
    "2. For *continuous probability distributions*\n",
    "$$\n",
    "H(P, Q) = - \\int_{x} P(x) \\log Q(x) \\, dx. \\quad \\text{[2b]}\n",
    "$$\n",
    "\n",
    "In summary, KL divergence is ideal here because it directly measures divergence from the uniform target distribution, while cross-entropy is better suited for comparing predicted probabilities with true class labels.<br>\n",
    "[[1]](https://en.wikipedia.org/wiki/Kullback%E2%80%93Leibler_divergence)\n",
    "[[2]](https://en.wikipedia.org/wiki/Cross-entropy)"
   ]
  },
  {
   "cell_type": "code",
   "execution_count": 34,
   "metadata": {
    "colab": {
     "base_uri": "https://localhost:8080/"
    },
    "id": "xPLHa32cuyTy",
    "outputId": "843aed66-7f63-4934-bc70-c9f60a15a900"
   },
   "outputs": [
    {
     "name": "stdout",
     "output_type": "stream",
     "text": [
      "Cross Entropy: 1.3863\n",
      "KL Divergence: 0.0000\n"
     ]
    }
   ],
   "source": [
    "y_gt = torch.tensor([0.25, 0.25, 0.25, 0.25])\n",
    "y_pred = torch.tensor([0.25, 0.25, 0.25, 0.25])\n",
    "\n",
    "'''\n",
    "Add your code below\n",
    "'''\n",
    "cross_entropy =  -torch.sum(y_gt * torch.log(y_pred))\n",
    "kl_div = torch.sum(y_gt * (torch.log(y_gt) - torch.log(y_pred)))\n",
    "\n",
    "print(f\"Cross Entropy: {cross_entropy:.4f}\")\n",
    "print(f\"KL Divergence: {kl_div:.4f}\")"
   ]
  },
  {
   "cell_type": "markdown",
   "metadata": {
    "id": "wDYznaisuyTz"
   },
   "source": [
    "**Question**\n",
    "\n",
    "Q: *Before proceeding, you should explain the relationship between Cross-Entropy and Kullback-Leibler (KL) divergence. Provide the proof showing how to derive the relationship between the two.*\n",
    "\n",
    "A: <br>\n",
    "\n",
    "\n",
    "Focusing on the discrete probabilty distribution for the proof we start from the KL Divergence definition: <br>\n",
    "$$\n",
    "D_{KL}(P \\parallel Q) = \\sum_{x \\in \\mathcal{X}} P(x) \\log \\left( \\frac{P(x)}{Q(x)} \\right) =\n",
    "$$\n",
    "\n",
    "Applying logartimic properties:\n",
    "\n",
    "$$\n",
    "= \\sum_{x \\in \\mathcal{X}} P(x) (\\log({P(x)})-log({Q(x)})) =\n",
    "$$\n",
    "\n",
    "$$\n",
    "=\\sum_{x \\in \\mathcal{X}} P(x) (\\log{P(x)}) - \\sum_{x \\in \\mathcal{X}} P(x) (\\log{Q(x)}) =\n",
    "$$\n",
    "\n",
    "Expanding the KL divergence:\n",
    "\n",
    "$$\n",
    "D_{KL}(P \\parallel Q) =\\sum_{x \\in \\mathcal{X}} P(x) (\\log{P(x)}) - \\sum_{x \\in \\mathcal{X}} P(x) (\\log{Q(x)})\n",
    "$$\n",
    "\n",
    "$$\n",
    "D_{KL}(P \\parallel Q) -\\sum_{x \\in \\mathcal{X}} P(x) (\\log{P(x)}) = - \\sum_{x \\in \\mathcal{X}} P(x) (\\log{Q(x)})\n",
    "$$\n",
    "\n",
    "Rearranging to Derive Cross-Entropy Formula:\n",
    "\n",
    "$$\n",
    "H(P, Q) = D_{KL}(P \\parallel Q) + H(P)\n",
    "$$\n",
    "\n",
    "\n",
    "In summary, this derivation shows that cross-entropy $H(P, Q)$ can be understood as the sum of the KL divergence $D_{KL}(P \\parallel Q)$, which measures the \"extra cost\" due to the difference between $P$ and $Q$, and the entropy $H(P)$, which represents the inherent uncertainty in $P$.\n"
   ]
  },
  {
   "cell_type": "code",
   "execution_count": 35,
   "metadata": {
    "id": "AsirJLT2uyTz"
   },
   "outputs": [],
   "source": [
    "#fix seeds\n",
    "np.random.seed(0)\n",
    "torch.manual_seed(0)\n",
    "random.seed(0)\n",
    "torch.cuda.manual_seed(0)\n",
    "torch.cuda.manual_seed_all(0)\n",
    "torch.backends.cudnn.deterministic = True\n",
    "torch.backends.cudnn.benchmark = False"
   ]
  },
  {
   "cell_type": "code",
   "execution_count": 36,
   "metadata": {
    "id": "ACOa_sdzuyTz"
   },
   "outputs": [],
   "source": [
    "def make_target (target, number_of_classes = 10):\n",
    "    '''\n",
    "    Function to modify the target class\n",
    "    '''\n",
    "    device = torch.device(\"cuda\" if torch.cuda.is_available() else \"cpu\")\n",
    "    tensor = torch.nn.functional.one_hot(target, num_classes= number_of_classes ).float().to(device)\n",
    "    # Identify rows with 1 in the first position\n",
    "    first_pos_mask = target == 0\n",
    "\n",
    "    # Substite the rows with 1 in the first position with a uniform distribution\n",
    "    n = tensor.size(1)  # Numero di colonne\n",
    "    uniform_distribution = torch.full((n,), 1.0 / n, device = device)  # Distribuzione uniforme\n",
    "    tensor[first_pos_mask] = uniform_distribution\n",
    "\n",
    "    return tensor"
   ]
  },
  {
   "cell_type": "code",
   "execution_count": 37,
   "metadata": {
    "id": "4QeJnkjLuyTz"
   },
   "outputs": [],
   "source": [
    "def unlearning_2 (model, forget_loader, validation, epochs, optimizer, scheduler):\n",
    "    '''\n",
    "    Function to unlearn the forget set\n",
    "    '''\n",
    "    device = torch.device(\"cuda\" if torch.cuda.is_available() else \"cpu\")\n",
    "    epsilon = 1e-5\n",
    "    model.to(device)\n",
    "    losses = []\n",
    "    losses_val = []\n",
    "\n",
    "    for epoch in range(epochs):\n",
    "        model.train()\n",
    "        loss_epoch = 0\n",
    "        loop = tqdm(enumerate(forget_loader), total=len(forget_loader), leave=True)\n",
    "        for batch_idx, (inputs, targets) in loop:\n",
    "            inputs, targets = inputs.to(device), targets.to(device)\n",
    "            optimizer.zero_grad()\n",
    "            outputs = model(inputs)\n",
    "            outputs = outputs + epsilon\n",
    "            outputs = F.log_softmax(outputs, dim=1)\n",
    "\n",
    "            targets = make_target(targets)\n",
    "            loss = F.kl_div(outputs, targets, reduction='batchmean')\n",
    "            loss.backward()\n",
    "            optimizer.step()\n",
    "\n",
    "            #running loss\n",
    "            loss_epoch += loss.item()\n",
    "            # Update progress bar with loss and epoch information\n",
    "            loop.set_description(f\"Epoch [{epoch+1}/{epochs}]\")\n",
    "            loop.set_postfix(loss=loss.item())\n",
    "\n",
    "        #avg loss\n",
    "        avg_loss = loss_epoch / len(forget_loader )\n",
    "        losses.append(avg_loss)\n",
    "        #scheduler step\n",
    "        scheduler.step(avg_loss)\n",
    "        tqdm.write(f\"Epoch [{epoch+1}/{epochs}], Average Loss: {avg_loss:.4f}\")\n",
    "\n",
    "        # validation\n",
    "        loss_val = 0\n",
    "        model.eval()\n",
    "        with torch.no_grad():\n",
    "            for data, targets in validation:\n",
    "                data = data.to(device=device)\n",
    "                targets = targets.to(device=device)\n",
    "\n",
    "                scores = model(data)\n",
    "                scores = scores + epsilon\n",
    "                scores = F.log_softmax(scores, dim=1)\n",
    "                targets = make_target(targets)\n",
    "                loss = F.kl_div(scores, targets, reduction='batchmean')\n",
    "                loss_val += loss.item()\n",
    "            # Calculate average loss for the epoch\n",
    "            avg_val_loss = loss_val / len(validation)\n",
    "            losses_val.append(avg_val_loss)\n",
    "            print(f\"Validation Loss: {avg_val_loss:.4f}\")\n",
    "            # if avg val_loss is better than the one before, save the model\n",
    "            if epoch == 0:\n",
    "                # create directory if not exist\n",
    "                os.makedirs(\"checkpoint\", exist_ok=True)\n",
    "                best_loss = avg_val_loss\n",
    "                torch.save(model.state_dict(), \"./checkpoint/another_forget_model.pth\")\n",
    "            elif avg_val_loss < best_loss:\n",
    "                best_loss = avg_val_loss\n",
    "                torch.save(model.state_dict(), \"./checkpoint/another_forget_model.pth\")\n",
    "    return model, losses, losses_val"
   ]
  },
  {
   "cell_type": "code",
   "execution_count": 38,
   "metadata": {
    "colab": {
     "base_uri": "https://localhost:8080/"
    },
    "id": "fx6E9YWXuyTz",
    "outputId": "aa3c7436-0966-47ef-a060-f426be5590c8"
   },
   "outputs": [
    {
     "name": "stderr",
     "output_type": "stream",
     "text": [
      "C:\\Users\\Livia_99\\AppData\\Local\\Temp\\ipykernel_2272\\1731935167.py:2: FutureWarning: You are using `torch.load` with `weights_only=False` (the current default value), which uses the default pickle module implicitly. It is possible to construct malicious pickle data which will execute arbitrary code during unpickling (See https://github.com/pytorch/pytorch/blob/main/SECURITY.md#untrusted-models for more details). In a future release, the default value for `weights_only` will be flipped to `True`. This limits the functions that could be executed during unpickling. Arbitrary objects will no longer be allowed to be loaded via this mode unless they are explicitly allowlisted by the user via `torch.serialization.add_safe_globals`. We recommend you start setting `weights_only=True` for any use case where you don't have full control of the loaded file. Please open an issue on GitHub for any issues related to this experimental feature.\n",
      "  another_forget_model.load_state_dict(torch.load(\"./checkpoint/best_model.pth\", map_location=torch.device('cpu'))); #because of cpu usage\n",
      "C:\\Users\\Livia_99\\AppData\\Local\\Packages\\PythonSoftwareFoundation.Python.3.11_qbz5n2kfra8p0\\LocalCache\\local-packages\\Python311\\site-packages\\torch\\optim\\lr_scheduler.py:62: UserWarning: The verbose parameter is deprecated. Please use get_last_lr() to access the learning rate.\n",
      "  warnings.warn(\n",
      "Epoch [1/10]: 100%|██████████| 10/10 [00:02<00:00,  3.84it/s, loss=1.5]\n"
     ]
    },
    {
     "name": "stdout",
     "output_type": "stream",
     "text": [
      "Epoch [1/10], Average Loss: 1.6618\n",
      "Validation Loss: 1.4846\n"
     ]
    },
    {
     "name": "stderr",
     "output_type": "stream",
     "text": [
      "Epoch [2/10]: 100%|██████████| 10/10 [00:02<00:00,  3.76it/s, loss=1.1]\n"
     ]
    },
    {
     "name": "stdout",
     "output_type": "stream",
     "text": [
      "Epoch [2/10], Average Loss: 1.3002\n",
      "Validation Loss: 1.0868\n"
     ]
    },
    {
     "name": "stderr",
     "output_type": "stream",
     "text": [
      "Epoch [3/10]: 100%|██████████| 10/10 [00:02<00:00,  3.75it/s, loss=0.929]\n"
     ]
    },
    {
     "name": "stdout",
     "output_type": "stream",
     "text": [
      "Epoch [3/10], Average Loss: 1.0484\n",
      "Validation Loss: 0.8545\n"
     ]
    },
    {
     "name": "stderr",
     "output_type": "stream",
     "text": [
      "Epoch [4/10]: 100%|██████████| 10/10 [00:02<00:00,  3.87it/s, loss=0.82]\n"
     ]
    },
    {
     "name": "stdout",
     "output_type": "stream",
     "text": [
      "Epoch [4/10], Average Loss: 0.8762\n",
      "Validation Loss: 0.7137\n"
     ]
    },
    {
     "name": "stderr",
     "output_type": "stream",
     "text": [
      "Epoch [5/10]: 100%|██████████| 10/10 [00:02<00:00,  4.12it/s, loss=0.717]\n"
     ]
    },
    {
     "name": "stdout",
     "output_type": "stream",
     "text": [
      "Epoch [5/10], Average Loss: 0.7533\n",
      "Validation Loss: 0.6219\n"
     ]
    },
    {
     "name": "stderr",
     "output_type": "stream",
     "text": [
      "Epoch [6/10]: 100%|██████████| 10/10 [00:02<00:00,  3.99it/s, loss=0.602]\n"
     ]
    },
    {
     "name": "stdout",
     "output_type": "stream",
     "text": [
      "Epoch [6/10], Average Loss: 0.6527\n",
      "Validation Loss: 0.5461\n"
     ]
    },
    {
     "name": "stderr",
     "output_type": "stream",
     "text": [
      "Epoch [7/10]: 100%|██████████| 10/10 [00:02<00:00,  4.07it/s, loss=0.499]\n"
     ]
    },
    {
     "name": "stdout",
     "output_type": "stream",
     "text": [
      "Epoch [7/10], Average Loss: 0.5694\n",
      "Validation Loss: 0.4773\n"
     ]
    },
    {
     "name": "stderr",
     "output_type": "stream",
     "text": [
      "Epoch [8/10]: 100%|██████████| 10/10 [00:02<00:00,  4.06it/s, loss=0.489]\n"
     ]
    },
    {
     "name": "stdout",
     "output_type": "stream",
     "text": [
      "Epoch [8/10], Average Loss: 0.5101\n",
      "Validation Loss: 0.4246\n"
     ]
    },
    {
     "name": "stderr",
     "output_type": "stream",
     "text": [
      "Epoch [9/10]: 100%|██████████| 10/10 [00:02<00:00,  4.08it/s, loss=0.411]\n"
     ]
    },
    {
     "name": "stdout",
     "output_type": "stream",
     "text": [
      "Epoch [9/10], Average Loss: 0.4550\n",
      "Validation Loss: 0.3817\n"
     ]
    },
    {
     "name": "stderr",
     "output_type": "stream",
     "text": [
      "Epoch [10/10]: 100%|██████████| 10/10 [00:02<00:00,  4.08it/s, loss=0.382]"
     ]
    },
    {
     "name": "stdout",
     "output_type": "stream",
     "text": [
      "Epoch [10/10], Average Loss: 0.4107\n",
      "Validation Loss: 0.3451\n"
     ]
    },
    {
     "name": "stderr",
     "output_type": "stream",
     "text": [
      "\n"
     ]
    }
   ],
   "source": [
    "another_forget_model = create_model()\n",
    "another_forget_model.load_state_dict(torch.load(\"./checkpoint/best_model.pth\", map_location=torch.device('cpu'))); #because of cpu usage\n",
    "another_forget_model.to(device);\n",
    "\n",
    "# optimizer\n",
    "optimizer = torch.optim.Adam(another_forget_model.parameters(), lr=0.0001)\n",
    "scheduler = torch.optim.lr_scheduler.ReduceLROnPlateau(optimizer, mode='min', factor=0.1, patience=5, verbose=True)\n",
    "num_epochs = 10\n",
    "\n",
    "forget_loader = forget_loader\n",
    "val_loader = forget_loader_val\n",
    "\n",
    "another_forget_model, losses, losses_val = unlearning_2(another_forget_model, forget_loader, val_loader, num_epochs, optimizer, scheduler)"
   ]
  },
  {
   "cell_type": "code",
   "execution_count": 39,
   "metadata": {
    "colab": {
     "base_uri": "https://localhost:8080/",
     "height": 260
    },
    "id": "qKom8fmPuyTz",
    "outputId": "8802921a-0bf0-4477-dec0-e3f077e58603"
   },
   "outputs": [
    {
     "data": {
      "image/png": "[encoded data removed]",
      "text/plain": [
       "<Figure size 1500x500 with 1 Axes>"
      ]
     },
     "metadata": {},
     "output_type": "display_data"
    }
   ],
   "source": [
    "#plot losses\n",
    "#epoch of best validation loss\n",
    "index_best = losses_val.index(min(losses_val))\n",
    "\n",
    "plt.figure(figsize=(15, 5))\n",
    "plt.plot(losses, label=\"Train Loss\")\n",
    "plt.plot(losses_val, label=\"Val Loss\")\n",
    "plt.axvline(index_best, color='r', linestyle='--', label=\"Best Val Loss\")\n",
    "plt.legend()\n",
    "plt.title(\"Loss vs Epochs\")\n",
    "plt.xlabel(\"Epochs\")\n",
    "plt.ylabel(\"Loss\")\n",
    "plt.grid()\n",
    "plt.show()"
   ]
  },
  {
   "cell_type": "code",
   "execution_count": 40,
   "metadata": {
    "colab": {
     "base_uri": "https://localhost:8080/"
    },
    "id": "HaIhUYqYuyT0",
    "outputId": "29eb61ac-4f59-4434-bcb2-b79a1a16ba1a"
   },
   "outputs": [
    {
     "name": "stderr",
     "output_type": "stream",
     "text": [
      "C:\\Users\\Livia_99\\AppData\\Local\\Temp\\ipykernel_2272\\2561108106.py:3: FutureWarning: You are using `torch.load` with `weights_only=False` (the current default value), which uses the default pickle module implicitly. It is possible to construct malicious pickle data which will execute arbitrary code during unpickling (See https://github.com/pytorch/pytorch/blob/main/SECURITY.md#untrusted-models for more details). In a future release, the default value for `weights_only` will be flipped to `True`. This limits the functions that could be executed during unpickling. Arbitrary objects will no longer be allowed to be loaded via this mode unless they are explicitly allowlisted by the user via `torch.serialization.add_safe_globals`. We recommend you start setting `weights_only=True` for any use case where you don't have full control of the loaded file. Please open an issue on GitHub for any issues related to this experimental feature.\n",
      "  another_forget_model.load_state_dict(torch.load(\"./checkpoint/another_forget_model.pth\", map_location=torch.device('cpu'))) #because of cpu usage\n"
     ]
    }
   ],
   "source": [
    "# calculate accuracy\n",
    "another_forget_model = create_model()\n",
    "another_forget_model.load_state_dict(torch.load(\"./checkpoint/another_forget_model.pth\", map_location=torch.device('cpu'))) #because of cpu usage\n",
    "another_forget_model.eval()\n",
    "another_forget_model.to(device)\n",
    "\n",
    "\n",
    "# Calculate the accuracy on the test set\n",
    "retain_accuracy = accuracy(another_forget_model, retain_loader)\n",
    "forget_accuracy = accuracy(another_forget_model, forget_loader)\n",
    "test_accuracy = accuracy(another_forget_model, test_loader)\n",
    "retain_test_accuracy = accuracy(another_forget_model, retain_loader_test)\n",
    "forget_test_accuracy = accuracy(another_forget_model, forget_loader_test)"
   ]
  },
  {
   "cell_type": "code",
   "execution_count": 41,
   "metadata": {
    "colab": {
     "base_uri": "https://localhost:8080/"
    },
    "id": "ZXn1rlLruyT0",
    "outputId": "17b5fb3e-3a87-453e-c46a-98d0c0315890"
   },
   "outputs": [
    {
     "name": "stdout",
     "output_type": "stream",
     "text": [
      "Retain Accuracy: 64.0733\n",
      "Forget Accuracy: 16.5000\n",
      "Test Accuracy: 56.5125\n",
      "Test Retain Accuracy: 61.1667\n",
      "Test Forget Accuracy: 14.6250\n"
     ]
    }
   ],
   "source": [
    "# print accuracies on retain, forget and test set\n",
    "print(f\"Retain Accuracy: {100* retain_accuracy:.4f}\")\n",
    "print(f\"Forget Accuracy: {100* forget_accuracy:.4f}\")\n",
    "print(f\"Test Accuracy: {100* test_accuracy:.4f}\")\n",
    "print(f\"Test Retain Accuracy: {100* retain_test_accuracy:.4f}\")\n",
    "print(f\"Test Forget Accuracy: {100* forget_test_accuracy:.4f}\")"
   ]
  },
  {
   "cell_type": "code",
   "execution_count": 42,
   "metadata": {
    "id": "yyrAJCXnuyT0"
   },
   "outputs": [],
   "source": [
    "# calculate losses of the model on forget and retain test set\n",
    "retain_losses_CE = compute_losses(another_forget_model, retain_loader_test)\n",
    "forget_losses_CE = compute_losses(another_forget_model, forget_loader_test)"
   ]
  },
  {
   "cell_type": "code",
   "execution_count": 43,
   "metadata": {
    "colab": {
     "base_uri": "https://localhost:8080/",
     "height": 472
    },
    "id": "fbEoQsOAuyT0",
    "outputId": "2e88e9e3-d4fd-4c39-cd03-7f1b73964a97"
   },
   "outputs": [
    {
     "data": {
      "image/png": "[encoded data removed]",
      "text/plain": [
       "<Figure size 640x480 with 1 Axes>"
      ]
     },
     "metadata": {},
     "output_type": "display_data"
    }
   ],
   "source": [
    "plt.hist(retain_losses_CE, density = True, bins=50, alpha=0.5, label='Retain', color='blue')\n",
    "plt.hist(forget_losses_CE, density = True, bins=50, alpha=0.5, label='Forget', color='red')\n",
    "plt.title('Another Forget Model')\n",
    "plt.xlabel('Loss')\n",
    "plt.legend()\n",
    "plt.show()"
   ]
  },
  {
   "cell_type": "code",
   "execution_count": 44,
   "metadata": {
    "colab": {
     "base_uri": "https://localhost:8080/"
    },
    "id": "9iuJ42J_uyT0",
    "outputId": "956991ee-9261-4114-e21d-cfe5200949cb"
   },
   "outputs": [
    {
     "name": "stdout",
     "output_type": "stream",
     "text": [
      "Another Forget Model MIA score with Cross Entropy losses: 0.7675\n"
     ]
    }
   ],
   "source": [
    "# mia attack on cross entropy\n",
    "np.random.seed(0)\n",
    "subsample_retain_losses_CE = np.random.choice(retain_losses_CE, len(forget_losses), replace=False)\n",
    "samples_mia = np.concatenate([subsample_retain_losses_CE, forget_losses_CE]).reshape(-1, 1)\n",
    "members_mia = np.concatenate([np.zeros(len(subsample_retain_losses_CE)), np.ones(len(forget_losses))])\n",
    "\n",
    "scores_another_forget = simple_mia(samples_mia, members_mia)\n",
    "print(f\"Another Forget Model MIA score with Cross Entropy losses: {scores_another_forget.mean():.4f}\")"
   ]
  },
  {
   "cell_type": "markdown",
   "metadata": {
    "id": "n8TociM-uyT1"
   },
   "source": [
    "This is another way of performing unlearning, you may have noticed that the distributions of the retain and forget sets are different but still there is an overlapping portion. It is very likely that the MIA attack will fail in that specific region."
   ]
  },
  {
   "cell_type": "markdown",
   "metadata": {
    "id": "3r1vamqHuyT1"
   },
   "source": [
    "# 6. GMN for unlearning (6 Points)\n",
    "\n",
    "Now, we will attempt to use the GMN you have implemented in the theory notebook for the unlearning task. Keep in mind that this is a novel and challenging task, and it is quite possible that the results may not meet your expectations. However, this is the nature of research. Therefore, the evaluation will focus on the clarity of your approach and your ability to justify your choices and results, rather then the result itself."
   ]
  },
  {
   "cell_type": "markdown",
   "metadata": {
    "id": "ekgQfTMjuyT1"
   },
   "source": [
    "First of all, go into the ```Practice/gmn/graph_models.py``` file and replace the empty classes with what you have implemented in the second part of the theory notebook. Then, try to think about and implement an unlearning algorithm that leverages the graph metanetwork, and evaluate the unlearned model with MIA attacks and accuracy scores. It would be super cool to have a neural network (the GMN) that can take as input other pretrained neural networks and produce as output the same networks but unlearned over a specific subset of data samples.\n",
    "\n",
    "In the end, generate a detailed report where you describe your idea, methodology and implementation. Put the most of your effort in explaining us the ideas and the intuitions that you had, since this is what we will reward. Don't be worried if results are poor, there can be many causes of this and it's not your task to solve all of them."
   ]
  },
  {
   "cell_type": "markdown",
   "metadata": {},
   "source": [
    "#### **THE REPORT IS IN A PDF DOCUMENT ATTACHED TO THE EMAIL**"
   ]
  },
  {
   "cell_type": "code",
   "execution_count": 45,
   "metadata": {
    "colab": {
     "base_uri": "https://localhost:8080/"
    },
    "id": "CbHIlmkLLI15",
    "outputId": "f55dc0d3-e2e8-43cd-b16d-3bdbc901f7da"
   },
   "outputs": [
    {
     "name": "stdout",
     "output_type": "stream",
     "text": [
      "Looking in links: https://data.pyg.org/whl/torch-2.5.1+cpu.html\n",
      "Requirement already satisfied: torch_scatter in c:\\users\\livia_99\\appdata\\local\\packages\\pythonsoftwarefoundation.python.3.11_qbz5n2kfra8p0\\localcache\\local-packages\\python311\\site-packages (2.1.2+pt25cpu)\n",
      "Note: you may need to restart the kernel to use updated packages.\n"
     ]
    },
    {
     "name": "stderr",
     "output_type": "stream",
     "text": [
      "\n",
      "[notice] A new release of pip is available: 24.0 -> 24.3.1\n",
      "[notice] To update, run: C:\\Users\\Livia_99\\AppData\\Local\\Microsoft\\WindowsApps\\PythonSoftwareFoundation.Python.3.11_qbz5n2kfra8p0\\python.exe -m pip install --upgrade pip\n"
     ]
    },
    {
     "name": "stdout",
     "output_type": "stream",
     "text": [
      "Requirement already satisfied: opt_einsum in c:\\users\\livia_99\\appdata\\local\\packages\\pythonsoftwarefoundation.python.3.11_qbz5n2kfra8p0\\localcache\\local-packages\\python311\\site-packages (3.4.0)\n",
      "Note: you may need to restart the kernel to use updated packages.\n"
     ]
    },
    {
     "name": "stderr",
     "output_type": "stream",
     "text": [
      "\n",
      "[notice] A new release of pip is available: 24.0 -> 24.3.1\n",
      "[notice] To update, run: C:\\Users\\Livia_99\\AppData\\Local\\Microsoft\\WindowsApps\\PythonSoftwareFoundation.Python.3.11_qbz5n2kfra8p0\\python.exe -m pip install --upgrade pip\n"
     ]
    }
   ],
   "source": [
    "%pip install torch_scatter -f https://data.pyg.org/whl/torch-2.5.1+cpu.html\n",
    "%pip install opt_einsum\n"
   ]
  },
  {
   "cell_type": "code",
   "execution_count": 46,
   "metadata": {
    "id": "fXU3O4yDSZDi"
   },
   "outputs": [],
   "source": [
    "from torch_geometric.loader import DataLoader"
   ]
  },
  {
   "cell_type": "code",
   "execution_count": 47,
   "metadata": {
    "colab": {
     "base_uri": "https://localhost:8080/",
     "height": 535
    },
    "id": "VyPsKgS_uyT1",
    "outputId": "2c3c2e82-fae0-41e8-b9ce-4ccbd71d1e1f"
   },
   "outputs": [
    {
     "name": "stdout",
     "output_type": "stream",
     "text": [
      "DataBatch(x=[216, 3], edge_index=[2, 59050], edge_attr=[59050, 6], u=[1, 8], batch=[216], ptr=[2])\n"
     ]
    },
    {
     "name": "stderr",
     "output_type": "stream",
     "text": [
      "C:\\Users\\Livia_99\\AppData\\Local\\Temp\\ipykernel_2272\\3314917291.py:9: FutureWarning: You are using `torch.load` with `weights_only=False` (the current default value), which uses the default pickle module implicitly. It is possible to construct malicious pickle data which will execute arbitrary code during unpickling (See https://github.com/pytorch/pytorch/blob/main/SECURITY.md#untrusted-models for more details). In a future release, the default value for `weights_only` will be flipped to `True`. This limits the functions that could be executed during unpickling. Arbitrary objects will no longer be allowed to be loaded via this mode unless they are explicitly allowlisted by the user via `torch.serialization.add_safe_globals`. We recommend you start setting `weights_only=True` for any use case where you don't have full control of the loaded file. Please open an issue on GitHub for any issues related to this experimental feature.\n",
      "  weights = torch.load(\"./checkpoint/best_model.pth\", map_location=torch.device('cpu')) #for cpu usage\n"
     ]
    }
   ],
   "source": [
    "from gmn.graph_models import *\n",
    "from torch_geometric.data import Data, Batch\n",
    "from gmn.graph_construct.model_arch_graph import sequential_to_arch, arch_to_graph, graph_to_arch, arch_to_sequential\n",
    "from gmn.feature_extractor_gmn import NodeEdgeFeatEncoder\n",
    "from gmn.graph_models import MPNN\n",
    "\n",
    "torch.manual_seed(0)\n",
    "\n",
    "weights = torch.load(\"./checkpoint/best_model.pth\", map_location=torch.device('cpu')) #for cpu usage\n",
    "model = create_model()\n",
    "model.load_state_dict(weights)\n",
    "arch = sequential_to_arch(model)\n",
    "x, edge_index, edge_attr = arch_to_graph(arch)\n",
    "x = x.float()\n",
    "edge_attr = edge_attr.float()\n",
    "\n",
    "# currently u is a vector of zeros, and it is basically useless. You can consider filling it with what you prefer and leverage it for the task of unlearning\n",
    "g_cnn = Data(x=x, edge_index=edge_index, edge_attr=edge_attr, u = torch.zeros(1, 8))\n",
    "\n",
    "graph_batch = Batch.from_data_list([g_cnn])\n",
    "print(graph_batch)"
   ]
  },
  {
   "cell_type": "code",
   "execution_count": 48,
   "metadata": {
    "id": "F0rViPYKuyT1"
   },
   "outputs": [
    {
     "data": {
      "text/plain": [
       "GraphMetaNetwork(\n",
       "  (encoder): NodeEdgeFeatEncoder(\n",
       "    (node_layer_encoder): Sequential(\n",
       "      (0): Linear(in_features=1, out_features=64, bias=True)\n",
       "      (1): Sin()\n",
       "    )\n",
       "    (neuron_num_encoder): Sequential(\n",
       "      (0): Linear(in_features=1, out_features=64, bias=True)\n",
       "      (1): Sin()\n",
       "    )\n",
       "    (node_type_encoder): Embedding(17, 64)\n",
       "    (x_proj): Linear(in_features=192, out_features=64, bias=True)\n",
       "    (weight_encoder): Sequential(\n",
       "      (0): Linear(in_features=1, out_features=64, bias=True)\n",
       "      (1): Sin()\n",
       "    )\n",
       "    (edge_layer_encoder): Sequential(\n",
       "      (0): Linear(in_features=1, out_features=64, bias=True)\n",
       "      (1): Sin()\n",
       "    )\n",
       "    (conv_pos_encoder): Sequential(\n",
       "      (0): Linear(in_features=3, out_features=64, bias=True)\n",
       "      (1): Sin()\n",
       "    )\n",
       "    (edge_type_encoder): Embedding(14, 64)\n",
       "    (edge_attr_proj): Linear(in_features=256, out_features=64, bias=True)\n",
       "  )\n",
       "  (mpnn): MPNN(\n",
       "    (convs): ModuleList(\n",
       "      (0): MetaLayer(\n",
       "        edge_model=EdgeModel(\n",
       "        (edge_mlp): Sequential(\n",
       "          (0): Linear(in_features=200, out_features=32, bias=True)\n",
       "          (1): ReLU()\n",
       "        )\n",
       "      ),\n",
       "        node_model=NodeModel(\n",
       "        (node_mlp_1): Sequential(\n",
       "          (0): Linear(in_features=168, out_features=32, bias=True)\n",
       "          (1): ReLU()\n",
       "        )\n",
       "        (node_mlp_2): Sequential(\n",
       "          (0): Linear(in_features=104, out_features=32, bias=True)\n",
       "          (1): ReLU()\n",
       "        )\n",
       "      ),\n",
       "        global_model=GlobalModel(\n",
       "        (global_mlp): Sequential(\n",
       "          (0): Linear(in_features=72, out_features=32, bias=True)\n",
       "          (1): ReLU()\n",
       "        )\n",
       "      )\n",
       "      )\n",
       "      (1-2): 2 x MetaLayer(\n",
       "        edge_model=EdgeModel(\n",
       "        (edge_mlp): Sequential(\n",
       "          (0): Linear(in_features=128, out_features=32, bias=True)\n",
       "          (1): ReLU()\n",
       "        )\n",
       "      ),\n",
       "        node_model=NodeModel(\n",
       "        (node_mlp_1): Sequential(\n",
       "          (0): Linear(in_features=128, out_features=32, bias=True)\n",
       "          (1): ReLU()\n",
       "        )\n",
       "        (node_mlp_2): Sequential(\n",
       "          (0): Linear(in_features=96, out_features=32, bias=True)\n",
       "          (1): ReLU()\n",
       "        )\n",
       "      ),\n",
       "        global_model=GlobalModel(\n",
       "        (global_mlp): Sequential(\n",
       "          (0): Linear(in_features=96, out_features=32, bias=True)\n",
       "          (1): ReLU()\n",
       "        )\n",
       "      )\n",
       "      )\n",
       "      (3): MetaLayer(\n",
       "        edge_model=EdgeModel(\n",
       "        (edge_mlp): Sequential(\n",
       "          (0): Linear(in_features=128, out_features=1, bias=True)\n",
       "        )\n",
       "      ),\n",
       "        node_model=NodeModel(\n",
       "        (node_mlp_1): Sequential(\n",
       "          (0): Linear(in_features=97, out_features=3, bias=True)\n",
       "        )\n",
       "        (node_mlp_2): Sequential(\n",
       "          (0): Linear(in_features=65, out_features=3, bias=True)\n",
       "        )\n",
       "      ),\n",
       "        global_model=GlobalModel(\n",
       "        (global_mlp): Sequential(\n",
       "          (0): Linear(in_features=36, out_features=8, bias=True)\n",
       "        )\n",
       "      )\n",
       "      )\n",
       "    )\n",
       "    (node_norms): ModuleList(\n",
       "      (0-2): 3 x BatchNorm1d(32, eps=1e-05, momentum=0.1, affine=True, track_running_stats=True)\n",
       "    )\n",
       "    (edge_norms): ModuleList(\n",
       "      (0-2): 3 x BatchNorm1d(32, eps=1e-05, momentum=0.1, affine=True, track_running_stats=True)\n",
       "    )\n",
       "    (global_norms): ModuleList(\n",
       "      (0-2): 3 x BatchNorm1d(32, eps=1e-05, momentum=0.1, affine=True, track_running_stats=True)\n",
       "    )\n",
       "  )\n",
       ")"
      ]
     },
     "execution_count": 48,
     "metadata": {},
     "output_type": "execute_result"
    }
   ],
   "source": [
    "class GraphMetaNetwork(nn.Module):\n",
    "    '''\n",
    "    Wrapper class for the graph metanetwork\n",
    "    '''\n",
    "    def __init__(self, encoder, mpnn):\n",
    "        super(GraphMetaNetwork, self).__init__()\n",
    "        self.encoder = encoder\n",
    "        self.mpnn = mpnn\n",
    "\n",
    "    def forward(self, data):\n",
    "        x, edge_index, edge_attr, u, batch = data.x, data.edge_index, data.edge_attr, data.u, data.batch\n",
    "        x, edge_attr = self.encoder(x, edge_attr)\n",
    "        x, edge_attr, u = self.mpnn(x, edge_index, edge_attr, u, batch)\n",
    "        return edge_attr\n",
    "\n",
    "# Define the encoder and MPNN\n",
    "pre_embedding_dim = 64\n",
    "global_in_dim = 8\n",
    "hidden_dim = 32\n",
    "node_out_dim = 3\n",
    "edge_out_dim = 1\n",
    "global_out_dim = 8\n",
    "num_gnn_layers = 4\n",
    "encoder = NodeEdgeFeatEncoder(hidden_dim=pre_embedding_dim)\n",
    "mpnn = MPNN(node_in_dim=pre_embedding_dim,\n",
    "            edge_in_dim=pre_embedding_dim,\n",
    "            global_in_dim = global_in_dim,\n",
    "            hidden_dim=hidden_dim,\n",
    "            node_out_dim= node_out_dim,\n",
    "            edge_out_dim = edge_out_dim,\n",
    "            global_out_dim= global_out_dim,\n",
    "            num_layers=num_gnn_layers,\n",
    "            reduce='mean')\n",
    "\n",
    "# Create the metanetwork\n",
    "gmn = GraphMetaNetwork(encoder, mpnn)\n",
    "gmn.to(device)"
   ]
  },
  {
   "cell_type": "markdown",
   "metadata": {
    "id": "dnOlp0STuyT1"
   },
   "source": [
    "If you need to convert the output of the gmn back into a neural network model (i.e., an ```nn.Sequential``` object), please look into ```graph_to_arch``` and ```arch_to_sequential``` functions stored in ```Practice/gmn/graph_construct/model_arch_graph.py```."
   ]
  },
  {
   "cell_type": "markdown",
   "metadata": {},
   "source": [
    "### **Dataset introduction**\n",
    "\n",
    "For this task, we used the ***Cora dataset***. The dataset is a citation network, where nodes represent scientific papers, and edges indicate citation relationships between them. Each node is associated with a **bag-of-words vector** derived from the paper's content, and the dataset includes **7 classes**, representing different research topics (e.g., Neural Networks, Rule Learning).\n",
    "\n",
    "Key characteristics of the Cora dataset include:\n",
    "- **Nodes**: 2708 scientific papers.\n",
    "- **Edges**: 10556 connections.\n",
    "- **Features**: 1433 unique words used to describe the papers.\n",
    "- **Classes**: 7 research topics, imbalanced in distribution.\n",
    "\n",
    "*Further details about the dataset are detailed in the report* [[dataset reference]](https://medium.com/@koki_noda/ultimate-guide-to-graph-neural-networks-1-cora-dataset-37338c04fe6f).\n",
    "\n"
   ]
  },
  {
   "cell_type": "code",
   "execution_count": null,
   "metadata": {},
   "outputs": [
    {
     "name": "stdout",
     "output_type": "stream",
     "text": [
      "Dataset: Cora()\n",
      "Number of nodes: 2708\n",
      "Number of edges: 10556\n",
      "Number of features: 1433\n",
      "Number of classes: 7\n"
     ]
    }
   ],
   "source": [
    "#Importing the dataset\n",
    "from torch_geometric.datasets import Planetoid\n",
    "\n",
    "#Loading the dataset\n",
    "dataset = Planetoid(root='data', name='Cora')\n",
    "\n",
    "#Extracting the graph\n",
    "data = dataset[0]\n",
    "\n",
    "print(f\"Dataset: {dataset}\")\n",
    "print(f\"Number of nodes: {data.num_nodes}\")\n",
    "print(f\"Number of edges: {data.num_edges}\")\n",
    "print(f\"Number of features: {data.num_features}\")\n",
    "print(f\"Number of classes: {dataset.num_classes}\")"
   ]
  },
  {
   "cell_type": "code",
   "execution_count": 50,
   "metadata": {},
   "outputs": [],
   "source": [
    "from torch_geometric.datasets import Planetoid\n",
    "dataset = Planetoid(root='/tmp/Cora', name='Cora')"
   ]
  },
  {
   "cell_type": "markdown",
   "metadata": {},
   "source": [
    "Cora dataset is already splitted in train, test and validation:"
   ]
  },
  {
   "cell_type": "code",
   "execution_count": null,
   "metadata": {},
   "outputs": [
    {
     "name": "stdout",
     "output_type": "stream",
     "text": [
      "Training nodes: 140\n",
      "Validation nodes: 500\n",
      "Testing nodes: 1000\n"
     ]
    }
   ],
   "source": [
    "#Training, validation, and test \n",
    "train_mask = dataset.train_mask\n",
    "val_mask = dataset.val_mask\n",
    "test_mask = dataset.test_mask\n",
    "\n",
    "print(f\"Training nodes: {train_mask.sum().item()}\")\n",
    "print(f\"Validation nodes: {val_mask.sum().item()}\")\n",
    "print(f\"Testing nodes: {test_mask.sum().item()}\")"
   ]
  },
  {
   "cell_type": "markdown",
   "metadata": {},
   "source": [
    "After loading the dataset and exploring it a bit we decided ***what to use the `vector u` for***.\n",
    "Since we are working with a specific class (\"Neural Network\" topic) we can use u to encode this information with one-hot-encoded labels.<br>\n",
    "\n",
    "This ensures that every graph already has its u vector filled with a one-hot encoding of the class label. Therefore, we don’t need to redefine or explicitly pass the u vector into the unlearning function. Instead, the u vector for each graph is embedded in the Data object (data.u) and can be accessed directly during the unlearning process."
   ]
  },
  {
   "cell_type": "markdown",
   "metadata": {},
   "source": [
    "***Integrate the Pre-trained Graph with the Cora Dataset***<br>\n",
    "\n",
    "We decided to Integrate the Pre-trained Graph with the Cora Dataset to take advantage of the knowledge already captured by the pre-trained model. This helps the model better understand the relationships in the citation network, making the learning and unlearning processes more effective.\n",
    "\n",
    "Before proceeding further let's check if the input dimension of the graph we want to integrate alligns with the pre-trained GMN, otherwise ww will need to modify the encoder:"
   ]
  },
  {
   "cell_type": "code",
   "execution_count": 52,
   "metadata": {},
   "outputs": [
    {
     "name": "stdout",
     "output_type": "stream",
     "text": [
      "Cora input dimension:1433\n",
      "Pre-trained GMN input dimension: 64\n"
     ]
    }
   ],
   "source": [
    "cora_input_dim = dataset.num_node_features\n",
    "print(f\"Cora input dimension:{cora_input_dim}\")\n",
    "print(f\"Pre-trained GMN input dimension: {pre_embedding_dim}\")"
   ]
  },
  {
   "cell_type": "markdown",
   "metadata": {},
   "source": [
    "> The input dimension of the Cora graph and the Pre-trained DMN are effectively different, so we will need to modify the encoder, but we can do it later and now integrate the Cora dataset and the Pre-trained GMN:"
   ]
  },
  {
   "cell_type": "code",
   "execution_count": null,
   "metadata": {},
   "outputs": [
    {
     "name": "stdout",
     "output_type": "stream",
     "text": [
      "Global vector `u`: tensor([[1., 0., 0., 0., 0., 0., 0.]])\n"
     ]
    }
   ],
   "source": [
    "#Use Cora features and labels for the g_cnn, the graph-based output of the pre-trined network\n",
    "g_cnn.x = data.x  #Cora's node features\n",
    "g_cnn.y = data.y  #Cora's labels\n",
    "g_cnn.edge_index = data.edge_index  #Cora's edges\n",
    "\n",
    "#Initialize u as a one-hot vector to indicate the \"forget\" class\n",
    "g_cnn.u = torch.zeros(1, dataset.num_classes)\n",
    "forget_class_idx = 0  #we want to forget class 1 (indexed at 0)\n",
    "g_cnn.u[0, forget_class_idx] = 1.0  #Set the forget class \n",
    "\n",
    "#Let's print the u vector to check it\n",
    "print(f\"Global vector `u`: {g_cnn.u}\")"
   ]
  },
  {
   "cell_type": "markdown",
   "metadata": {
    "id": "xk5bLvMhI1VZ"
   },
   "source": [
    "Now we can define a subclass of the `GraphMetaNetwork` that incorporates the necessary methods to implement unlearning.<br> This subclass extends the original architecture by adding mechanisms to compute influence, adjust the loss function, and guide the optimization process for effective forgetting of specific classes (influence-based loss adjustement and L2 regularization, detailed in the report):"
   ]
  },
  {
   "cell_type": "code",
   "execution_count": null,
   "metadata": {
    "id": "vrJYLs6yI1iH"
   },
   "outputs": [],
   "source": [
    "class GraphMetaNetworkWithUnlearn(GraphMetaNetwork):\n",
    "    \"\"\"\n",
    "    Wrapper class for the graph meta network, with unlearning capabilities.\n",
    "    \"\"\"\n",
    "\n",
    "    def __init__(self, encoder, mpnn):\n",
    "        super(GraphMetaNetworkWithUnlearn, self).__init__(encoder, mpnn)\n",
    "        self.encoder = encoder\n",
    "        self.mpnn = mpnn\n",
    "\n",
    "    def forward(self, data):\n",
    "        \"\"\"\n",
    "        Forward pass incorporating the global vector `u`.\n",
    "        \"\"\"\n",
    "        x, edge_index, edge_attr, u, batch = (\n",
    "            data.x,\n",
    "            data.edge_index,\n",
    "            data.edge_attr,\n",
    "            data.u,\n",
    "            data.batch,\n",
    "        )\n",
    "        x, edge_attr = self.encoder(x, edge_attr)\n",
    "        x, edge_attr, u = self.mpnn(x, edge_index, edge_attr, u, batch)\n",
    "        return edge_attr, u\n",
    "\n",
    "    def compute_influence(self, data, criterion):\n",
    "        \"\"\"\n",
    "        Compute gradients of the loss with respect to the model's parameters for the given data.\n",
    "        Args:\n",
    "          data: Data object containing the sample(s) to compute influence.\n",
    "          criterion: Loss function used for influence computation.\n",
    "\n",
    "        Returns:\n",
    "          influence_gradients: Dictionary of parameter gradients.\n",
    "        \"\"\"\n",
    "        self.eval() \n",
    "        data = data.to(next(self.parameters()).device)\n",
    "        outputs, _ = self(data)  #Incorporate the vector in the forward pass\n",
    "        loss = criterion(outputs, data.y)\n",
    "        self.zero_grad()\n",
    "        loss.backward()\n",
    "\n",
    "        influence_gradients = {\n",
    "            name: param.grad.clone().detach()\n",
    "            for name, param in self.named_parameters()\n",
    "            if param.grad is not None\n",
    "        }\n",
    "        return influence_gradients\n",
    "\n",
    "    def compute_forget_loss(self, u, forget_class_idx):\n",
    "        \"\"\"\n",
    "        Compute a penalty based on the global vector `u` to guide unlearning.\n",
    "        Args:\n",
    "            u: Global vector indicating the forget class.\n",
    "            forget_class_idx: Index of the forget class in `u`.\n",
    "        Returns:\n",
    "            Penalty term for the loss.\n",
    "        \"\"\"\n",
    "        forget_signal = u[:, forget_class_idx]\n",
    "        return torch.mean(forget_signal)\n",
    "\n",
    "    def unlearn(self, retain_loader, validation_loader, epochs=5, criterion=None, optimizer=None, forget_class_idx=None):\n",
    "        \"\"\"\n",
    "        Unlearn method with influence-based loss adjustment.\n",
    "\n",
    "        Args:\n",
    "            retain_loader: DataLoader with retained data.\n",
    "            validation_loader: DataLoader for validation set.\n",
    "            epochs: Number of epochs to unlearn.\n",
    "            criterion: Loss function.\n",
    "            optimizer: Optimizer for gradient descent.\n",
    "            forget_class_idx: Index of the class to forget, indicated in `u`.\n",
    "\n",
    "        Returns:\n",
    "            losses: Training losses per epoch.\n",
    "            losses_val: Validation losses per epoch.\n",
    "        \"\"\"\n",
    "        device = torch.device(\"cuda\" if torch.cuda.is_available() else \"cpu\")\n",
    "        self.to(device)\n",
    "        losses = []\n",
    "        losses_val = []\n",
    "\n",
    "        #Compute influence gradients for the forget class\n",
    "        print(\"Computing influence for the forget class...\")\n",
    "        self.eval()\n",
    "        influence_gradients = None\n",
    "        for data in retain_loader:\n",
    "            data = data.to(device)\n",
    "            if data.u[0, forget_class_idx] == 1.0:  #Use the vector u to select forget class\n",
    "                grads = self.compute_influence(data, criterion)\n",
    "                if influence_gradients is None:\n",
    "                    influence_gradients = grads\n",
    "                else:\n",
    "                    for name in grads:\n",
    "                        influence_gradients[name] += grads[name]\n",
    "\n",
    "        if influence_gradients:\n",
    "            for name in influence_gradients:\n",
    "                influence_gradients[name] /= len(retain_loader)\n",
    "        print(\"Influence gradients computed.\")\n",
    "\n",
    "        #Unlearning \n",
    "        for epoch in range(epochs):\n",
    "            self.train()\n",
    "            loss_epoch = 0\n",
    "            for batch_idx, data in enumerate(retain_loader):\n",
    "                data = data.to(device)\n",
    "\n",
    "                optimizer.zero_grad()\n",
    "                outputs, u = self(data)\n",
    "                loss = criterion(outputs, data.y)\n",
    "\n",
    "                #Adjust the loss using influence gradients for the forget class\n",
    "                for name, param in self.named_parameters():\n",
    "                    if name in influence_gradients:\n",
    "                        loss += 0.01 * torch.norm(param.grad - influence_gradients[name])\n",
    "\n",
    "                #Incorporate forget-specific penalty\n",
    "                loss += self.compute_forget_loss(u, forget_class_idx)\n",
    "\n",
    "                loss.backward()\n",
    "                optimizer.step()\n",
    "                loss_epoch += loss.item()\n",
    "\n",
    "            avg_loss = loss_epoch / len(retain_loader)\n",
    "            losses.append(avg_loss)\n",
    "\n",
    "            #Validation loss\n",
    "            self.eval()\n",
    "            loss_val = 0\n",
    "            with torch.no_grad():\n",
    "                for data in validation_loader:\n",
    "                    data = data.to(device)\n",
    "                    outputs, _ = self(data)\n",
    "                    loss_val += criterion(outputs, data.y).item()\n",
    "            avg_val_loss = loss_val / len(validation_loader)\n",
    "            losses_val.append(avg_val_loss)\n",
    "\n",
    "            print(\n",
    "                f\"Epoch [{epoch+1}/{epochs}], Training Loss: {avg_loss:.4f}, Validation Loss: {avg_val_loss:.4f}\"\n",
    "            )\n",
    "\n",
    "        return losses, losses_val"
   ]
  },
  {
   "cell_type": "code",
   "execution_count": 78,
   "metadata": {
    "id": "oER8Xak7WooD"
   },
   "outputs": [
    {
     "data": {
      "text/plain": [
       "GraphMetaNetworkWithUnlearn(\n",
       "  (encoder): NodeEdgeFeatEncoder(\n",
       "    (node_layer_encoder): Sequential(\n",
       "      (0): Linear(in_features=1, out_features=1433, bias=True)\n",
       "      (1): Sin()\n",
       "    )\n",
       "    (neuron_num_encoder): Sequential(\n",
       "      (0): Linear(in_features=1, out_features=1433, bias=True)\n",
       "      (1): Sin()\n",
       "    )\n",
       "    (node_type_encoder): Embedding(17, 1433)\n",
       "    (x_proj): Linear(in_features=4299, out_features=1433, bias=True)\n",
       "    (weight_encoder): Sequential(\n",
       "      (0): Linear(in_features=1, out_features=1433, bias=True)\n",
       "      (1): Sin()\n",
       "    )\n",
       "    (edge_layer_encoder): Sequential(\n",
       "      (0): Linear(in_features=1, out_features=1433, bias=True)\n",
       "      (1): Sin()\n",
       "    )\n",
       "    (conv_pos_encoder): Sequential(\n",
       "      (0): Linear(in_features=3, out_features=1433, bias=True)\n",
       "      (1): Sin()\n",
       "    )\n",
       "    (edge_type_encoder): Embedding(14, 1433)\n",
       "    (edge_attr_proj): Linear(in_features=5732, out_features=1433, bias=True)\n",
       "  )\n",
       "  (mpnn): MPNN(\n",
       "    (convs): ModuleList(\n",
       "      (0): MetaLayer(\n",
       "        edge_model=EdgeModel(\n",
       "        (edge_mlp): Sequential(\n",
       "          (0): Linear(in_features=200, out_features=32, bias=True)\n",
       "          (1): ReLU()\n",
       "        )\n",
       "      ),\n",
       "        node_model=NodeModel(\n",
       "        (node_mlp_1): Sequential(\n",
       "          (0): Linear(in_features=168, out_features=32, bias=True)\n",
       "          (1): ReLU()\n",
       "        )\n",
       "        (node_mlp_2): Sequential(\n",
       "          (0): Linear(in_features=104, out_features=32, bias=True)\n",
       "          (1): ReLU()\n",
       "        )\n",
       "      ),\n",
       "        global_model=GlobalModel(\n",
       "        (global_mlp): Sequential(\n",
       "          (0): Linear(in_features=72, out_features=32, bias=True)\n",
       "          (1): ReLU()\n",
       "        )\n",
       "      )\n",
       "      )\n",
       "      (1-2): 2 x MetaLayer(\n",
       "        edge_model=EdgeModel(\n",
       "        (edge_mlp): Sequential(\n",
       "          (0): Linear(in_features=128, out_features=32, bias=True)\n",
       "          (1): ReLU()\n",
       "        )\n",
       "      ),\n",
       "        node_model=NodeModel(\n",
       "        (node_mlp_1): Sequential(\n",
       "          (0): Linear(in_features=128, out_features=32, bias=True)\n",
       "          (1): ReLU()\n",
       "        )\n",
       "        (node_mlp_2): Sequential(\n",
       "          (0): Linear(in_features=96, out_features=32, bias=True)\n",
       "          (1): ReLU()\n",
       "        )\n",
       "      ),\n",
       "        global_model=GlobalModel(\n",
       "        (global_mlp): Sequential(\n",
       "          (0): Linear(in_features=96, out_features=32, bias=True)\n",
       "          (1): ReLU()\n",
       "        )\n",
       "      )\n",
       "      )\n",
       "      (3): MetaLayer(\n",
       "        edge_model=EdgeModel(\n",
       "        (edge_mlp): Sequential(\n",
       "          (0): Linear(in_features=128, out_features=1, bias=True)\n",
       "        )\n",
       "      ),\n",
       "        node_model=NodeModel(\n",
       "        (node_mlp_1): Sequential(\n",
       "          (0): Linear(in_features=97, out_features=3, bias=True)\n",
       "        )\n",
       "        (node_mlp_2): Sequential(\n",
       "          (0): Linear(in_features=65, out_features=3, bias=True)\n",
       "        )\n",
       "      ),\n",
       "        global_model=GlobalModel(\n",
       "        (global_mlp): Sequential(\n",
       "          (0): Linear(in_features=36, out_features=8, bias=True)\n",
       "        )\n",
       "      )\n",
       "      )\n",
       "    )\n",
       "    (node_norms): ModuleList(\n",
       "      (0-2): 3 x BatchNorm1d(32, eps=1e-05, momentum=0.1, affine=True, track_running_stats=True)\n",
       "    )\n",
       "    (edge_norms): ModuleList(\n",
       "      (0-2): 3 x BatchNorm1d(32, eps=1e-05, momentum=0.1, affine=True, track_running_stats=True)\n",
       "    )\n",
       "    (global_norms): ModuleList(\n",
       "      (0-2): 3 x BatchNorm1d(32, eps=1e-05, momentum=0.1, affine=True, track_running_stats=True)\n",
       "    )\n",
       "  )\n",
       ")"
      ]
     },
     "execution_count": 78,
     "metadata": {},
     "output_type": "execute_result"
    }
   ],
   "source": [
    "# Redefine the encoder to accept the Cora input dimension\n",
    "encoder = NodeEdgeFeatEncoder(hidden_dim=dataset.num_node_features)\n",
    "\n",
    "gmn_with_unlearn = GraphMetaNetworkWithUnlearn(encoder, mpnn)\n",
    "gmn_with_unlearn.to(device)"
   ]
  },
  {
   "cell_type": "markdown",
   "metadata": {},
   "source": [
    "To evaluate the unlearning process, we first split the dataset into retain and forget subsets based on the target class to forget. This allows us to create separate data loaders for training, validation, and testing on both retained and forgotten data."
   ]
  },
  {
   "cell_type": "code",
   "execution_count": null,
   "metadata": {},
   "outputs": [
    {
     "name": "stdout",
     "output_type": "stream",
     "text": [
      "Retain Training: 2357, Forget Training: 351\n"
     ]
    }
   ],
   "source": [
    "#class index to forget (class 1)\n",
    "forget_class_idx = 0  \n",
    "\n",
    "# Split nodes into retain and forget based on their labels\n",
    "retain_indices = [i for i in range(data.num_nodes) if data.y[i] != forget_class_idx]\n",
    "forget_indices = [i for i in range(data.num_nodes) if data.y[i] == forget_class_idx]\n",
    "\n",
    "#Retain and forget datasets\n",
    "retain_data = Data(x=data.x[retain_indices], edge_index=data.edge_index[:, retain_indices], y=data.y[retain_indices])\n",
    "\n",
    "forget_data = Data(x=data.x[forget_indices], edge_index=data.edge_index[:, forget_indices], y=data.y[forget_indices])\n",
    "\n",
    "#Split into train, validation, and test loaders\n",
    "retain_train_loader = DataLoader(retain_data, batch_size=64, shuffle=True)\n",
    "retain_val_loader = DataLoader(retain_data, batch_size=64, shuffle=False)\n",
    "retain_test_loader = DataLoader(retain_data, batch_size=64, shuffle=False)\n",
    "\n",
    "forget_train_loader = DataLoader(forget_data, batch_size=64, shuffle=True)\n",
    "forget_val_loader = DataLoader(forget_data, batch_size=64, shuffle=False)\n",
    "forget_test_loader = DataLoader(forget_data, batch_size=64, shuffle=False)\n",
    "\n",
    "#Let's print the dataset sizes to check\n",
    "print(f\"Retain Training: {len(retain_indices)}, Forget Training: {len(forget_indices)}\")"
   ]
  },
  {
   "cell_type": "markdown",
   "metadata": {},
   "source": [
    "Before effectively evaluating the unlearning through MIA attack and accuracy scores let's have a look at some values from the loaders to ensure data and data-type consistency:"
   ]
  },
  {
   "cell_type": "code",
   "execution_count": 80,
   "metadata": {},
   "outputs": [
    {
     "name": "stdout",
     "output_type": "stream",
     "text": [
      "[tensor([[[[-1.3701e+00, -1.3542e+00, -1.2907e+00,  ...,  1.0625e-01,\n",
      "            9.0376e-02,  1.0625e-01],\n",
      "          [-1.3383e+00, -1.5288e+00, -1.4971e+00,  ..., -1.1002e+00,\n",
      "           -5.1286e-01, -3.2237e-01],\n",
      "          [-1.5447e+00, -1.7670e+00, -1.7828e+00,  ..., -1.2431e+00,\n",
      "           -9.7323e-01, -1.1796e+00],\n",
      "          ...,\n",
      "          [-4.4936e-01, -2.7474e-01, -2.2712e-01,  ...,  5.8627e-02,\n",
      "            4.2752e-02,  3.1262e-01],\n",
      "          [-4.6524e-01, -3.0649e-01, -8.4246e-02,  ..., -2.9062e-01,\n",
      "           -2.4299e-01,  1.5388e-01],\n",
      "          [-2.0747e-02,  1.5388e-01,  2.4912e-01,  ...,  1.1002e-02,\n",
      "            2.3325e-01,  5.8249e-01]],\n",
      "\n",
      "         [[-6.9176e-01, -5.9512e-01, -4.5017e-01,  ...,  3.3011e-02,\n",
      "            7.9890e-04,  9.7435e-02],\n",
      "          [-7.2397e-01, -9.0114e-01, -7.7229e-01,  ..., -1.0783e+00,\n",
      "           -5.3070e-01, -2.7300e-01],\n",
      "          [-1.0622e+00, -1.2877e+00, -1.2716e+00,  ..., -1.0944e+00,\n",
      "           -8.8503e-01, -1.0783e+00],\n",
      "          ...,\n",
      "          [-1.2805e-01,  3.3011e-02,  8.1329e-02,  ...,  6.1283e-01,\n",
      "            6.1283e-01,  8.8663e-01],\n",
      "          [ 4.9117e-02,  1.9407e-01,  4.1955e-01,  ...,  2.5849e-01,\n",
      "            3.3902e-01,  7.2557e-01],\n",
      "          [ 5.3230e-01,  6.6114e-01,  7.2557e-01,  ...,  4.0345e-01,\n",
      "            6.7725e-01,  9.8326e-01]],\n",
      "\n",
      "         [[-9.2745e-01, -8.0752e-01, -6.8759e-01,  ..., -2.6783e-01,\n",
      "           -3.5778e-01, -2.9781e-01],\n",
      "          [-8.3750e-01, -8.9747e-01, -9.2745e-01,  ..., -1.1373e+00,\n",
      "           -7.3256e-01, -5.8265e-01],\n",
      "          [-1.1523e+00, -1.3172e+00, -1.3022e+00,  ..., -1.0774e+00,\n",
      "           -9.7242e-01, -1.2123e+00],\n",
      "          ...,\n",
      "          [-2.8282e-01, -1.3290e-01, -8.7930e-02,  ..., -4.2956e-02,\n",
      "           -1.1791e-01,  1.2195e-01],\n",
      "          [-2.3784e-01, -8.7930e-02,  1.2195e-01,  ..., -5.0769e-01,\n",
      "           -5.5266e-01, -1.4790e-01],\n",
      "          [ 1.2195e-01,  2.8685e-01,  3.7680e-01,  ..., -3.2779e-01,\n",
      "           -1.1791e-01,  3.0185e-01]]],\n",
      "\n",
      "\n",
      "        [[[ 1.9953e+00,  1.9318e+00,  1.9477e+00,  ...,  1.9318e+00,\n",
      "            1.9318e+00,  1.9318e+00],\n",
      "          [ 2.0588e+00,  1.9953e+00,  2.0112e+00,  ...,  2.0271e+00,\n",
      "            2.0112e+00,  2.0271e+00],\n",
      "          [ 2.0588e+00,  2.0271e+00,  2.0271e+00,  ...,  2.0271e+00,\n",
      "            2.0271e+00,  2.0271e+00],\n",
      "          ...,\n",
      "          [ 1.9795e+00,  1.7572e+00,  1.2492e+00,  ...,  1.1064e+00,\n",
      "            1.2810e+00,  1.6937e+00],\n",
      "          [ 1.9795e+00,  1.5350e+00,  1.2969e+00,  ...,  1.0587e+00,\n",
      "            1.3127e+00,  1.6620e+00],\n",
      "          [ 1.9636e+00,  1.5985e+00,  1.5667e+00,  ...,  1.0746e+00,\n",
      "            1.2810e+00,  1.5826e+00]],\n",
      "\n",
      "         [[ 2.0624e+00,  1.9979e+00,  2.0140e+00,  ...,  1.9979e+00,\n",
      "            1.9818e+00,  1.9979e+00],\n",
      "          [ 2.1268e+00,  2.0624e+00,  2.0785e+00,  ...,  2.0785e+00,\n",
      "            2.0785e+00,  2.0785e+00],\n",
      "          [ 2.1268e+00,  2.0946e+00,  2.0946e+00,  ...,  2.0785e+00,\n",
      "            2.0785e+00,  2.0946e+00],\n",
      "          ...,\n",
      "          [ 2.0302e+00,  1.7080e+00,  4.5177e-01,  ...,  9.8326e-01,\n",
      "            1.1926e+00,  1.6758e+00],\n",
      "          [ 1.9657e+00,  1.3537e+00,  4.3566e-01,  ...,  1.0155e+00,\n",
      "            1.2732e+00,  1.6436e+00],\n",
      "          [ 1.9013e+00,  1.3376e+00,  9.0273e-01,  ...,  1.0316e+00,\n",
      "            1.2571e+00,  1.5792e+00]],\n",
      "\n",
      "         [[ 2.0558e+00,  1.9959e+00,  2.0109e+00,  ...,  1.9659e+00,\n",
      "            1.9509e+00,  1.9659e+00],\n",
      "          [ 2.1158e+00,  2.0558e+00,  2.0708e+00,  ...,  2.0408e+00,\n",
      "            2.0408e+00,  2.0408e+00],\n",
      "          [ 2.1158e+00,  2.0858e+00,  2.0858e+00,  ...,  2.0408e+00,\n",
      "            2.0408e+00,  2.0558e+00],\n",
      "          ...,\n",
      "          [ 1.9359e+00,  1.2763e+00, -3.5778e-01,  ...,  2.5687e-01,\n",
      "            6.4665e-01,  1.3662e+00],\n",
      "          [ 1.8010e+00,  7.0661e-01, -6.7259e-01,  ...,  1.6692e-01,\n",
      "            6.4665e-01,  1.3063e+00],\n",
      "          [ 1.6811e+00,  5.1173e-01, -3.1280e-01,  ...,  1.0696e-01,\n",
      "            5.8668e-01,  1.2013e+00]]],\n",
      "\n",
      "\n",
      "        [[[ 1.6975e-01,  4.5549e-01, -3.5412e-01,  ..., -1.5606e+00,\n",
      "           -9.2561e-01, -5.6049e-01],\n",
      "          [ 9.7936e-01,  1.1222e+00,  7.0949e-01,  ..., -1.6241e+00,\n",
      "           -1.5130e+00, -1.4018e+00],\n",
      "          [ 4.7137e-01,  6.7774e-01,  1.0625e-01,  ..., -1.2590e+00,\n",
      "           -7.6686e-01, -1.0209e+00],\n",
      "          ...,\n",
      "          [-1.1796e+00, -1.2272e+00, -1.4336e+00,  ...,  1.2969e+00,\n",
      "            1.2334e+00,  1.1699e+00],\n",
      "          [-7.0336e-01, -1.1796e+00, -1.3542e+00,  ...,  1.3604e+00,\n",
      "            1.1857e+00,  9.4761e-01],\n",
      "          [ 2.3325e-01, -7.1923e-01, -1.2114e+00,  ...,  1.1699e+00,\n",
      "            1.1699e+00,  8.5236e-01]],\n",
      "\n",
      "         [[ 1.2965e-01,  3.3902e-01, -3.8574e-01,  ..., -1.4487e+00,\n",
      "           -7.4008e-01, -3.5353e-01],\n",
      "          [ 2.5849e-01,  2.1018e-01,  8.1329e-02,  ..., -1.5615e+00,\n",
      "           -1.4487e+00, -1.2555e+00],\n",
      "          [-3.6964e-01, -3.5353e-01, -6.9176e-01,  ..., -1.2555e+00,\n",
      "           -7.5618e-01, -9.8167e-01],\n",
      "          ...,\n",
      "          [-1.3199e+00, -1.3038e+00, -1.4487e+00,  ...,  8.3831e-01,\n",
      "            7.5778e-01,  7.0946e-01],\n",
      "          [-9.4945e-01, -1.3199e+00, -1.4004e+00,  ...,  8.7052e-01,\n",
      "            6.9336e-01,  4.6787e-01],\n",
      "          [-1.1194e-01, -9.3335e-01, -1.2877e+00,  ...,  6.6114e-01,\n",
      "            6.7725e-01,  3.5513e-01]],\n",
      "\n",
      "         [[ 8.8651e-01,  1.1264e+00,  4.8174e-01,  ..., -8.3750e-01,\n",
      "           -1.9287e-01,  1.9691e-01],\n",
      "          [ 1.1564e+00,  1.2013e+00,  1.0214e+00,  ..., -1.0624e+00,\n",
      "           -9.8741e-01, -8.5249e-01],\n",
      "          [ 5.4171e-01,  6.4665e-01,  2.5687e-01,  ..., -8.6748e-01,\n",
      "           -4.7771e-01, -7.1757e-01],\n",
      "          ...,\n",
      "          [-1.0774e+00, -1.0324e+00, -1.1073e+00,  ...,  4.3677e-01,\n",
      "            3.9179e-01,  3.6181e-01],\n",
      "          [-8.3750e-01, -1.1073e+00, -1.1073e+00,  ...,  4.9673e-01,\n",
      "            3.6181e-01,  1.5193e-01],\n",
      "          [-1.1791e-01, -8.0752e-01, -1.0174e+00,  ...,  3.1684e-01,\n",
      "            3.4682e-01,  4.6992e-02]]],\n",
      "\n",
      "\n",
      "        ...,\n",
      "\n",
      "\n",
      "        [[[ 5.1899e-01,  5.8249e-01,  6.4599e-01,  ...,  6.3012e-01,\n",
      "            4.5549e-01,  5.3487e-01],\n",
      "          [ 2.6500e-01,  1.5388e-01,  2.4912e-01,  ...,  5.9837e-01,\n",
      "            7.7299e-01,  7.4124e-01],\n",
      "          [ 4.3962e-01,  7.4502e-02, -1.3187e-01,  ...,  8.2061e-01,\n",
      "            8.0474e-01,  8.8411e-01],\n",
      "          ...,\n",
      "          [ 1.6302e+00,  1.4715e+00,  1.4874e+00,  ...,  1.8048e+00,\n",
      "            1.7731e+00,  1.7731e+00],\n",
      "          [ 1.7096e+00,  1.6461e+00,  1.6302e+00,  ...,  1.8207e+00,\n",
      "            1.8525e+00,  1.8048e+00],\n",
      "          [ 1.7096e+00,  1.6778e+00,  1.7096e+00,  ...,  1.7890e+00,\n",
      "            1.8366e+00,  1.7731e+00]],\n",
      "\n",
      "         [[-3.1413e-02,  1.1354e-01,  3.3902e-01,  ...,  1.9407e-01,\n",
      "            1.6905e-02,  9.7435e-02],\n",
      "          [-2.0858e-01, -2.0858e-01, -1.5307e-02,  ...,  1.9407e-01,\n",
      "            3.5513e-01,  3.7124e-01],\n",
      "          [ 4.9117e-02, -2.4079e-01, -3.8574e-01,  ...,  5.0008e-01,\n",
      "            3.8734e-01,  4.3566e-01],\n",
      "          ...,\n",
      "          [ 1.1926e+00,  9.9937e-01,  9.9937e-01,  ...,  1.4825e+00,\n",
      "            1.4664e+00,  1.3698e+00],\n",
      "          [ 1.2893e+00,  1.2087e+00,  1.2087e+00,  ...,  1.4181e+00,\n",
      "            1.4664e+00,  1.4020e+00],\n",
      "          [ 1.3215e+00,  1.2893e+00,  1.3376e+00,  ...,  1.4181e+00,\n",
      "            1.4503e+00,  1.3859e+00]],\n",
      "\n",
      "         [[-1.0924e+00, -9.4244e-01, -1.3290e-01,  ..., -4.6272e-01,\n",
      "           -9.1246e-01, -8.5249e-01],\n",
      "          [-9.7242e-01, -7.0258e-01, -2.5284e-01,  ..., -4.1774e-01,\n",
      "           -7.1757e-01, -9.1246e-01],\n",
      "          [-1.0024e+00, -6.7259e-01, -5.3767e-01,  ...,  2.0181e-03,\n",
      "           -4.0275e-01, -7.1757e-01],\n",
      "          ...,\n",
      "          [ 1.6692e-01,  4.6992e-02,  4.6992e-02,  ...,  3.9179e-01,\n",
      "            3.1684e-01,  2.7186e-01],\n",
      "          [ 2.5687e-01,  1.3694e-01,  1.3694e-01,  ...,  2.8685e-01,\n",
      "            3.1684e-01,  2.8685e-01],\n",
      "          [ 1.5193e-01,  6.1984e-02,  1.0696e-01,  ...,  1.9691e-01,\n",
      "            2.1190e-01,  1.8191e-01]]],\n",
      "\n",
      "\n",
      "        [[[ 1.0625e-01,  2.6500e-01,  1.0625e-01,  ..., -8.4246e-02,\n",
      "           -4.8722e-03, -1.1600e-01],\n",
      "          [ 1.3800e-01,  2.8087e-01,  1.0625e-01,  ..., -1.1600e-01,\n",
      "           -3.6622e-02, -1.6362e-01],\n",
      "          [ 1.3800e-01,  2.3325e-01,  9.0376e-02,  ..., -2.1124e-01,\n",
      "           -1.0012e-01, -2.1124e-01],\n",
      "          ...,\n",
      "          [-9.8911e-01, -1.1320e+00, -1.1320e+00,  ..., -5.4461e-01,\n",
      "           -6.7161e-01, -7.3511e-01],\n",
      "          [-1.0209e+00, -1.1002e+00, -1.0844e+00,  ..., -2.1124e-01,\n",
      "           -4.6524e-01, -6.7161e-01],\n",
      "          [-1.0844e+00, -1.1161e+00, -1.1479e+00,  ...,  2.6877e-02,\n",
      "           -8.4246e-02, -3.5412e-01]],\n",
      "\n",
      "         [[-1.7064e+00, -1.6742e+00, -1.6903e+00,  ..., -1.5615e+00,\n",
      "           -1.5454e+00, -1.6259e+00],\n",
      "          [-1.7064e+00, -1.6581e+00, -1.6742e+00,  ..., -1.5776e+00,\n",
      "           -1.5615e+00, -1.6420e+00],\n",
      "          [-1.7064e+00, -1.6581e+00, -1.6742e+00,  ..., -1.6098e+00,\n",
      "           -1.5776e+00, -1.6420e+00],\n",
      "          ...,\n",
      "          [-1.2877e+00, -1.2233e+00, -1.0461e+00,  ..., -6.5955e-01,\n",
      "           -7.5618e-01, -8.2061e-01],\n",
      "          [-1.3199e+00, -1.2555e+00, -1.0300e+00,  ..., -2.8911e-01,\n",
      "           -5.4680e-01, -7.7229e-01],\n",
      "          [-1.3360e+00, -1.2716e+00, -1.0944e+00,  ..., -1.4415e-01,\n",
      "           -2.5690e-01, -5.7902e-01]],\n",
      "\n",
      "         [[-1.6470e+00, -1.6770e+00, -1.6770e+00,  ..., -1.6770e+00,\n",
      "           -1.6920e+00, -1.6770e+00],\n",
      "          [-1.6470e+00, -1.6620e+00, -1.6770e+00,  ..., -1.6620e+00,\n",
      "           -1.6920e+00, -1.6770e+00],\n",
      "          [-1.6320e+00, -1.6620e+00, -1.6470e+00,  ..., -1.6620e+00,\n",
      "           -1.6620e+00, -1.6770e+00],\n",
      "          ...,\n",
      "          [-1.1073e+00, -1.0474e+00, -8.8247e-01,  ..., -5.0769e-01,\n",
      "           -6.4261e-01, -7.0258e-01],\n",
      "          [-1.1223e+00, -1.0624e+00, -8.5249e-01,  ..., -2.3784e-01,\n",
      "           -4.7771e-01, -6.4261e-01],\n",
      "          [-1.1523e+00, -1.0774e+00, -9.1246e-01,  ..., -1.6289e-01,\n",
      "           -2.6783e-01, -5.0769e-01]]],\n",
      "\n",
      "\n",
      "        [[[ 2.8087e-01,  2.6500e-01,  2.8087e-01,  ..., -7.9861e-01,\n",
      "           -9.5736e-01, -9.4148e-01],\n",
      "          [ 2.3325e-01,  2.3325e-01,  1.8562e-01,  ..., -8.4623e-01,\n",
      "           -9.5736e-01, -9.5736e-01],\n",
      "          [ 2.4912e-01,  2.4912e-01,  1.2213e-01,  ..., -8.9386e-01,\n",
      "           -9.5736e-01, -9.5736e-01],\n",
      "          ...,\n",
      "          [ 4.0787e-01,  4.0787e-01,  4.3962e-01,  ...,  1.0625e-01,\n",
      "            5.8627e-02,  2.6877e-02],\n",
      "          [ 3.6025e-01,  3.4437e-01,  3.7612e-01,  ...,  4.2752e-02,\n",
      "            1.1002e-02, -4.8722e-03],\n",
      "          [ 3.1262e-01,  2.8087e-01,  3.1262e-01,  ...,  2.6877e-02,\n",
      "           -4.8722e-03, -3.6622e-02]],\n",
      "\n",
      "         [[ 3.2292e-01,  2.7460e-01,  3.7124e-01,  ..., -7.0786e-01,\n",
      "           -8.6892e-01, -8.6892e-01],\n",
      "          [ 2.7460e-01,  2.4239e-01,  2.7460e-01,  ..., -7.5618e-01,\n",
      "           -8.6892e-01, -8.8503e-01],\n",
      "          [ 2.9071e-01,  2.5849e-01,  2.2628e-01,  ..., -8.0450e-01,\n",
      "           -8.5282e-01, -8.6892e-01],\n",
      "          ...,\n",
      "          [-6.3625e-02, -6.3625e-02, -3.1413e-02,  ..., -1.9247e-01,\n",
      "           -2.2468e-01, -2.5690e-01],\n",
      "          [-9.5837e-02, -9.5837e-02, -6.3625e-02,  ..., -2.4079e-01,\n",
      "           -2.7300e-01, -2.8911e-01],\n",
      "          [-9.5837e-02, -1.1194e-01, -7.9731e-02,  ..., -2.5690e-01,\n",
      "           -2.8911e-01, -3.2132e-01]],\n",
      "\n",
      "         [[ 2.4188e-01,  1.6692e-01,  3.1684e-01,  ..., -4.0275e-01,\n",
      "           -4.9270e-01, -4.6272e-01],\n",
      "          [ 1.9691e-01,  1.3694e-01,  2.4188e-01,  ..., -4.4772e-01,\n",
      "           -5.0769e-01, -4.7771e-01],\n",
      "          [ 2.1190e-01,  1.5193e-01,  1.8191e-01,  ..., -4.9270e-01,\n",
      "           -4.9270e-01, -4.7771e-01],\n",
      "          ...,\n",
      "          [-2.3784e-01, -2.3784e-01, -2.2285e-01,  ..., -2.0786e-01,\n",
      "           -2.3784e-01, -2.6783e-01],\n",
      "          [-2.5284e-01, -2.3784e-01, -2.2285e-01,  ..., -2.5284e-01,\n",
      "           -2.8282e-01, -2.9781e-01],\n",
      "          [-2.3784e-01, -2.5284e-01, -2.2285e-01,  ..., -2.6783e-01,\n",
      "           -2.9781e-01, -3.2779e-01]]]]), tensor([4, 8, 1, 9, 7, 2, 9, 8, 4, 7, 7, 3, 6, 2, 1, 4, 4, 2, 8, 5, 5, 5, 5, 2,\n",
      "        7, 6, 1, 3, 2, 7, 9, 2, 9, 5, 9, 7, 1, 9, 6, 8, 5, 1, 8, 2, 9, 4, 6, 8,\n",
      "        7, 6, 3, 2, 8, 4, 6, 8, 5, 4, 4, 7, 9, 6, 2, 2, 1, 1, 5, 4, 7, 5, 5, 4,\n",
      "        1, 3, 3, 7, 9, 4, 6, 6, 5, 2, 3, 9, 4, 2, 6, 2, 3, 4, 2, 7, 6, 7, 7, 1,\n",
      "        9, 7, 2, 9, 1, 3, 1, 2, 5, 7, 4, 2, 7, 7, 7, 4, 4, 1, 5, 6, 3, 9, 4, 6,\n",
      "        5, 6, 8, 6, 6, 3, 2, 4, 2, 8, 2, 2, 4, 2, 8, 8, 9, 9, 6, 4, 8, 6, 1, 2,\n",
      "        7, 9, 4, 5, 9, 3, 8, 1, 8, 4, 9, 4, 8, 4, 6, 4, 6, 5, 9, 2, 7, 7, 6, 5,\n",
      "        2, 2, 5, 5, 2, 3, 7, 3, 9, 5, 4, 4, 8, 4, 6, 2, 3, 4, 4, 2, 7, 4, 6, 5,\n",
      "        3, 5, 2, 5, 1, 7, 3, 3, 9, 1, 7, 5, 7, 2, 3, 8, 5, 4, 4, 5, 1, 3, 3, 4,\n",
      "        1, 6, 9, 1, 6, 3, 6, 5, 2, 1, 1, 6, 7, 2, 9, 6, 6, 8, 2, 8, 4, 1, 7, 5,\n",
      "        4, 3, 9, 6, 3, 7, 1, 4, 6, 8, 7, 4, 7, 5, 1, 1, 5, 1, 4, 7, 8, 9, 2, 5,\n",
      "        6, 1, 9, 3, 5, 9, 1, 9, 4, 8, 9, 1, 2, 6, 9, 3, 6, 5, 1, 4, 1, 3, 7, 2,\n",
      "        8, 3, 9, 3, 7, 6, 7, 7, 9, 6, 4, 8, 1, 5, 6, 5, 1, 7, 8, 5, 7, 8, 6, 8,\n",
      "        1, 2, 8, 9, 5, 1, 8, 2, 1, 4, 2, 1, 6, 8, 6, 9, 3, 5, 8, 5, 2, 7, 1, 3,\n",
      "        5, 6, 4, 4, 6, 6, 1, 9, 4, 2, 2, 8, 2, 7, 1, 7, 4, 8, 4, 4, 4, 9, 7, 3,\n",
      "        2, 3, 2, 5, 7, 9, 5, 5, 4, 7, 1, 7, 3, 3, 9, 1, 6, 9, 8, 9, 6, 3, 6, 1,\n",
      "        3, 1, 8, 5, 4, 4, 8, 8, 3, 2, 7, 3, 1, 4, 2, 4, 1, 4, 8, 7, 8, 6, 1, 2,\n",
      "        5, 5, 8, 3, 3, 5, 7, 6, 4, 9, 4, 4, 4, 8, 3, 6, 9, 2, 3, 2, 4, 2, 7, 2,\n",
      "        3, 1, 3, 9, 9, 1, 7, 9, 9, 8, 4, 9, 7, 5, 7, 1, 6, 7, 9, 2, 4, 3, 9, 6,\n",
      "        1, 4, 7, 6, 3, 3, 9, 8, 9, 2, 9, 3, 4, 8, 4, 1, 5, 6, 7, 7, 6, 8, 6, 4,\n",
      "        7, 6, 1, 8, 4, 6, 1, 5, 7, 4, 7, 3, 3, 4, 8, 7, 8, 3, 8, 3, 6, 9, 5, 5,\n",
      "        9, 2, 3, 4, 9, 4, 1, 5])]\n"
     ]
    }
   ],
   "source": [
    "for batch in retain_loader:\n",
    "    print(batch)\n",
    "    break"
   ]
  },
  {
   "cell_type": "code",
   "execution_count": 81,
   "metadata": {},
   "outputs": [
    {
     "name": "stdout",
     "output_type": "stream",
     "text": [
      "[tensor([[[[-1.4774e-01, -1.6362e-01, -1.6362e-01,  ...,  5.5074e-01,\n",
      "            5.6662e-01,  5.8249e-01],\n",
      "          [-1.4774e-01, -1.7949e-01, -1.6362e-01,  ...,  4.8724e-01,\n",
      "            5.0312e-01,  5.3487e-01],\n",
      "          [-1.4774e-01, -1.6362e-01, -1.4774e-01,  ...,  3.9200e-01,\n",
      "            4.3962e-01,  4.5549e-01],\n",
      "          ...,\n",
      "          [ 3.9200e-01,  3.9200e-01,  4.5549e-01,  ...,  5.5074e-01,\n",
      "            5.5074e-01,  5.1899e-01],\n",
      "          [ 3.7612e-01,  3.7612e-01,  3.9200e-01,  ...,  4.5549e-01,\n",
      "            4.8724e-01,  5.0312e-01],\n",
      "          [ 4.2375e-01,  3.9200e-01,  3.9200e-01,  ...,  4.5549e-01,\n",
      "            5.1899e-01,  5.3487e-01]],\n",
      "\n",
      "         [[ 6.4504e-01,  6.1283e-01,  6.1283e-01,  ...,  8.3831e-01,\n",
      "            8.3831e-01,  8.7052e-01],\n",
      "          [ 6.2893e-01,  5.9672e-01,  5.9672e-01,  ...,  8.2220e-01,\n",
      "            8.3831e-01,  8.5442e-01],\n",
      "          [ 6.2893e-01,  6.1283e-01,  6.2893e-01,  ...,  7.8999e-01,\n",
      "            8.2220e-01,  8.5442e-01],\n",
      "          ...,\n",
      "          [ 8.3831e-01,  8.3831e-01,  9.1884e-01,  ...,  1.0155e+00,\n",
      "            1.0155e+00,  9.8326e-01],\n",
      "          [ 8.2220e-01,  8.2220e-01,  8.3831e-01,  ...,  9.6716e-01,\n",
      "            9.9937e-01,  1.0155e+00],\n",
      "          [ 8.8663e-01,  8.3831e-01,  8.3831e-01,  ...,  9.9937e-01,\n",
      "            1.0799e+00,  1.0799e+00]],\n",
      "\n",
      "         [[ 1.5012e+00,  1.4412e+00,  1.4562e+00,  ...,  1.3512e+00,\n",
      "            1.3662e+00,  1.3812e+00],\n",
      "          [ 1.4712e+00,  1.4412e+00,  1.4412e+00,  ...,  1.3662e+00,\n",
      "            1.3962e+00,  1.4112e+00],\n",
      "          [ 1.4862e+00,  1.4562e+00,  1.4712e+00,  ...,  1.3662e+00,\n",
      "            1.4262e+00,  1.4412e+00],\n",
      "          ...,\n",
      "          [ 1.3962e+00,  1.3812e+00,  1.4412e+00,  ...,  1.6811e+00,\n",
      "            1.6811e+00,  1.6511e+00],\n",
      "          [ 1.3662e+00,  1.3512e+00,  1.3812e+00,  ...,  1.6211e+00,\n",
      "            1.6661e+00,  1.6661e+00],\n",
      "          [ 1.4262e+00,  1.3812e+00,  1.3812e+00,  ...,  1.6960e+00,\n",
      "            1.7560e+00,  1.7710e+00]]],\n",
      "\n",
      "\n",
      "        [[[-7.0336e-01, -6.8749e-01, -1.1479e+00,  ..., -1.5765e+00,\n",
      "           -1.4971e+00, -1.2431e+00],\n",
      "          [-1.1796e+00, -1.1320e+00, -1.4177e+00,  ..., -1.5606e+00,\n",
      "           -1.4018e+00, -1.3860e+00],\n",
      "          [-1.1796e+00, -1.0209e+00, -1.0685e+00,  ..., -1.2749e+00,\n",
      "           -1.2431e+00, -1.1161e+00],\n",
      "          ...,\n",
      "          [ 7.7299e-01,  8.0474e-01,  8.2061e-01,  ...,  8.3649e-01,\n",
      "            8.0474e-01,  7.5711e-01],\n",
      "          [-3.6622e-02, -2.0747e-02, -4.8722e-03,  ..., -2.0747e-02,\n",
      "           -6.8371e-02, -8.4246e-02],\n",
      "          [-2.2712e-01, -1.9537e-01, -1.6362e-01,  ..., -1.4774e-01,\n",
      "           -1.0012e-01, -1.1600e-01]],\n",
      "\n",
      "         [[-5.1459e-01, -5.3070e-01, -9.1724e-01,  ..., -1.2716e+00,\n",
      "           -1.1588e+00, -1.0783e+00],\n",
      "          [-9.0114e-01, -9.0114e-01, -1.1588e+00,  ..., -1.2877e+00,\n",
      "           -1.1427e+00, -1.1749e+00],\n",
      "          [-9.4945e-01, -7.7229e-01, -8.6892e-01,  ..., -1.0461e+00,\n",
      "           -1.0139e+00, -9.0114e-01],\n",
      "          ...,\n",
      "          [ 7.7389e-01,  7.8999e-01,  8.0610e-01,  ...,  8.2220e-01,\n",
      "            7.8999e-01,  7.4167e-01],\n",
      "          [-1.5307e-02, -1.5307e-02,  7.9890e-04,  ...,  1.6905e-02,\n",
      "           -1.5307e-02, -7.9731e-02],\n",
      "          [-1.2805e-01, -1.1194e-01, -9.5837e-02,  ..., -9.5837e-02,\n",
      "           -6.3625e-02, -7.9731e-02]],\n",
      "\n",
      "         [[-4.0275e-01, -3.8776e-01, -6.7259e-01,  ..., -8.5249e-01,\n",
      "           -8.6748e-01, -8.3750e-01],\n",
      "          [-7.0258e-01, -6.7259e-01, -8.5249e-01,  ..., -8.9747e-01,\n",
      "           -7.7753e-01, -8.3750e-01],\n",
      "          [-7.6254e-01, -6.8759e-01, -6.7259e-01,  ..., -8.3750e-01,\n",
      "           -7.9253e-01, -8.0752e-01],\n",
      "          ...,\n",
      "          [ 5.2672e-01,  5.4171e-01,  5.5670e-01,  ...,  6.0167e-01,\n",
      "            5.7169e-01,  5.2672e-01],\n",
      "          [-7.3256e-01, -7.3256e-01, -7.6254e-01,  ..., -6.8759e-01,\n",
      "           -7.1757e-01, -7.4755e-01],\n",
      "          [-9.1246e-01, -8.9747e-01, -9.1246e-01,  ..., -9.2745e-01,\n",
      "           -8.9747e-01, -8.6748e-01]]],\n",
      "\n",
      "\n",
      "        [[[-6.8749e-01, -6.8749e-01, -6.8749e-01,  ..., -1.7035e+00,\n",
      "           -1.6558e+00, -1.6558e+00],\n",
      "          [-6.8749e-01, -7.0336e-01, -6.8749e-01,  ..., -1.7828e+00,\n",
      "           -1.7987e+00, -1.6717e+00],\n",
      "          [-6.7161e-01, -6.8749e-01, -6.7161e-01,  ..., -1.7193e+00,\n",
      "           -1.7511e+00, -1.6876e+00],\n",
      "          ...,\n",
      "          [-3.8587e-01, -3.8587e-01, -3.5412e-01,  ..., -2.4299e-01,\n",
      "           -2.9062e-01, -3.0649e-01],\n",
      "          [-3.6999e-01, -3.5412e-01, -3.3824e-01,  ..., -2.7474e-01,\n",
      "           -3.0649e-01, -2.9062e-01],\n",
      "          [-3.8587e-01, -3.8587e-01, -3.6999e-01,  ..., -3.2237e-01,\n",
      "           -3.3824e-01, -3.2237e-01]],\n",
      "\n",
      "         [[ 2.1018e-01,  1.9407e-01,  1.9407e-01,  ..., -1.8675e+00,\n",
      "           -1.8031e+00, -1.8192e+00],\n",
      "          [ 2.5849e-01,  2.2628e-01,  2.4239e-01,  ..., -1.7870e+00,\n",
      "           -1.7548e+00, -1.8192e+00],\n",
      "          [ 2.9071e-01,  2.5849e-01,  2.7460e-01,  ..., -1.7548e+00,\n",
      "           -1.7548e+00, -1.8031e+00],\n",
      "          ...,\n",
      "          [ 3.7124e-01,  3.7124e-01,  3.8734e-01,  ...,  5.4840e-01,\n",
      "            5.0008e-01,  5.1619e-01],\n",
      "          [ 3.7124e-01,  3.8734e-01,  4.0345e-01,  ...,  5.1619e-01,\n",
      "            4.8398e-01,  5.3230e-01],\n",
      "          [ 3.0681e-01,  3.0681e-01,  3.2292e-01,  ...,  4.6787e-01,\n",
      "            4.3566e-01,  4.8398e-01]],\n",
      "\n",
      "         [[ 1.0814e+00,  1.0514e+00,  1.0514e+00,  ..., -1.5421e+00,\n",
      "           -1.4372e+00, -1.4521e+00],\n",
      "          [ 1.1264e+00,  1.0814e+00,  1.0964e+00,  ..., -1.5421e+00,\n",
      "           -1.4521e+00, -1.3922e+00],\n",
      "          [ 1.1414e+00,  1.0964e+00,  1.1114e+00,  ..., -1.5271e+00,\n",
      "           -1.4671e+00, -1.4821e+00],\n",
      "          ...,\n",
      "          [ 9.9145e-01,  9.7646e-01,  9.9145e-01,  ...,  1.0814e+00,\n",
      "            1.0664e+00,  1.1414e+00],\n",
      "          [ 1.0064e+00,  1.0064e+00,  1.0214e+00,  ...,  1.0814e+00,\n",
      "            1.0514e+00,  1.0514e+00],\n",
      "          [ 9.4648e-01,  9.3149e-01,  9.4648e-01,  ...,  9.9145e-01,\n",
      "            9.6147e-01,  9.7646e-01]]],\n",
      "\n",
      "\n",
      "        ...,\n",
      "\n",
      "\n",
      "        [[[ 1.9318e+00,  1.9001e+00,  1.8683e+00,  ...,  1.6937e+00,\n",
      "            1.6143e+00,  1.5667e+00],\n",
      "          [ 1.9795e+00,  1.9477e+00,  1.9636e+00,  ...,  1.6778e+00,\n",
      "            1.6461e+00,  1.6302e+00],\n",
      "          [ 1.7890e+00,  1.8842e+00,  1.9477e+00,  ...,  1.9001e+00,\n",
      "            1.8842e+00,  1.8683e+00],\n",
      "          ...,\n",
      "          [ 4.2752e-02, -4.8722e-03,  2.6877e-02,  ..., -7.1923e-01,\n",
      "           -1.7949e-01,  1.8562e-01],\n",
      "          [-1.4774e-01, -1.1600e-01, -3.6622e-02,  ..., -7.3511e-01,\n",
      "           -1.7949e-01,  5.8627e-02],\n",
      "          [-1.0012e-01, -8.4246e-02, -8.4246e-02,  ..., -8.4246e-02,\n",
      "            9.0376e-02,  1.0625e-01]],\n",
      "\n",
      "         [[ 2.1268e+00,  2.1107e+00,  2.1107e+00,  ...,  2.0624e+00,\n",
      "            2.0463e+00,  2.0785e+00],\n",
      "          [ 2.0785e+00,  2.0624e+00,  2.0785e+00,  ...,  2.0140e+00,\n",
      "            1.9979e+00,  2.0463e+00],\n",
      "          [ 1.9335e+00,  2.0140e+00,  2.1107e+00,  ...,  2.0946e+00,\n",
      "            2.1107e+00,  2.1268e+00],\n",
      "          ...,\n",
      "          [-1.6026e-01, -2.0858e-01, -1.9247e-01,  ..., -5.3070e-01,\n",
      "           -1.4415e-01,  4.9117e-02],\n",
      "          [-3.3743e-01, -3.0521e-01, -2.2468e-01,  ..., -6.4344e-01,\n",
      "           -2.2468e-01, -9.5837e-02],\n",
      "          [-2.8911e-01, -2.5690e-01, -2.7300e-01,  ..., -1.9247e-01,\n",
      "           -7.9731e-02, -3.1413e-02]],\n",
      "\n",
      "         [[ 2.1158e+00,  2.1158e+00,  2.1158e+00,  ...,  2.1158e+00,\n",
      "            2.1158e+00,  2.1158e+00],\n",
      "          [ 2.1158e+00,  2.1008e+00,  2.1008e+00,  ...,  2.0558e+00,\n",
      "            2.0708e+00,  2.1158e+00],\n",
      "          [ 2.0109e+00,  2.0558e+00,  2.1158e+00,  ...,  2.1008e+00,\n",
      "            2.1158e+00,  2.1158e+00],\n",
      "          ...,\n",
      "          [-8.7930e-02, -1.4790e-01, -1.3290e-01,  ..., -7.0258e-01,\n",
      "           -1.9287e-01,  1.3694e-01],\n",
      "          [-2.5284e-01, -2.2285e-01, -1.1791e-01,  ..., -7.1757e-01,\n",
      "           -2.5284e-01, -2.7965e-02],\n",
      "          [-1.7788e-01, -1.4790e-01, -1.3290e-01,  ..., -1.3290e-01,\n",
      "           -4.2956e-02, -1.2973e-02]]],\n",
      "\n",
      "\n",
      "        [[[ 9.4761e-01,  1.0587e+00,  1.1540e+00,  ...,  1.1064e+00,\n",
      "            1.0587e+00,  9.7936e-01],\n",
      "          [ 9.4761e-01,  1.0587e+00,  1.1540e+00,  ...,  1.1064e+00,\n",
      "            1.0587e+00,  9.7936e-01],\n",
      "          [ 9.4761e-01,  1.0270e+00,  1.1381e+00,  ...,  1.1064e+00,\n",
      "            1.0587e+00,  9.7936e-01],\n",
      "          ...,\n",
      "          [-1.4495e+00, -1.3225e+00, -2.5887e-01,  ...,  6.3012e-01,\n",
      "            6.1424e-01,  5.6662e-01],\n",
      "          [-4.1762e-01, -4.3349e-01,  3.2850e-01,  ...,  4.0787e-01,\n",
      "            4.3962e-01,  4.3962e-01],\n",
      "          [ 1.3800e-01,  3.6025e-01,  6.4599e-01,  ...,  4.3962e-01,\n",
      "            5.0312e-01,  4.8724e-01]],\n",
      "\n",
      "         [[ 1.2732e+00,  1.3859e+00,  1.4825e+00,  ...,  1.4181e+00,\n",
      "            1.3698e+00,  1.2893e+00],\n",
      "          [ 1.2732e+00,  1.3859e+00,  1.4825e+00,  ...,  1.4181e+00,\n",
      "            1.3698e+00,  1.2893e+00],\n",
      "          [ 1.2732e+00,  1.3537e+00,  1.4664e+00,  ...,  1.4181e+00,\n",
      "            1.3698e+00,  1.2893e+00],\n",
      "          ...,\n",
      "          [-1.4004e+00, -1.2555e+00, -1.7637e-01,  ...,  7.4167e-01,\n",
      "            7.8999e-01,  7.2557e-01],\n",
      "          [-3.8574e-01, -3.8574e-01,  3.8734e-01,  ...,  5.3230e-01,\n",
      "            5.6451e-01,  5.6451e-01],\n",
      "          [ 1.7796e-01,  4.0345e-01,  6.9336e-01,  ...,  5.6451e-01,\n",
      "            6.2893e-01,  6.1283e-01]],\n",
      "\n",
      "         [[ 1.5911e+00,  1.6960e+00,  1.7860e+00,  ...,  1.6960e+00,\n",
      "            1.6511e+00,  1.5761e+00],\n",
      "          [ 1.5911e+00,  1.6960e+00,  1.7860e+00,  ...,  1.6960e+00,\n",
      "            1.6511e+00,  1.5761e+00],\n",
      "          [ 1.5911e+00,  1.6661e+00,  1.7710e+00,  ...,  1.6960e+00,\n",
      "            1.6511e+00,  1.5761e+00],\n",
      "          ...,\n",
      "          [-1.1223e+00, -9.2745e-01,  1.2195e-01,  ...,  8.1155e-01,\n",
      "            9.0150e-01,  8.4154e-01],\n",
      "          [-1.9287e-01, -1.9287e-01,  5.4171e-01,  ...,  6.3166e-01,\n",
      "            7.0661e-01,  7.0661e-01],\n",
      "          [ 3.0185e-01,  5.1173e-01,  7.8157e-01,  ...,  6.7663e-01,\n",
      "            7.6658e-01,  7.5159e-01]]],\n",
      "\n",
      "\n",
      "        [[[ 1.2810e+00,  1.1222e+00,  1.0429e+00,  ...,  9.3174e-01,\n",
      "            8.6824e-01,  8.0474e-01],\n",
      "          [ 1.1699e+00,  1.1222e+00,  1.1064e+00,  ...,  9.3174e-01,\n",
      "            8.8411e-01,  8.5236e-01],\n",
      "          [ 1.0905e+00,  1.0587e+00,  1.0429e+00,  ...,  9.3174e-01,\n",
      "            9.3174e-01,  8.8411e-01],\n",
      "          ...,\n",
      "          [ 1.8562e-01,  1.3800e-01,  1.8562e-01,  ...,  7.4502e-02,\n",
      "            1.0625e-01,  1.6975e-01],\n",
      "          [ 1.5388e-01,  1.2213e-01,  1.3800e-01,  ...,  1.3800e-01,\n",
      "            1.5388e-01,  1.5388e-01],\n",
      "          [ 1.6975e-01,  1.8562e-01,  1.5388e-01,  ...,  2.0150e-01,\n",
      "            1.8562e-01,  1.5388e-01]],\n",
      "\n",
      "         [[ 1.4825e+00,  1.3859e+00,  1.3376e+00,  ...,  1.3537e+00,\n",
      "            1.3054e+00,  1.3537e+00],\n",
      "          [ 1.4342e+00,  1.4020e+00,  1.4020e+00,  ...,  1.3215e+00,\n",
      "            1.3215e+00,  1.3698e+00],\n",
      "          [ 1.4020e+00,  1.3698e+00,  1.3537e+00,  ...,  1.3537e+00,\n",
      "            1.3859e+00,  1.3698e+00],\n",
      "          ...,\n",
      "          [ 5.4840e-01,  5.4840e-01,  5.6451e-01,  ...,  5.0008e-01,\n",
      "            5.1619e-01,  5.6451e-01],\n",
      "          [ 5.3230e-01,  5.1619e-01,  5.1619e-01,  ...,  5.8061e-01,\n",
      "            5.6451e-01,  5.8061e-01],\n",
      "          [ 5.4840e-01,  5.6451e-01,  5.4840e-01,  ...,  5.3230e-01,\n",
      "            5.4840e-01,  5.4840e-01]],\n",
      "\n",
      "         [[ 1.8460e+00,  1.7710e+00,  1.7560e+00,  ...,  1.8460e+00,\n",
      "            1.8610e+00,  1.9209e+00],\n",
      "          [ 1.8310e+00,  1.8160e+00,  1.8460e+00,  ...,  1.8160e+00,\n",
      "            1.8610e+00,  1.9209e+00],\n",
      "          [ 1.8310e+00,  1.7860e+00,  1.7860e+00,  ...,  1.8460e+00,\n",
      "            1.8909e+00,  1.8759e+00],\n",
      "          ...,\n",
      "          [-3.5778e-01, -3.8776e-01, -3.8776e-01,  ..., -4.7771e-01,\n",
      "           -4.6272e-01, -4.0275e-01],\n",
      "          [-3.5778e-01, -4.0275e-01, -3.8776e-01,  ..., -4.1774e-01,\n",
      "           -4.1774e-01, -4.1774e-01],\n",
      "          [-3.5778e-01, -3.8776e-01, -3.7277e-01,  ..., -4.0275e-01,\n",
      "           -4.1774e-01, -4.1774e-01]]]]), tensor([0, 0, 0, 0, 0, 0, 0, 0, 0, 0, 0, 0, 0, 0, 0, 0, 0, 0, 0, 0, 0, 0, 0, 0,\n",
      "        0, 0, 0, 0, 0, 0, 0, 0, 0, 0, 0, 0, 0, 0, 0, 0, 0, 0, 0, 0, 0, 0, 0, 0,\n",
      "        0, 0, 0, 0, 0, 0, 0, 0, 0, 0, 0, 0, 0, 0, 0, 0, 0, 0, 0, 0, 0, 0, 0, 0,\n",
      "        0, 0, 0, 0, 0, 0, 0, 0, 0, 0, 0, 0, 0, 0, 0, 0, 0, 0, 0, 0, 0, 0, 0, 0,\n",
      "        0, 0, 0, 0, 0, 0, 0, 0, 0, 0, 0, 0, 0, 0, 0, 0, 0, 0, 0, 0, 0, 0, 0, 0,\n",
      "        0, 0, 0, 0, 0, 0, 0, 0, 0, 0, 0, 0, 0, 0, 0, 0, 0, 0, 0, 0, 0, 0, 0, 0,\n",
      "        0, 0, 0, 0, 0, 0, 0, 0, 0, 0, 0, 0, 0, 0, 0, 0, 0, 0, 0, 0, 0, 0, 0, 0,\n",
      "        0, 0, 0, 0, 0, 0, 0, 0, 0, 0, 0, 0, 0, 0, 0, 0, 0, 0, 0, 0, 0, 0, 0, 0,\n",
      "        0, 0, 0, 0, 0, 0, 0, 0, 0, 0, 0, 0, 0, 0, 0, 0, 0, 0, 0, 0, 0, 0, 0, 0,\n",
      "        0, 0, 0, 0, 0, 0, 0, 0, 0, 0, 0, 0, 0, 0, 0, 0, 0, 0, 0, 0, 0, 0, 0, 0,\n",
      "        0, 0, 0, 0, 0, 0, 0, 0, 0, 0, 0, 0, 0, 0, 0, 0, 0, 0, 0, 0, 0, 0, 0, 0,\n",
      "        0, 0, 0, 0, 0, 0, 0, 0, 0, 0, 0, 0, 0, 0, 0, 0, 0, 0, 0, 0, 0, 0, 0, 0,\n",
      "        0, 0, 0, 0, 0, 0, 0, 0, 0, 0, 0, 0, 0, 0, 0, 0, 0, 0, 0, 0, 0, 0, 0, 0,\n",
      "        0, 0, 0, 0, 0, 0, 0, 0, 0, 0, 0, 0, 0, 0, 0, 0, 0, 0, 0, 0, 0, 0, 0, 0,\n",
      "        0, 0, 0, 0, 0, 0, 0, 0, 0, 0, 0, 0, 0, 0, 0, 0, 0, 0, 0, 0, 0, 0, 0, 0,\n",
      "        0, 0, 0, 0, 0, 0, 0, 0, 0, 0, 0, 0, 0, 0, 0, 0, 0, 0, 0, 0, 0, 0, 0, 0,\n",
      "        0, 0, 0, 0, 0, 0, 0, 0, 0, 0, 0, 0, 0, 0, 0, 0, 0, 0, 0, 0, 0, 0, 0, 0,\n",
      "        0, 0, 0, 0, 0, 0, 0, 0, 0, 0, 0, 0, 0, 0, 0, 0, 0, 0, 0, 0, 0, 0, 0, 0,\n",
      "        0, 0, 0, 0, 0, 0, 0, 0, 0, 0, 0, 0, 0, 0, 0, 0, 0, 0, 0, 0, 0, 0, 0, 0,\n",
      "        0, 0, 0, 0, 0, 0, 0, 0, 0, 0, 0, 0, 0, 0, 0, 0, 0, 0, 0, 0, 0, 0, 0, 0,\n",
      "        0, 0, 0, 0, 0, 0, 0, 0, 0, 0, 0, 0, 0, 0, 0, 0, 0, 0, 0, 0, 0, 0, 0, 0,\n",
      "        0, 0, 0, 0, 0, 0, 0, 0])]\n"
     ]
    }
   ],
   "source": [
    "for batch in forget_loader:\n",
    "    print(batch)\n",
    "    break"
   ]
  },
  {
   "cell_type": "markdown",
   "metadata": {},
   "source": [
    "> From these we can see that eatch batch in the loader is a list [tensor = input features, lables], so depending on how we will write the code we will need to unpack the elements of the list."
   ]
  },
  {
   "cell_type": "markdown",
   "metadata": {
    "id": "FeDuhrlXFA7S"
   },
   "source": [
    "### **Evaluation of the unlearning through MIA attacks and accuracy scores**"
   ]
  },
  {
   "cell_type": "code",
   "execution_count": 86,
   "metadata": {
    "id": "BRXH3_t9GNO1"
   },
   "outputs": [],
   "source": [
    "from sklearn import model_selection, linear_model\n",
    "import numpy as np\n",
    "import torch\n",
    "import matplotlib.pyplot as plt\n",
    "from tqdm import tqdm\n",
    "\n",
    "#Loss function\n",
    "criterion = torch.nn.CrossEntropyLoss()\n",
    "\n",
    "#Accuracy\n",
    "def accuracy(model, loader):\n",
    "    \"\"\"\n",
    "    Computes the accuracy of the model on a given DataLoader.\n",
    "    \"\"\"\n",
    "    correct = 0\n",
    "    total = 0\n",
    "    model.eval()\n",
    "    with torch.no_grad():\n",
    "        for batch in loader:\n",
    "            # Unpack the batch\n",
    "            features, labels = batch\n",
    "            features = features.to(device)\n",
    "            labels = labels.to(device)\n",
    "\n",
    "            # Forward pass\n",
    "            outputs = model(features)\n",
    "            _, predicted = torch.max(outputs, 1)\n",
    "\n",
    "            # Compute correct predictions\n",
    "            correct += (predicted == labels).sum().item()\n",
    "            total += labels.size(0)\n",
    "    return correct / total\n",
    "\n",
    "#MIA\n",
    "def simple_mia(sample_loss, members, n_splits=10, random_state=0):\n",
    "    \"\"\"\n",
    "    Computes cross-validation score of a membership inference attack.\n",
    "\n",
    "    Args:\n",
    "        sample_loss: array_like of shape (n,). Loss values for n samples.\n",
    "        members: array_like of shape (n,). Membership labels (0 or 1).\n",
    "        n_splits: int. Number of splits for cross-validation.\n",
    "        random_state: Random seed for reproducibility.\n",
    "\n",
    "    Returns:\n",
    "        scores: array_like of size (n_splits,). Cross-validation accuracy scores.\n",
    "    \"\"\"\n",
    "    torch.manual_seed(torch.initial_seed())\n",
    "\n",
    "    if not np.array_equal(np.unique(members), [0, 1]):\n",
    "        raise ValueError(\"members should only contain 0 and 1.\")\n",
    "\n",
    "    attack_model = linear_model.LogisticRegression(random_state=random_state)\n",
    "    cv = model_selection.StratifiedShuffleSplit(n_splits=n_splits, random_state=random_state)\n",
    "\n",
    "    return model_selection.cross_val_score(\n",
    "        attack_model, sample_loss, members, cv=cv, scoring=\"accuracy\"\n",
    "    )\n",
    "\n",
    "#Plot loss distributions\n",
    "def plot_loss_distributions(retain_losses, forget_losses):\n",
    "    \"\"\"\n",
    "    Plots the distribution of losses for retain and forget sets.\n",
    "\n",
    "    Args:\n",
    "        retain_losses: List or numpy array of losses for the retain set.\n",
    "        forget_losses: List or numpy array of losses for the forget set.\n",
    "    \"\"\"\n",
    "    plt.figure(figsize=(8, 6))\n",
    "    plt.hist(\n",
    "        retain_losses, bins=50, density=True, alpha=0.5, label=\"Retain\", color='blue'\n",
    "    )\n",
    "    plt.hist(\n",
    "        forget_losses, bins=50, density=True, alpha=0.5, label=\"Forget\", color='red'\n",
    "    )\n",
    "    plt.title(\"Forget Model\")\n",
    "    plt.xlabel(\"Loss\")\n",
    "    plt.ylabel(\"Density\")\n",
    "    plt.legend()\n",
    "    plt.grid()\n",
    "    plt.show()\n",
    "\n",
    "#Evaluate the unlearned model\n",
    "def evaluate_unlearning(forget_model, retain_loader, forget_loader, test_loader):\n",
    "    \"\"\"\n",
    "    Evaluates the model's unlearning performance.\n",
    "\n",
    "    Args:\n",
    "        forget_model: The model to evaluate.\n",
    "        retain_loader: DataLoader for the retained set.\n",
    "        forget_loader: DataLoader for the forgotten set.\n",
    "        test_loader: DataLoader for the test set.\n",
    "\n",
    "    Prints:\n",
    "        Retain, Forget, and Test accuracies.\n",
    "        MIA score for the forget class.\n",
    "        Loss distributions for retain and forget sets.\n",
    "    \"\"\"\n",
    "    device = torch.device(\"cuda\" if torch.cuda.is_available() else \"cpu\")\n",
    "    forget_model.eval()\n",
    "    forget_model.to(device)\n",
    "\n",
    "    #initiliaze the losses \n",
    "    retain_losses = []\n",
    "    forget_losses = []\n",
    "\n",
    "    with torch.no_grad():\n",
    "        for batch in retain_loader: #Unpack the labels and features because of how the retain and forget loarder are structured (see before)\n",
    "            features, labels = batch\n",
    "            features = features.to(device)\n",
    "            labels = labels.to(device)\n",
    "            outputs = forget_model(features)\n",
    "            loss = criterion(outputs, labels)\n",
    "            retain_losses.append(loss.item())\n",
    "\n",
    "        for batch in forget_loader:\n",
    "            features, labels = batch\n",
    "            features = features.to(device)\n",
    "            labels = labels.to(device)\n",
    "            outputs = forget_model(features)\n",
    "            loss = criterion(outputs, labels)\n",
    "            forget_losses.append(loss.item())\n",
    "\n",
    "    plot_loss_distributions(retain_losses, forget_losses)\n",
    "\n",
    "    #MIA inputs\n",
    "    retain_losses = np.array(retain_losses)\n",
    "    forget_losses = np.array(forget_losses)\n",
    "\n",
    "    retain_losses_subsample = np.random.choice(retain_losses, len(forget_losses), replace=False)\n",
    "    sample_losses = np.concatenate([retain_losses_subsample, forget_losses])\n",
    "    members = np.concatenate([np.zeros(len(retain_losses_subsample)), np.ones(len(forget_losses))])\n",
    "\n",
    "    #MIA attack\n",
    "    mia_scores = simple_mia(sample_losses.reshape(-1, 1), members)\n",
    "    print(f\"Forget Model MIA Score: {mia_scores.mean():.4f}\")\n",
    "\n",
    "    #Accuracies\n",
    "    retain_accuracy = accuracy(forget_model, retain_loader)\n",
    "    forget_accuracy = accuracy(forget_model, forget_loader)\n",
    "    test_accuracy = accuracy(forget_model, test_loader)\n",
    "\n",
    "    print(f\"Retain Set Accuracy: {100 * retain_accuracy:.2f}%\")\n",
    "    print(f\"Forget Set Accuracy: {100 * forget_accuracy:.2f}%\")\n",
    "    print(f\"Test Set Accuracy: {100 * test_accuracy:.2f}%\")"
   ]
  },
  {
   "cell_type": "code",
   "execution_count": 87,
   "metadata": {},
   "outputs": [
    {
     "data": {
      "image/png": "[encoded data removed]",
      "text/plain": [
       "<Figure size 800x600 with 1 Axes>"
      ]
     },
     "metadata": {},
     "output_type": "display_data"
    },
    {
     "name": "stdout",
     "output_type": "stream",
     "text": [
      "Forget Model MIA Score: 1.0000\n",
      "Retain Set Accuracy: 88.62%\n",
      "Forget Set Accuracy: 37.18%\n",
      "Test Set Accuracy: 77.86%\n"
     ]
    }
   ],
   "source": [
    "evaluate_unlearning(forget_model, retain_loader, forget_loader, test_loader)"
   ]
  },
  {
   "cell_type": "markdown",
   "metadata": {},
   "source": [
    "The graph shows the loss distribution for retained and forgotten classes following the unlearning process.<br>\n",
    "Retained classes exhibit consistently low loss values, reflecting that the model's performance on these classes remains intact. In contrast, the forgotten class shows a significantly higher and more dispersed loss distribution, which confirms the success of the unlearning mechanism. However, this stark separation indicates that the model has aggressively forgotten the target class, potentially treating its samples as outliers. While effective in achieving the goal of unlearning, this sharp differentiation suggests room for refining the process to strike a better balance between forgetting and generalization.<br>\n",
    "***An extended comment is detailed in the Report***"
   ]
  },
  {
   "cell_type": "markdown",
   "metadata": {},
   "source": [
    "#### **THE REPORT IS IN A PDF DOCUMENT ATTACHED TO THE EMAIL**"
   ]
  }
 ],
 "metadata": {
  "accelerator": "GPU",
  "colab": {
   "gpuType": "T4",
   "provenance": []
  },
  "kernelspec": {
   "display_name": "Python 3",
   "name": "python3"
  },
  "language_info": {
   "codemirror_mode": {
    "name": "ipython",
    "version": 3
   },
   "file_extension": ".py",
   "mimetype": "text/x-python",
   "name": "python",
   "nbconvert_exporter": "python",
   "pygments_lexer": "ipython3",
   "version": "3.11.9"
  }
 },
 "nbformat": 4,
 "nbformat_minor": 0
}
